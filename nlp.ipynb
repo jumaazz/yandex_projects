{
 "cells": [
  {
   "cell_type": "markdown",
   "metadata": {
    "toc": true
   },
   "source": [
    "<h1>Содержание<span class=\"tocSkip\"></span></h1>\n",
    "<div class=\"toc\"><ul class=\"toc-item\"><li><span><a href=\"#Подготовка\" data-toc-modified-id=\"Подготовка-1\"><span class=\"toc-item-num\">1&nbsp;&nbsp;</span>Подготовка</a></span></li><li><span><a href=\"#Обучение\" data-toc-modified-id=\"Обучение-2\"><span class=\"toc-item-num\">2&nbsp;&nbsp;</span>Обучение</a></span></li><li><span><a href=\"#Выводы\" data-toc-modified-id=\"Выводы-3\"><span class=\"toc-item-num\">3&nbsp;&nbsp;</span>Выводы</a></span></li><li><span><a href=\"#Чек-лист-проверки\" data-toc-modified-id=\"Чек-лист-проверки-4\"><span class=\"toc-item-num\">4&nbsp;&nbsp;</span>Чек-лист проверки</a></span></li></ul></div>"
   ]
  },
  {
   "cell_type": "markdown",
   "metadata": {},
   "source": [
    "# Проект для «Викишоп»"
   ]
  },
  {
   "cell_type": "markdown",
   "metadata": {},
   "source": [
    "Интернет-магазин «Викишоп» запускает новый сервис. Теперь пользователи могут редактировать и дополнять описания товаров, как в вики-сообществах. То есть клиенты предлагают свои правки и комментируют изменения других. Магазину нужен инструмент, который будет искать токсичные комментарии и отправлять их на модерацию. \n",
    "\n",
    "Обучите модель классифицировать комментарии на позитивные и негативные. В вашем распоряжении набор данных с разметкой о токсичности правок.\n",
    "\n",
    "Постройте модель со значением метрики качества *F1* не меньше 0.75. \n",
    "\n",
    "**Инструкция по выполнению проекта**\n",
    "\n",
    "1. Загрузите и подготовьте данные.\n",
    "2. Обучите разные модели. \n",
    "3. Сделайте выводы.\n",
    "\n",
    "Для выполнения проекта применять *BERT* необязательно, но вы можете попробовать.\n",
    "\n",
    "**Описание данных**\n",
    "\n",
    "Данные находятся в файле `toxic_comments.csv`. Столбец *text* в нём содержит текст комментария, а *toxic* — целевой признак."
   ]
  },
  {
   "cell_type": "markdown",
   "metadata": {},
   "source": [
    "## Подготовка"
   ]
  },
  {
   "cell_type": "code",
   "execution_count": 5,
   "metadata": {},
   "outputs": [],
   "source": [
    "import pandas as pd\n",
    "import matplotlib.pyplot as plt \n",
    "plt.style.use('seaborn-pastel')\n",
    "import seaborn as sns \n",
    "import numpy as np \n",
    "\n",
    "import nltk\n",
    "from nltk.stem import WordNetLemmatizer\n",
    "from nltk.corpus import stopwords as nltk_stopwords\n",
    "from nltk.corpus import wordnet\n",
    "from nltk.tokenize import word_tokenize\n",
    "from pymystem3 import Mystem\n",
    "\n",
    "import re\n",
    "\n",
    "from sklearn.feature_extraction.text import TfidfVectorizer\n",
    "from sklearn.feature_extraction.text import CountVectorizer\n",
    "\n",
    "from sklearn.model_selection import train_test_split\n",
    "from sklearn.ensemble import RandomForestClassifier\n",
    "from sklearn.tree import DecisionTreeClassifier\n",
    "from sklearn.linear_model import LogisticRegression\n",
    "from sklearn.model_selection import GridSearchCV\n",
    "import lightgbm as lgb\n",
    "from sklearn.metrics import f1_score\n",
    "\n",
    "import time\n"
   ]
  },
  {
   "cell_type": "code",
   "execution_count": 6,
   "metadata": {},
   "outputs": [
    {
     "data": {
      "text/html": [
       "<div>\n",
       "<style scoped>\n",
       "    .dataframe tbody tr th:only-of-type {\n",
       "        vertical-align: middle;\n",
       "    }\n",
       "\n",
       "    .dataframe tbody tr th {\n",
       "        vertical-align: top;\n",
       "    }\n",
       "\n",
       "    .dataframe thead th {\n",
       "        text-align: right;\n",
       "    }\n",
       "</style>\n",
       "<table border=\"1\" class=\"dataframe\">\n",
       "  <thead>\n",
       "    <tr style=\"text-align: right;\">\n",
       "      <th></th>\n",
       "      <th>Unnamed: 0</th>\n",
       "      <th>text</th>\n",
       "      <th>toxic</th>\n",
       "    </tr>\n",
       "  </thead>\n",
       "  <tbody>\n",
       "    <tr>\n",
       "      <th>0</th>\n",
       "      <td>0</td>\n",
       "      <td>Explanation\\nWhy the edits made under my usern...</td>\n",
       "      <td>0</td>\n",
       "    </tr>\n",
       "    <tr>\n",
       "      <th>1</th>\n",
       "      <td>1</td>\n",
       "      <td>D'aww! He matches this background colour I'm s...</td>\n",
       "      <td>0</td>\n",
       "    </tr>\n",
       "    <tr>\n",
       "      <th>2</th>\n",
       "      <td>2</td>\n",
       "      <td>Hey man, I'm really not trying to edit war. It...</td>\n",
       "      <td>0</td>\n",
       "    </tr>\n",
       "    <tr>\n",
       "      <th>3</th>\n",
       "      <td>3</td>\n",
       "      <td>\"\\nMore\\nI can't make any real suggestions on ...</td>\n",
       "      <td>0</td>\n",
       "    </tr>\n",
       "    <tr>\n",
       "      <th>4</th>\n",
       "      <td>4</td>\n",
       "      <td>You, sir, are my hero. Any chance you remember...</td>\n",
       "      <td>0</td>\n",
       "    </tr>\n",
       "  </tbody>\n",
       "</table>\n",
       "</div>"
      ],
      "text/plain": [
       "   Unnamed: 0                                               text  toxic\n",
       "0           0  Explanation\\nWhy the edits made under my usern...      0\n",
       "1           1  D'aww! He matches this background colour I'm s...      0\n",
       "2           2  Hey man, I'm really not trying to edit war. It...      0\n",
       "3           3  \"\\nMore\\nI can't make any real suggestions on ...      0\n",
       "4           4  You, sir, are my hero. Any chance you remember...      0"
      ]
     },
     "execution_count": 6,
     "metadata": {},
     "output_type": "execute_result"
    }
   ],
   "source": [
    "df = pd.read_csv('/Users/dzumahonazizov/Desktop/toxic_comments.csv')\n",
    "df.head()"
   ]
  },
  {
   "cell_type": "code",
   "execution_count": 7,
   "metadata": {},
   "outputs": [
    {
     "name": "stderr",
     "output_type": "stream",
     "text": [
      "[nltk_data] Downloading package punkt to\n",
      "[nltk_data]     /Users/dzumahonazizov/nltk_data...\n",
      "[nltk_data]   Unzipping tokenizers/punkt.zip.\n",
      "[nltk_data] Downloading package wordnet to\n",
      "[nltk_data]     /Users/dzumahonazizov/nltk_data...\n"
     ]
    }
   ],
   "source": [
    "nltk.download('punkt')\n",
    "nltk.download('wordnet')\n",
    "\n",
    "stopwords = set(nltk_stopwords.words('english'))"
   ]
  },
  {
   "cell_type": "markdown",
   "metadata": {},
   "source": [
    "Создадим функцию для токенизации, лемматизации и очищения текста"
   ]
  },
  {
   "cell_type": "code",
   "execution_count": 10,
   "metadata": {},
   "outputs": [
    {
     "data": {
      "application/vnd.jupyter.widget-view+json": {
       "model_id": "9db252e61a9b4e6fb5615389ffeddc11",
       "version_major": 2,
       "version_minor": 0
      },
      "text/plain": [
       "  0%|          | 0/159292 [00:00<?, ?it/s]"
      ]
     },
     "metadata": {},
     "output_type": "display_data"
    },
    {
     "name": "stdout",
     "output_type": "stream",
     "text": [
      "Время: 2849.3866000175476\n"
     ]
    },
    {
     "data": {
      "text/plain": [
       "0         explanation why the edit make under my usernam...\n",
       "1         d aww  he match this background colour I m see...\n",
       "2         hey man  I m really not try to edit war  it s ...\n",
       "3          more I can t make any real suggestion on impr...\n",
       "4         you  sir  be my hero  any chance you remember ...\n",
       "                                ...                        \n",
       "159287     and for the second time of ask  when your vie...\n",
       "159288    you should be ashamed of yourself  that be a h...\n",
       "159289    spitzer  umm  there s no actual article for pr...\n",
       "159290    and it look like it be actually you who put on...\n",
       "159291     and  I really don t think you understand  I c...\n",
       "Name: lemm_text, Length: 159292, dtype: object"
      ]
     },
     "execution_count": 10,
     "metadata": {},
     "output_type": "execute_result"
    }
   ],
   "source": [
    "from tqdm.notebook import tqdm\n",
    "tqdm.pandas()\n",
    "\n",
    "import spacy\n",
    "\n",
    "nlp = spacy.load(\"en_core_web_sm\")\n",
    "\n",
    "def clear_text(text):\n",
    "    return re.sub(r'[^a-zA-Z ]', ' ', text.lower())\n",
    "\n",
    "def lemmatize_with_spacy(text):\n",
    "    doc = nlp(text)\n",
    "    lemmatized_text = \" \".join([token.lemma_.strip() for token in doc])\n",
    "    return lemmatized_text\n",
    "\n",
    "start_time = time.time()\n",
    "df['lemm_text'] = df['text'].apply(clear_text).progress_apply(lemmatize_with_spacy)\n",
    "print(\"Время:\", time.time() - start_time)\n",
    "\n",
    "df['lemm_text']"
   ]
  },
  {
   "cell_type": "markdown",
   "metadata": {},
   "source": [
    "Делим датасет на тестовую и тренировочную выборки, размер тестовой выборки - 20% от общих данных:"
   ]
  },
  {
   "cell_type": "code",
   "execution_count": 11,
   "metadata": {},
   "outputs": [
    {
     "data": {
      "text/plain": [
       "141849     the article claim that the town s name be spe...\n",
       "38990      request creation of  denise milani  I m not a...\n",
       "88766      the  hour block that you place on my account ...\n",
       "137065     I would be greatful if  could explain how a c...\n",
       "31942      jdorney really need to grow up here  first of...\n",
       "                                ...                        \n",
       "106702     excuse I  unless you can provide I source to ...\n",
       "144562    incorrect  you all have make mistake here  sea...\n",
       "3336      complete bull  oakland hasn t make the playoff...\n",
       "73934                   sure  but you ll miss my rfa  talk \n",
       "73485     deletion nomination  thank for support john pi...\n",
       "Name: lemm_text, Length: 127433, dtype: object"
      ]
     },
     "execution_count": 11,
     "metadata": {},
     "output_type": "execute_result"
    }
   ],
   "source": [
    "train_features, test_features, train_target, test_target = train_test_split(\n",
    "    df.drop('toxic', axis=1),\n",
    "    df['toxic'],\n",
    "    test_size=0.2,\n",
    "    random_state=123,\n",
    "    stratify=df['toxic']\n",
    ")\n",
    "\n",
    "corpus_train = train_features['lemm_text']\n",
    "corpus_test = test_features['lemm_text']\n",
    "corpus_train"
   ]
  },
  {
   "cell_type": "markdown",
   "metadata": {},
   "source": [
    "Создаем мешок слов и вычисляем TF-IDF для корпуса текстов"
   ]
  },
  {
   "cell_type": "code",
   "execution_count": 12,
   "metadata": {},
   "outputs": [
    {
     "name": "stdout",
     "output_type": "stream",
     "text": [
      "Размер матрицы: (127433, 132485)\n",
      "Размер матрицы: (31859, 132485)\n"
     ]
    }
   ],
   "source": [
    "count_tf_idf = TfidfVectorizer(stop_words=stopwords)\n",
    "tf_idf_train = count_tf_idf.fit_transform(corpus_train)\n",
    "tf_idf_test = count_tf_idf.transform(corpus_test) \n",
    "\n",
    "print(\"Размер матрицы:\", tf_idf_train.shape) \n",
    "print(\"Размер матрицы:\", tf_idf_test.shape)"
   ]
  },
  {
   "cell_type": "markdown",
   "metadata": {},
   "source": [
    "## Обучение"
   ]
  },
  {
   "cell_type": "markdown",
   "metadata": {},
   "source": [
    "Создадим функцию с GridSearch и подберем 3 модели с наилучшими параметрами и показателями"
   ]
  },
  {
   "cell_type": "code",
   "execution_count": 13,
   "metadata": {},
   "outputs": [],
   "source": [
    "def train_model(model, parameters, scoring='f1', cv=3):\n",
    "    model_grid = GridSearchCV(\n",
    "        estimator=model,\n",
    "        param_grid=parameters,\n",
    "        scoring=scoring,\n",
    "        n_jobs=-1,\n",
    "        cv=cv,\n",
    "        verbose=2\n",
    "    )\n",
    "    \n",
    "    model_grid.fit(tf_idf_train, train_target)\n",
    "    \n",
    "    return model_grid.best_params_, model_grid.best_score_, model_grid.best_estimator_"
   ]
  },
  {
   "cell_type": "markdown",
   "metadata": {},
   "source": [
    "Линейная регрессия"
   ]
  },
  {
   "cell_type": "code",
   "execution_count": 14,
   "metadata": {},
   "outputs": [
    {
     "name": "stdout",
     "output_type": "stream",
     "text": [
      "Fitting 3 folds for each of 4 candidates, totalling 12 fits\n",
      "Лучшие параметры Логистической регрессии: {'class_weight': None, 'penalty': 'l1'}\n",
      "f1: 0.77\n"
     ]
    }
   ],
   "source": [
    "param_grid_lr = {\n",
    "    \"penalty\": ['l1', 'l2'],\n",
    "    \"class_weight\": [None, 'balanced'],\n",
    "}\n",
    "\n",
    "logistic_regression = LogisticRegression(max_iter=1000, solver='liblinear')\n",
    "\n",
    "best_params_lr, f1_lr, best_model_lr = train_model(logistic_regression, param_grid_lr)\n",
    "\n",
    "print(f'Лучшие параметры Логистической регрессии: {best_params_lr}')\n",
    "print(f'f1: {f1_lr:.2f}')"
   ]
  },
  {
   "cell_type": "markdown",
   "metadata": {},
   "source": [
    "Случайный лес"
   ]
  },
  {
   "cell_type": "code",
   "execution_count": 15,
   "metadata": {},
   "outputs": [
    {
     "name": "stdout",
     "output_type": "stream",
     "text": [
      "Fitting 3 folds for each of 18 candidates, totalling 54 fits\n",
      "Лучшие параметры для Случайного леса: {'class_weight': 'balanced', 'max_depth': 12, 'n_estimators': 100}\n",
      "F1 score for Random Forest: 0.36\n"
     ]
    }
   ],
   "source": [
    "param_grid_rf = {\n",
    "    \"n_estimators\": [10, 100, 10],\n",
    "    \"max_depth\": [2, 12, 2],\n",
    "    \"class_weight\": [None, 'balanced']\n",
    "}\n",
    "\n",
    "random_forest = RandomForestClassifier(random_state=123)\n",
    "\n",
    "best_params_rf, f1_rf, best_model_rf = train_model(random_forest, param_grid_rf)\n",
    "\n",
    "print(f'Лучшие параметры для Случайного леса: {best_params_rf}')\n",
    "print(f'F1 score for Random Forest: {f1_rf:.2f}')\n"
   ]
  },
  {
   "cell_type": "markdown",
   "metadata": {},
   "source": [
    "LGBM"
   ]
  },
  {
   "cell_type": "code",
   "execution_count": 16,
   "metadata": {},
   "outputs": [
    {
     "name": "stdout",
     "output_type": "stream",
     "text": [
      "Fitting 3 folds for each of 4 candidates, totalling 12 fits\n",
      "Лучшие параметры для LGBM: {'boosting_type': 'gbdt', 'class_weight': 'balanced', 'learning_rate': 0.1, 'max_depth': 7}\n",
      "F1 score for LGBMClassifier: 0.72\n"
     ]
    }
   ],
   "source": [
    "param_grid_lgb = {\n",
    "    'boosting_type': ['gbdt'],\n",
    "    'max_depth': [5, 7],\n",
    "    'learning_rate': [0.1],\n",
    "    'class_weight': [None, 'balanced']\n",
    "}\n",
    "\n",
    "lgb_classifier = lgb.LGBMClassifier(random_state=123)\n",
    "\n",
    "best_params_lgb, f1_lgb, best_model_lgb = train_model(lgb_classifier, param_grid_lgb)\n",
    "\n",
    "print(f'Лучшие параметры для LGBM: {best_params_lgb}')\n",
    "print(f'F1 score for LGBMClassifier: {f1_lgb:.2f}')"
   ]
  },
  {
   "cell_type": "markdown",
   "metadata": {},
   "source": [
    "## Выводы"
   ]
  },
  {
   "cell_type": "code",
   "execution_count": 17,
   "metadata": {},
   "outputs": [
    {
     "data": {
      "text/html": [
       "<div>\n",
       "<style scoped>\n",
       "    .dataframe tbody tr th:only-of-type {\n",
       "        vertical-align: middle;\n",
       "    }\n",
       "\n",
       "    .dataframe tbody tr th {\n",
       "        vertical-align: top;\n",
       "    }\n",
       "\n",
       "    .dataframe thead th {\n",
       "        text-align: right;\n",
       "    }\n",
       "</style>\n",
       "<table border=\"1\" class=\"dataframe\">\n",
       "  <thead>\n",
       "    <tr style=\"text-align: right;\">\n",
       "      <th></th>\n",
       "      <th>Model</th>\n",
       "      <th>f1</th>\n",
       "    </tr>\n",
       "  </thead>\n",
       "  <tbody>\n",
       "    <tr>\n",
       "      <th>0</th>\n",
       "      <td>LinearRegression</td>\n",
       "      <td>0.767167</td>\n",
       "    </tr>\n",
       "    <tr>\n",
       "      <th>1</th>\n",
       "      <td>LightGBM</td>\n",
       "      <td>0.724762</td>\n",
       "    </tr>\n",
       "    <tr>\n",
       "      <th>2</th>\n",
       "      <td>RandomForest</td>\n",
       "      <td>0.364486</td>\n",
       "    </tr>\n",
       "  </tbody>\n",
       "</table>\n",
       "</div>"
      ],
      "text/plain": [
       "              Model        f1\n",
       "0  LinearRegression  0.767167\n",
       "1          LightGBM  0.724762\n",
       "2      RandomForest  0.364486"
      ]
     },
     "metadata": {},
     "output_type": "display_data"
    }
   ],
   "source": [
    "results = []\n",
    "results.append({'Model': 'LightGBM', 'f1': f1_lgb})\n",
    "results.append({'Model': 'LinearRegression', 'f1': f1_lr})\n",
    "results.append({'Model': 'RandomForest', 'f1': f1_rf})\n",
    "\n",
    "df_results = pd.DataFrame(results)\n",
    "df_results_sorted = df_results.sort_values(by='f1', ignore_index=True, ascending=False)\n",
    "display(df_results_sorted)"
   ]
  },
  {
   "cell_type": "code",
   "execution_count": 18,
   "metadata": {},
   "outputs": [
    {
     "name": "stdout",
     "output_type": "stream",
     "text": [
      "F1: 0.7807598466364588\n",
      "[CV] END ..................class_weight=balanced, penalty=l1; total time=   4.0s\n",
      "[CV] END ....class_weight=None, max_depth=2, n_estimators=10; total time=   2.0s\n",
      "[CV] END ...class_weight=None, max_depth=12, n_estimators=10; total time=   6.2s\n",
      "[CV] END ..class_weight=None, max_depth=12, n_estimators=100; total time=  52.9s\n",
      "[CV] END boosting_type=gbdt, class_weight=None, learning_rate=0.1, max_depth=7; total time=  59.5s\n",
      "[CV] END ......................class_weight=None, penalty=l2; total time=   3.4s\n",
      "[CV] END ...class_weight=None, max_depth=2, n_estimators=100; total time=  11.6s\n",
      "[CV] END ...class_weight=None, max_depth=12, n_estimators=10; total time=   6.3s\n",
      "[CV] END ....class_weight=None, max_depth=2, n_estimators=10; total time=   1.6s\n",
      "[CV] END class_weight=balanced, max_depth=2, n_estimators=10; total time=   1.4s\n",
      "[CV] END class_weight=balanced, max_depth=2, n_estimators=100; total time=  11.1s\n",
      "[CV] END class_weight=balanced, max_depth=12, n_estimators=10; total time=   5.5s\n",
      "[CV] END class_weight=balanced, max_depth=12, n_estimators=10; total time=   5.4s\n",
      "[CV] END class_weight=balanced, max_depth=2, n_estimators=10; total time=   1.6s\n",
      "[CV] END class_weight=balanced, max_depth=2, n_estimators=10; total time=   1.6s\n",
      "[CV] END class_weight=balanced, max_depth=2, n_estimators=10; total time=   1.3s\n",
      "[CV] END class_weight=balanced, max_depth=2, n_estimators=100; total time=  10.4s\n",
      "[CV] END class_weight=balanced, max_depth=2, n_estimators=10; total time=   1.4s\n",
      "[CV] END boosting_type=gbdt, class_weight=None, learning_rate=0.1, max_depth=7; total time= 1.0min\n",
      "[CV] END ......................class_weight=None, penalty=l1; total time=   3.2s\n",
      "[CV] END ..................class_weight=balanced, penalty=l2; total time=   2.4s\n",
      "[CV] END ...class_weight=None, max_depth=2, n_estimators=100; total time=  11.7s\n",
      "[CV] END ....class_weight=None, max_depth=2, n_estimators=10; total time=   1.9s\n",
      "[CV] END ...class_weight=None, max_depth=2, n_estimators=100; total time=  10.9s\n",
      "[CV] END class_weight=balanced, max_depth=2, n_estimators=100; total time=  10.9s\n",
      "[CV] END class_weight=balanced, max_depth=12, n_estimators=10; total time=   5.4s\n",
      "[CV] END class_weight=balanced, max_depth=12, n_estimators=10; total time=   5.7s\n",
      "[CV] END class_weight=balanced, max_depth=2, n_estimators=100; total time=  10.3s\n",
      "[CV] END class_weight=balanced, max_depth=2, n_estimators=10; total time=   1.9s\n",
      "[CV] END boosting_type=gbdt, class_weight=None, learning_rate=0.1, max_depth=5; total time= 1.1min\n",
      "[CV] END ......................class_weight=None, penalty=l2; total time=   3.3s\n",
      "[CV] END ..................class_weight=balanced, penalty=l1; total time=   2.3s\n",
      "[CV] END ....class_weight=None, max_depth=2, n_estimators=10; total time=   1.8s\n",
      "[CV] END ..class_weight=None, max_depth=12, n_estimators=100; total time=  53.7s\n",
      "[CV] END class_weight=balanced, max_depth=2, n_estimators=100; total time=   9.5s\n",
      "[CV] END boosting_type=gbdt, class_weight=None, learning_rate=0.1, max_depth=7; total time= 1.1min\n",
      "[CV] END ......................class_weight=None, penalty=l1; total time=   3.4s\n",
      "[CV] END ..................class_weight=balanced, penalty=l2; total time=   2.1s\n",
      "[CV] END ...class_weight=None, max_depth=2, n_estimators=100; total time=  11.7s\n",
      "[CV] END ....class_weight=None, max_depth=2, n_estimators=10; total time=   1.9s\n",
      "[CV] END ....class_weight=None, max_depth=2, n_estimators=10; total time=   1.3s\n",
      "[CV] END ...class_weight=None, max_depth=2, n_estimators=100; total time=  10.8s\n",
      "[CV] END class_weight=balanced, max_depth=2, n_estimators=10; total time=   1.5s\n",
      "[CV] END class_weight=balanced, max_depth=2, n_estimators=10; total time=   1.7s\n",
      "[CV] END class_weight=balanced, max_depth=12, n_estimators=10; total time=   5.6s\n",
      "[CV] END class_weight=balanced, max_depth=12, n_estimators=100; total time=  42.5s\n",
      "[CV] END boosting_type=gbdt, class_weight=balanced, learning_rate=0.1, max_depth=5; total time=  49.1s\n",
      "[CV] END boosting_type=gbdt, class_weight=balanced, learning_rate=0.1, max_depth=5; total time=  39.1s\n",
      "[CV] END ..................class_weight=balanced, penalty=l1; total time=   4.4s\n",
      "[CV] END ....class_weight=None, max_depth=2, n_estimators=10; total time=   1.7s\n",
      "[CV] END ...class_weight=None, max_depth=12, n_estimators=10; total time=   6.5s\n",
      "[CV] END ...class_weight=None, max_depth=12, n_estimators=10; total time=   6.6s\n",
      "[CV] END ...class_weight=None, max_depth=2, n_estimators=100; total time=  11.1s\n",
      "[CV] END class_weight=balanced, max_depth=2, n_estimators=10; total time=   1.7s\n",
      "[CV] END class_weight=balanced, max_depth=12, n_estimators=10; total time=   6.0s\n",
      "[CV] END class_weight=balanced, max_depth=12, n_estimators=100; total time=  43.8s\n",
      "[CV] END boosting_type=gbdt, class_weight=balanced, learning_rate=0.1, max_depth=5; total time=  49.2s\n",
      "[CV] END boosting_type=gbdt, class_weight=balanced, learning_rate=0.1, max_depth=7; total time=  42.4s\n"
     ]
    }
   ],
   "source": [
    "best_model = best_model_lr\n",
    "\n",
    "predictions = best_model.predict(tf_idf_test)\n",
    "print('F1:', f1_score(test_target, predictions))"
   ]
  },
  {
   "cell_type": "markdown",
   "metadata": {},
   "source": [
    "Модель LinearRegression показывает результат 0.78 что выше 0.75, значит результат нас устраивает, мы проделали отличную работу!"
   ]
  },
  {
   "cell_type": "markdown",
   "metadata": {},
   "source": [
    "## Чек-лист проверки"
   ]
  },
  {
   "cell_type": "markdown",
   "metadata": {},
   "source": [
    "- [x]  Jupyter Notebook открыт\n",
    "- [x]  Весь код выполняется без ошибок\n",
    "- [x]  Ячейки с кодом расположены в порядке исполнения\n",
    "- [x]  Данные загружены и подготовлены\n",
    "- [x]  Модели обучены\n",
    "- [x]  Значение метрики *F1* не меньше 0.75\n",
    "- [x]  Выводы написаны"
   ]
  },
  {
   "cell_type": "markdown",
   "metadata": {},
   "source": []
  }
 ],
 "metadata": {
  "ExecuteTimeLog": [
   {
    "duration": 2276,
    "start_time": "2023-07-20T11:12:58.579Z"
   },
   {
    "duration": 2520,
    "start_time": "2023-07-20T11:13:01.947Z"
   },
   {
    "duration": 299,
    "start_time": "2023-07-20T11:13:32.420Z"
   },
   {
    "duration": 818,
    "start_time": "2023-07-20T11:14:07.198Z"
   },
   {
    "duration": 4,
    "start_time": "2023-07-20T11:15:14.563Z"
   },
   {
    "duration": 4,
    "start_time": "2023-07-20T11:18:57.451Z"
   },
   {
    "duration": 2602,
    "start_time": "2023-07-21T08:06:38.064Z"
   },
   {
    "duration": 2389,
    "start_time": "2023-07-21T08:06:40.668Z"
   },
   {
    "duration": 556,
    "start_time": "2023-07-21T08:06:43.058Z"
   },
   {
    "duration": 4,
    "start_time": "2023-07-21T08:06:43.616Z"
   },
   {
    "duration": 2489,
    "start_time": "2023-07-21T08:07:24.321Z"
   },
   {
    "duration": 2947,
    "start_time": "2023-07-21T08:07:33.387Z"
   },
   {
    "duration": 2979,
    "start_time": "2023-07-21T08:07:58.823Z"
   },
   {
    "duration": 31,
    "start_time": "2023-07-21T08:08:57.755Z"
   },
   {
    "duration": 2004,
    "start_time": "2023-07-21T08:26:43.404Z"
   },
   {
    "duration": 923,
    "start_time": "2023-07-21T08:26:45.410Z"
   },
   {
    "duration": 205,
    "start_time": "2023-07-21T08:26:46.336Z"
   },
   {
    "duration": 4,
    "start_time": "2023-07-21T08:26:46.543Z"
   },
   {
    "duration": 2267,
    "start_time": "2023-07-21T12:15:30.622Z"
   },
   {
    "duration": 2521,
    "start_time": "2023-07-21T12:15:32.892Z"
   },
   {
    "duration": 201,
    "start_time": "2023-07-21T12:15:35.415Z"
   },
   {
    "duration": 4,
    "start_time": "2023-07-21T12:15:35.618Z"
   },
   {
    "duration": 2091,
    "start_time": "2023-07-21T12:28:04.838Z"
   },
   {
    "duration": 868,
    "start_time": "2023-07-21T12:28:06.931Z"
   },
   {
    "duration": 218,
    "start_time": "2023-07-21T12:28:07.801Z"
   },
   {
    "duration": 4,
    "start_time": "2023-07-21T12:28:08.021Z"
   },
   {
    "duration": 2118,
    "start_time": "2023-07-21T12:28:58.600Z"
   },
   {
    "duration": 877,
    "start_time": "2023-07-21T12:29:00.720Z"
   },
   {
    "duration": 237,
    "start_time": "2023-07-21T12:29:01.599Z"
   },
   {
    "duration": 4,
    "start_time": "2023-07-21T12:29:01.838Z"
   },
   {
    "duration": 2093,
    "start_time": "2023-07-21T12:43:06.014Z"
   },
   {
    "duration": 884,
    "start_time": "2023-07-21T12:43:08.109Z"
   },
   {
    "duration": 205,
    "start_time": "2023-07-21T12:43:08.995Z"
   },
   {
    "duration": 4,
    "start_time": "2023-07-21T12:43:09.202Z"
   },
   {
    "duration": 2022,
    "start_time": "2023-07-21T12:44:22.323Z"
   },
   {
    "duration": 859,
    "start_time": "2023-07-21T12:44:24.347Z"
   },
   {
    "duration": 211,
    "start_time": "2023-07-21T12:44:25.209Z"
   },
   {
    "duration": 2038,
    "start_time": "2023-07-21T13:08:30.861Z"
   },
   {
    "duration": 857,
    "start_time": "2023-07-21T13:08:32.901Z"
   },
   {
    "duration": 248,
    "start_time": "2023-07-21T13:08:33.760Z"
   },
   {
    "duration": 1894,
    "start_time": "2023-07-21T13:13:21.142Z"
   },
   {
    "duration": 875,
    "start_time": "2023-07-21T13:13:23.038Z"
   },
   {
    "duration": 218,
    "start_time": "2023-07-21T13:13:23.914Z"
   },
   {
    "duration": 85949,
    "start_time": "2023-07-21T13:13:24.134Z"
   },
   {
    "duration": 136,
    "start_time": "2023-07-21T13:19:24.038Z"
   },
   {
    "duration": 7641,
    "start_time": "2023-07-21T13:19:54.180Z"
   },
   {
    "duration": 141,
    "start_time": "2023-07-21T13:27:46.852Z"
   },
   {
    "duration": 143,
    "start_time": "2023-07-21T13:36:37.337Z"
   },
   {
    "duration": 7,
    "start_time": "2023-07-21T13:37:05.959Z"
   },
   {
    "duration": 18,
    "start_time": "2023-07-21T13:37:09.433Z"
   },
   {
    "duration": 61087,
    "start_time": "2023-07-21T13:39:13.393Z"
   },
   {
    "duration": 148,
    "start_time": "2023-07-21T13:42:59.396Z"
   },
   {
    "duration": 158,
    "start_time": "2023-07-21T13:43:11.874Z"
   },
   {
    "duration": 4332,
    "start_time": "2023-07-21T13:43:29.440Z"
   },
   {
    "duration": 7,
    "start_time": "2023-07-21T13:43:57.907Z"
   },
   {
    "duration": 7,
    "start_time": "2023-07-21T13:44:00.871Z"
   },
   {
    "duration": 8,
    "start_time": "2023-07-21T13:44:07.904Z"
   },
   {
    "duration": 2167,
    "start_time": "2023-07-21T13:44:16.573Z"
   },
   {
    "duration": 907,
    "start_time": "2023-07-21T13:44:18.742Z"
   },
   {
    "duration": 219,
    "start_time": "2023-07-21T13:44:19.651Z"
   },
   {
    "duration": 2570,
    "start_time": "2023-07-21T17:35:49.630Z"
   },
   {
    "duration": 3683,
    "start_time": "2023-07-21T17:35:52.203Z"
   },
   {
    "duration": 402,
    "start_time": "2023-07-21T17:35:55.887Z"
   },
   {
    "duration": 94391,
    "start_time": "2023-07-21T17:35:56.291Z"
   },
   {
    "duration": 132,
    "start_time": "2023-07-21T17:37:30.684Z"
   },
   {
    "duration": 8122,
    "start_time": "2023-07-21T17:37:30.818Z"
   },
   {
    "duration": 7,
    "start_time": "2023-07-21T17:37:38.942Z"
   },
   {
    "duration": 168,
    "start_time": "2023-07-21T17:39:06.516Z"
   },
   {
    "duration": 7,
    "start_time": "2023-07-21T18:06:16.944Z"
   },
   {
    "duration": 7,
    "start_time": "2023-07-21T18:06:19.444Z"
   },
   {
    "duration": 7,
    "start_time": "2023-07-21T18:06:20.233Z"
   },
   {
    "duration": 2060,
    "start_time": "2023-07-21T18:10:22.835Z"
   },
   {
    "duration": 836,
    "start_time": "2023-07-21T18:10:24.898Z"
   },
   {
    "duration": 230,
    "start_time": "2023-07-21T18:10:25.736Z"
   },
   {
    "duration": 85948,
    "start_time": "2023-07-21T18:10:25.969Z"
   },
   {
    "duration": 135,
    "start_time": "2023-07-21T18:11:51.919Z"
   },
   {
    "duration": 7497,
    "start_time": "2023-07-21T18:11:52.056Z"
   },
   {
    "duration": 13,
    "start_time": "2023-07-21T18:11:59.554Z"
   },
   {
    "duration": 2084,
    "start_time": "2023-07-21T18:28:42.793Z"
   },
   {
    "duration": 931,
    "start_time": "2023-07-21T18:28:44.879Z"
   },
   {
    "duration": 209,
    "start_time": "2023-07-21T18:28:45.811Z"
   },
   {
    "duration": 89750,
    "start_time": "2023-07-21T18:28:46.023Z"
   },
   {
    "duration": 150,
    "start_time": "2023-07-21T18:30:15.774Z"
   },
   {
    "duration": 7610,
    "start_time": "2023-07-21T18:30:15.925Z"
   },
   {
    "duration": 4,
    "start_time": "2023-07-21T18:30:23.537Z"
   },
   {
    "duration": 28369,
    "start_time": "2023-07-21T18:30:23.543Z"
   },
   {
    "duration": 2075,
    "start_time": "2023-07-21T18:32:14.140Z"
   },
   {
    "duration": 874,
    "start_time": "2023-07-21T18:32:16.217Z"
   },
   {
    "duration": 243,
    "start_time": "2023-07-21T18:32:17.093Z"
   },
   {
    "duration": 92149,
    "start_time": "2023-07-21T18:32:17.338Z"
   },
   {
    "duration": 144,
    "start_time": "2023-07-21T18:33:49.490Z"
   },
   {
    "duration": 8015,
    "start_time": "2023-07-21T18:33:49.636Z"
   },
   {
    "duration": 5,
    "start_time": "2023-07-21T18:33:57.653Z"
   },
   {
    "duration": 2106,
    "start_time": "2023-07-21T18:37:59.729Z"
   },
   {
    "duration": 945,
    "start_time": "2023-07-21T18:38:01.837Z"
   },
   {
    "duration": 211,
    "start_time": "2023-07-21T18:38:02.784Z"
   },
   {
    "duration": 91624,
    "start_time": "2023-07-21T18:38:02.996Z"
   },
   {
    "duration": 140,
    "start_time": "2023-07-21T18:39:34.622Z"
   },
   {
    "duration": 8043,
    "start_time": "2023-07-21T18:39:34.763Z"
   },
   {
    "duration": 5,
    "start_time": "2023-07-21T18:39:42.808Z"
   },
   {
    "duration": 63478,
    "start_time": "2023-07-21T18:39:42.815Z"
   },
   {
    "duration": 2181,
    "start_time": "2023-07-21T18:45:53.048Z"
   },
   {
    "duration": 862,
    "start_time": "2023-07-21T18:45:55.232Z"
   },
   {
    "duration": 290,
    "start_time": "2023-07-21T18:45:56.096Z"
   },
   {
    "duration": 91671,
    "start_time": "2023-07-21T18:45:56.388Z"
   },
   {
    "duration": 143,
    "start_time": "2023-07-21T18:47:28.068Z"
   },
   {
    "duration": 7985,
    "start_time": "2023-07-21T18:47:28.213Z"
   },
   {
    "duration": 4,
    "start_time": "2023-07-21T18:47:36.199Z"
   },
   {
    "duration": 41121,
    "start_time": "2023-07-21T18:47:36.205Z"
   },
   {
    "duration": 40377,
    "start_time": "2023-07-21T18:49:05.626Z"
   },
   {
    "duration": 4,
    "start_time": "2023-07-21T18:55:13.842Z"
   },
   {
    "duration": 67872,
    "start_time": "2023-07-21T18:56:39.166Z"
   },
   {
    "duration": 70956,
    "start_time": "2023-07-21T18:58:47.775Z"
   },
   {
    "duration": 70201,
    "start_time": "2023-07-21T19:00:32.539Z"
   },
   {
    "duration": 2139,
    "start_time": "2023-07-21T19:09:11.189Z"
   },
   {
    "duration": 924,
    "start_time": "2023-07-21T19:09:13.330Z"
   },
   {
    "duration": 223,
    "start_time": "2023-07-21T19:09:14.257Z"
   },
   {
    "duration": 88015,
    "start_time": "2023-07-21T19:09:14.483Z"
   },
   {
    "duration": 125,
    "start_time": "2023-07-21T19:10:42.500Z"
   },
   {
    "duration": 7511,
    "start_time": "2023-07-21T19:10:42.627Z"
   },
   {
    "duration": 4,
    "start_time": "2023-07-21T19:10:50.140Z"
   },
   {
    "duration": 70800,
    "start_time": "2023-07-21T19:10:50.146Z"
   },
   {
    "duration": 0,
    "start_time": "2023-07-21T19:12:00.948Z"
   },
   {
    "duration": 4,
    "start_time": "2023-07-21T19:12:19.852Z"
   },
   {
    "duration": 4,
    "start_time": "2023-07-21T19:12:20.773Z"
   },
   {
    "duration": 5,
    "start_time": "2023-07-21T19:12:22.123Z"
   },
   {
    "duration": 67126,
    "start_time": "2023-07-21T19:12:23.554Z"
   },
   {
    "duration": 4,
    "start_time": "2023-07-21T19:17:43.326Z"
   },
   {
    "duration": 64449,
    "start_time": "2023-07-21T19:17:45.718Z"
   },
   {
    "duration": 15690,
    "start_time": "2023-07-21T19:18:57.316Z"
   },
   {
    "duration": 16,
    "start_time": "2023-07-21T19:19:21.283Z"
   },
   {
    "duration": 2143,
    "start_time": "2023-07-21T19:21:17.610Z"
   },
   {
    "duration": 940,
    "start_time": "2023-07-21T19:21:19.755Z"
   },
   {
    "duration": 256,
    "start_time": "2023-07-21T19:21:20.697Z"
   },
   {
    "duration": 98502,
    "start_time": "2023-07-21T19:21:20.956Z"
   },
   {
    "duration": 145,
    "start_time": "2023-07-21T19:22:59.460Z"
   },
   {
    "duration": 8500,
    "start_time": "2023-07-21T19:22:59.607Z"
   },
   {
    "duration": 6,
    "start_time": "2023-07-21T19:23:08.110Z"
   },
   {
    "duration": 14,
    "start_time": "2023-07-21T19:23:08.118Z"
   },
   {
    "duration": 209474,
    "start_time": "2023-07-21T19:24:16.096Z"
   },
   {
    "duration": 1876,
    "start_time": "2023-07-21T19:28:06.518Z"
   },
   {
    "duration": 890,
    "start_time": "2023-07-21T19:28:08.396Z"
   },
   {
    "duration": 319,
    "start_time": "2023-07-21T19:28:09.289Z"
   },
   {
    "duration": 87343,
    "start_time": "2023-07-21T19:28:09.610Z"
   },
   {
    "duration": 127,
    "start_time": "2023-07-21T19:29:36.955Z"
   },
   {
    "duration": 7416,
    "start_time": "2023-07-21T19:29:37.083Z"
   },
   {
    "duration": 4,
    "start_time": "2023-07-21T19:29:44.500Z"
   },
   {
    "duration": 23,
    "start_time": "2023-07-21T19:29:44.506Z"
   },
   {
    "duration": 70925,
    "start_time": "2023-07-21T19:29:44.532Z"
   },
   {
    "duration": 209159,
    "start_time": "2023-07-21T19:30:55.459Z"
   },
   {
    "duration": 0,
    "start_time": "2023-07-21T19:38:43.606Z"
   },
   {
    "duration": 0,
    "start_time": "2023-07-21T19:38:43.607Z"
   },
   {
    "duration": 0,
    "start_time": "2023-07-21T19:40:07.075Z"
   },
   {
    "duration": 104524,
    "start_time": "2023-07-21T19:40:20.275Z"
   },
   {
    "duration": 1382678,
    "start_time": "2023-07-21T19:42:27.711Z"
   },
   {
    "duration": 12,
    "start_time": "2023-07-21T20:07:40.472Z"
   },
   {
    "duration": 13,
    "start_time": "2023-07-21T20:07:52.868Z"
   },
   {
    "duration": 11,
    "start_time": "2023-07-21T20:08:09.006Z"
   },
   {
    "duration": 10,
    "start_time": "2023-07-21T20:08:19.769Z"
   },
   {
    "duration": 10,
    "start_time": "2023-07-21T20:08:22.893Z"
   },
   {
    "duration": 11,
    "start_time": "2023-07-21T20:08:32.570Z"
   },
   {
    "duration": 15,
    "start_time": "2023-07-21T20:10:40.923Z"
   },
   {
    "duration": 14,
    "start_time": "2023-07-21T20:12:09.352Z"
   },
   {
    "duration": 69945,
    "start_time": "2023-07-21T20:12:56.295Z"
   },
   {
    "duration": 15,
    "start_time": "2023-07-21T20:14:35.187Z"
   },
   {
    "duration": 16,
    "start_time": "2023-07-21T20:14:48.553Z"
   },
   {
    "duration": 80,
    "start_time": "2023-07-21T20:14:55.280Z"
   },
   {
    "duration": 20,
    "start_time": "2023-07-21T20:15:23.986Z"
   },
   {
    "duration": 76,
    "start_time": "2023-07-21T20:16:29.716Z"
   },
   {
    "duration": 72,
    "start_time": "2023-07-21T20:19:56.321Z"
   },
   {
    "duration": 1746,
    "start_time": "2023-07-21T20:21:07.221Z"
   },
   {
    "duration": 2303,
    "start_time": "2023-07-23T22:48:22.134Z"
   },
   {
    "duration": 3122,
    "start_time": "2023-07-23T22:48:27.420Z"
   },
   {
    "duration": 375,
    "start_time": "2023-07-23T22:48:34.796Z"
   },
   {
    "duration": 2327,
    "start_time": "2023-07-23T22:48:40.243Z"
   },
   {
    "duration": 655,
    "start_time": "2023-07-23T22:49:04.741Z"
   },
   {
    "duration": 2061,
    "start_time": "2023-07-23T22:51:46.848Z"
   },
   {
    "duration": 863,
    "start_time": "2023-07-23T22:51:48.923Z"
   },
   {
    "duration": 234,
    "start_time": "2023-07-23T22:51:49.788Z"
   },
   {
    "duration": 194788,
    "start_time": "2023-07-23T22:51:50.030Z"
   },
   {
    "duration": 3455,
    "start_time": "2023-07-23T22:55:04.823Z"
   },
   {
    "duration": 0,
    "start_time": "2023-07-23T22:55:08.279Z"
   },
   {
    "duration": 0,
    "start_time": "2023-07-23T22:55:08.281Z"
   },
   {
    "duration": 0,
    "start_time": "2023-07-23T22:55:08.282Z"
   },
   {
    "duration": 0,
    "start_time": "2023-07-23T22:55:08.283Z"
   },
   {
    "duration": 1,
    "start_time": "2023-07-23T22:55:08.284Z"
   },
   {
    "duration": 0,
    "start_time": "2023-07-23T22:55:08.286Z"
   },
   {
    "duration": 0,
    "start_time": "2023-07-23T22:55:08.288Z"
   },
   {
    "duration": 122426,
    "start_time": "2023-07-23T23:02:46.187Z"
   },
   {
    "duration": 115,
    "start_time": "2023-07-23T23:08:55.532Z"
   },
   {
    "duration": 32,
    "start_time": "2023-07-23T23:09:01.494Z"
   },
   {
    "duration": 22,
    "start_time": "2023-07-23T23:09:14.835Z"
   },
   {
    "duration": 3015,
    "start_time": "2023-07-23T23:09:28.798Z"
   },
   {
    "duration": 2377,
    "start_time": "2023-07-23T23:10:49.190Z"
   },
   {
    "duration": 2055,
    "start_time": "2023-07-23T23:11:05.790Z"
   },
   {
    "duration": 869,
    "start_time": "2023-07-23T23:11:07.847Z"
   },
   {
    "duration": 320,
    "start_time": "2023-07-23T23:11:08.718Z"
   },
   {
    "duration": 2220,
    "start_time": "2023-07-23T23:11:48.751Z"
   },
   {
    "duration": 943,
    "start_time": "2023-07-23T23:11:50.974Z"
   },
   {
    "duration": 320,
    "start_time": "2023-07-23T23:11:51.919Z"
   },
   {
    "duration": 109795,
    "start_time": "2023-07-23T23:11:52.241Z"
   },
   {
    "duration": 176,
    "start_time": "2023-07-23T23:13:42.038Z"
   },
   {
    "duration": 8631,
    "start_time": "2023-07-23T23:13:42.218Z"
   },
   {
    "duration": 4,
    "start_time": "2023-07-23T23:13:50.852Z"
   },
   {
    "duration": 2228,
    "start_time": "2023-07-23T23:14:52.650Z"
   },
   {
    "duration": 912,
    "start_time": "2023-07-23T23:14:54.880Z"
   },
   {
    "duration": 236,
    "start_time": "2023-07-23T23:14:55.793Z"
   },
   {
    "duration": 106926,
    "start_time": "2023-07-23T23:14:56.031Z"
   },
   {
    "duration": 140,
    "start_time": "2023-07-23T23:16:42.960Z"
   },
   {
    "duration": 7934,
    "start_time": "2023-07-23T23:16:43.102Z"
   },
   {
    "duration": 4,
    "start_time": "2023-07-23T23:16:51.038Z"
   },
   {
    "duration": 5196,
    "start_time": "2023-07-23T23:17:52.435Z"
   },
   {
    "duration": 922,
    "start_time": "2023-07-23T23:17:57.636Z"
   },
   {
    "duration": 322,
    "start_time": "2023-07-23T23:17:58.560Z"
   },
   {
    "duration": 6994,
    "start_time": "2023-07-23T23:17:58.885Z"
   },
   {
    "duration": 0,
    "start_time": "2023-07-23T23:18:05.882Z"
   },
   {
    "duration": 0,
    "start_time": "2023-07-23T23:18:05.883Z"
   },
   {
    "duration": 0,
    "start_time": "2023-07-23T23:18:05.885Z"
   },
   {
    "duration": 0,
    "start_time": "2023-07-23T23:18:05.886Z"
   },
   {
    "duration": 0,
    "start_time": "2023-07-23T23:18:05.887Z"
   },
   {
    "duration": 0,
    "start_time": "2023-07-23T23:18:05.888Z"
   },
   {
    "duration": 0,
    "start_time": "2023-07-23T23:18:05.906Z"
   },
   {
    "duration": 0,
    "start_time": "2023-07-23T23:18:05.907Z"
   },
   {
    "duration": 642,
    "start_time": "2023-07-23T23:19:00.221Z"
   },
   {
    "duration": 8858,
    "start_time": "2023-07-23T23:20:29.492Z"
   },
   {
    "duration": 598,
    "start_time": "2023-07-23T23:20:45.257Z"
   },
   {
    "duration": 2057,
    "start_time": "2023-07-23T23:49:15.677Z"
   },
   {
    "duration": 853,
    "start_time": "2023-07-23T23:49:17.736Z"
   },
   {
    "duration": 226,
    "start_time": "2023-07-23T23:49:18.590Z"
   },
   {
    "duration": 2849324,
    "start_time": "2023-07-23T23:49:18.823Z"
   },
   {
    "duration": 160,
    "start_time": "2023-07-24T00:36:48.150Z"
   },
   {
    "duration": 7886,
    "start_time": "2023-07-24T00:36:48.318Z"
   },
   {
    "duration": 19,
    "start_time": "2023-07-24T00:36:56.206Z"
   },
   {
    "duration": 7278055,
    "start_time": "2023-07-24T00:36:56.228Z"
   },
   {
    "duration": 200397,
    "start_time": "2023-07-24T02:38:14.285Z"
   },
   {
    "duration": 2178,
    "start_time": "2023-07-24T08:53:12.818Z"
   },
   {
    "duration": 3334,
    "start_time": "2023-07-24T08:53:14.998Z"
   },
   {
    "duration": 487,
    "start_time": "2023-07-24T08:53:18.334Z"
   },
   {
    "duration": 2716266,
    "start_time": "2023-07-24T08:53:18.824Z"
   },
   {
    "duration": 140,
    "start_time": "2023-07-24T09:38:35.091Z"
   },
   {
    "duration": 7765,
    "start_time": "2023-07-24T09:38:35.233Z"
   },
   {
    "duration": 4,
    "start_time": "2023-07-24T09:38:43.001Z"
   },
   {
    "duration": 69329,
    "start_time": "2023-07-24T09:38:43.008Z"
   },
   {
    "duration": 208209,
    "start_time": "2023-07-24T09:39:52.339Z"
   },
   {
    "duration": 1573609,
    "start_time": "2023-07-24T09:43:20.551Z"
   },
   {
    "duration": 17,
    "start_time": "2023-07-24T10:09:34.162Z"
   },
   {
    "duration": 380,
    "start_time": "2023-07-24T10:09:34.181Z"
   },
   {
    "duration": 18,
    "start_time": "2023-07-24T10:19:21.945Z"
   },
   {
    "duration": 26,
    "start_time": "2023-07-24T10:21:53.096Z"
   },
   {
    "duration": 22,
    "start_time": "2023-07-24T11:40:28.615Z"
   },
   {
    "duration": 4,
    "start_time": "2023-07-24T11:41:55.924Z"
   },
   {
    "duration": 67770,
    "start_time": "2023-07-24T11:41:58.772Z"
   },
   {
    "duration": 4,
    "start_time": "2023-07-24T11:48:02.521Z"
   },
   {
    "duration": 69628,
    "start_time": "2023-07-24T11:48:04.685Z"
   },
   {
    "duration": 24,
    "start_time": "2023-07-24T11:50:19.986Z"
   }
  ],
  "kernelspec": {
   "display_name": "Python 3 (ipykernel)",
   "language": "python",
   "name": "python3"
  },
  "language_info": {
   "codemirror_mode": {
    "name": "ipython",
    "version": 3
   },
   "file_extension": ".py",
   "mimetype": "text/x-python",
   "name": "python",
   "nbconvert_exporter": "python",
   "pygments_lexer": "ipython3",
   "version": "3.9.13"
  },
  "toc": {
   "base_numbering": 1,
   "nav_menu": {},
   "number_sections": true,
   "sideBar": true,
   "skip_h1_title": true,
   "title_cell": "Содержание",
   "title_sidebar": "Contents",
   "toc_cell": true,
   "toc_position": {
    "height": "calc(100% - 180px)",
    "left": "10px",
    "top": "150px",
    "width": "302.391px"
   },
   "toc_section_display": true,
   "toc_window_display": false
  }
 },
 "nbformat": 4,
 "nbformat_minor": 2
}
