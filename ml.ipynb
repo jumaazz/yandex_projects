{
 "cells": [
  {
   "cell_type": "markdown",
   "metadata": {
    "toc": true
   },
   "source": [
    "<h1>Содержание<span class=\"tocSkip\"></span></h1>\n",
    "<div class=\"toc\"><ul class=\"toc-item\"><li><span><a href=\"#Подготовка-данных\" data-toc-modified-id=\"Подготовка-данных-1\"><span class=\"toc-item-num\">1&nbsp;&nbsp;</span>Подготовка данных</a></span></li><li><span><a href=\"#Анализ-данных\" data-toc-modified-id=\"Анализ-данных-2\"><span class=\"toc-item-num\">2&nbsp;&nbsp;</span>Анализ данных</a></span></li><li><span><a href=\"#Модель\" data-toc-modified-id=\"Модель-3\"><span class=\"toc-item-num\">3&nbsp;&nbsp;</span>Модель</a></span></li></ul></div>"
   ]
  },
  {
   "cell_type": "markdown",
   "metadata": {},
   "source": [
    "# Восстановление золота из руды"
   ]
  },
  {
   "cell_type": "markdown",
   "metadata": {},
   "source": [
    "## Подготовка данных"
   ]
  },
  {
   "cell_type": "code",
   "execution_count": 1,
   "metadata": {},
   "outputs": [],
   "source": [
    "import numpy as np\n",
    "import pandas as pd\n",
    "import seaborn as sns\n",
    "import matplotlib.pyplot as plt\n",
    "from sklearn.metrics import mean_absolute_error\n",
    "from sklearn.model_selection import train_test_split\n",
    "from sklearn.linear_model import LinearRegression\n",
    "from sklearn.ensemble import RandomForestRegressor\n",
    "from sklearn.preprocessing import StandardScaler\n",
    "from sklearn.tree import DecisionTreeRegressor\n",
    "from sklearn.model_selection import cross_val_score\n",
    "from sklearn.metrics import fbeta_score, make_scorer\n",
    "from sklearn.model_selection import GridSearchCV, RandomizedSearchCV\n",
    "from sklearn.dummy import DummyRegressor"
   ]
  },
  {
   "cell_type": "code",
   "execution_count": 2,
   "metadata": {},
   "outputs": [],
   "source": [
    "train = pd.read_csv('/datasets/gold_industry_train.csv')\n",
    "test = pd.read_csv('/datasets/gold_industry_test.csv')\n",
    "full = pd.read_csv('/datasets/gold_industry_full.csv')"
   ]
  },
  {
   "cell_type": "code",
   "execution_count": 3,
   "metadata": {},
   "outputs": [
    {
     "name": "stdout",
     "output_type": "stream",
     "text": [
      "<class 'pandas.core.frame.DataFrame'>\n",
      "RangeIndex: 19439 entries, 0 to 19438\n",
      "Data columns (total 87 columns):\n",
      " #   Column                                              Non-Null Count  Dtype  \n",
      "---  ------                                              --------------  -----  \n",
      " 0   date                                                19439 non-null  object \n",
      " 1   rougher.input.feed_au                               19439 non-null  float64\n",
      " 2   rougher.input.feed_ag                               19439 non-null  float64\n",
      " 3   rougher.input.feed_pb                               19339 non-null  float64\n",
      " 4   rougher.input.feed_sol                              19340 non-null  float64\n",
      " 5   rougher.input.feed_rate                             19428 non-null  float64\n",
      " 6   rougher.input.feed_size                             19294 non-null  float64\n",
      " 7   rougher.input.floatbank10_sulfate                   19405 non-null  float64\n",
      " 8   rougher.input.floatbank10_xanthate                  19431 non-null  float64\n",
      " 9   rougher.state.floatbank10_a_air                     19438 non-null  float64\n",
      " 10  rougher.state.floatbank10_a_level                   19438 non-null  float64\n",
      " 11  rougher.state.floatbank10_b_air                     19438 non-null  float64\n",
      " 12  rougher.state.floatbank10_b_level                   19438 non-null  float64\n",
      " 13  rougher.state.floatbank10_c_air                     19438 non-null  float64\n",
      " 14  rougher.state.floatbank10_c_level                   19438 non-null  float64\n",
      " 15  rougher.state.floatbank10_d_air                     19439 non-null  float64\n",
      " 16  rougher.state.floatbank10_d_level                   19439 non-null  float64\n",
      " 17  rougher.state.floatbank10_e_air                     19003 non-null  float64\n",
      " 18  rougher.state.floatbank10_e_level                   19439 non-null  float64\n",
      " 19  rougher.state.floatbank10_f_air                     19439 non-null  float64\n",
      " 20  rougher.state.floatbank10_f_level                   19439 non-null  float64\n",
      " 21  rougher.input.floatbank11_sulfate                   19395 non-null  float64\n",
      " 22  rougher.input.floatbank11_xanthate                  18986 non-null  float64\n",
      " 23  rougher.calculation.sulfate_to_au_concentrate       19437 non-null  float64\n",
      " 24  rougher.calculation.floatbank10_sulfate_to_au_feed  19437 non-null  float64\n",
      " 25  rougher.calculation.floatbank11_sulfate_to_au_feed  19437 non-null  float64\n",
      " 26  rougher.calculation.au_pb_ratio                     19439 non-null  float64\n",
      " 27  rougher.output.concentrate_au                       19439 non-null  float64\n",
      " 28  rougher.output.concentrate_ag                       19439 non-null  float64\n",
      " 29  rougher.output.concentrate_pb                       19439 non-null  float64\n",
      " 30  rougher.output.concentrate_sol                      19416 non-null  float64\n",
      " 31  rougher.output.recovery                             19439 non-null  float64\n",
      " 32  rougher.output.tail_au                              19439 non-null  float64\n",
      " 33  rougher.output.tail_ag                              19438 non-null  float64\n",
      " 34  rougher.output.tail_pb                              19439 non-null  float64\n",
      " 35  rougher.output.tail_sol                             19439 non-null  float64\n",
      " 36  primary_cleaner.input.sulfate                       19415 non-null  float64\n",
      " 37  primary_cleaner.input.depressant                    19402 non-null  float64\n",
      " 38  primary_cleaner.input.feed_size                     19439 non-null  float64\n",
      " 39  primary_cleaner.input.xanthate                      19335 non-null  float64\n",
      " 40  primary_cleaner.state.floatbank8_a_air              19435 non-null  float64\n",
      " 41  primary_cleaner.state.floatbank8_a_level            19438 non-null  float64\n",
      " 42  primary_cleaner.state.floatbank8_b_air              19435 non-null  float64\n",
      " 43  primary_cleaner.state.floatbank8_b_level            19438 non-null  float64\n",
      " 44  primary_cleaner.state.floatbank8_c_air              19437 non-null  float64\n",
      " 45  primary_cleaner.state.floatbank8_c_level            19438 non-null  float64\n",
      " 46  primary_cleaner.state.floatbank8_d_air              19436 non-null  float64\n",
      " 47  primary_cleaner.state.floatbank8_d_level            19438 non-null  float64\n",
      " 48  primary_cleaner.output.concentrate_au               19439 non-null  float64\n",
      " 49  primary_cleaner.output.concentrate_ag               19439 non-null  float64\n",
      " 50  primary_cleaner.output.concentrate_pb               19323 non-null  float64\n",
      " 51  primary_cleaner.output.concentrate_sol              19069 non-null  float64\n",
      " 52  primary_cleaner.output.tail_au                      19439 non-null  float64\n",
      " 53  primary_cleaner.output.tail_ag                      19435 non-null  float64\n",
      " 54  primary_cleaner.output.tail_pb                      19418 non-null  float64\n",
      " 55  primary_cleaner.output.tail_sol                     19377 non-null  float64\n",
      " 56  secondary_cleaner.state.floatbank2_a_air            19219 non-null  float64\n",
      " 57  secondary_cleaner.state.floatbank2_a_level          19438 non-null  float64\n",
      " 58  secondary_cleaner.state.floatbank2_b_air            19416 non-null  float64\n",
      " 59  secondary_cleaner.state.floatbank2_b_level          19438 non-null  float64\n",
      " 60  secondary_cleaner.state.floatbank3_a_air            19426 non-null  float64\n",
      " 61  secondary_cleaner.state.floatbank3_a_level          19438 non-null  float64\n",
      " 62  secondary_cleaner.state.floatbank3_b_air            19438 non-null  float64\n",
      " 63  secondary_cleaner.state.floatbank3_b_level          19438 non-null  float64\n",
      " 64  secondary_cleaner.state.floatbank4_a_air            19433 non-null  float64\n",
      " 65  secondary_cleaner.state.floatbank4_a_level          19438 non-null  float64\n",
      " 66  secondary_cleaner.state.floatbank4_b_air            19438 non-null  float64\n",
      " 67  secondary_cleaner.state.floatbank4_b_level          19438 non-null  float64\n",
      " 68  secondary_cleaner.state.floatbank5_a_air            19438 non-null  float64\n",
      " 69  secondary_cleaner.state.floatbank5_a_level          19438 non-null  float64\n",
      " 70  secondary_cleaner.state.floatbank5_b_air            19438 non-null  float64\n",
      " 71  secondary_cleaner.state.floatbank5_b_level          19438 non-null  float64\n",
      " 72  secondary_cleaner.state.floatbank6_a_air            19437 non-null  float64\n",
      " 73  secondary_cleaner.state.floatbank6_a_level          19438 non-null  float64\n",
      " 74  secondary_cleaner.output.tail_au                    19439 non-null  float64\n",
      " 75  secondary_cleaner.output.tail_ag                    19437 non-null  float64\n",
      " 76  secondary_cleaner.output.tail_pb                    19427 non-null  float64\n",
      " 77  secondary_cleaner.output.tail_sol                   17691 non-null  float64\n",
      " 78  final.output.concentrate_au                         19439 non-null  float64\n",
      " 79  final.output.concentrate_ag                         19438 non-null  float64\n",
      " 80  final.output.concentrate_pb                         19438 non-null  float64\n",
      " 81  final.output.concentrate_sol                        19228 non-null  float64\n",
      " 82  final.output.recovery                               19439 non-null  float64\n",
      " 83  final.output.tail_au                                19439 non-null  float64\n",
      " 84  final.output.tail_ag                                19438 non-null  float64\n",
      " 85  final.output.tail_pb                                19338 non-null  float64\n",
      " 86  final.output.tail_sol                               19433 non-null  float64\n",
      "dtypes: float64(86), object(1)\n",
      "memory usage: 12.9+ MB\n"
     ]
    }
   ],
   "source": [
    "full.info()"
   ]
  },
  {
   "cell_type": "code",
   "execution_count": 4,
   "metadata": {},
   "outputs": [
    {
     "name": "stdout",
     "output_type": "stream",
     "text": [
      "<class 'pandas.core.frame.DataFrame'>\n",
      "RangeIndex: 14579 entries, 0 to 14578\n",
      "Data columns (total 87 columns):\n",
      " #   Column                                              Non-Null Count  Dtype  \n",
      "---  ------                                              --------------  -----  \n",
      " 0   date                                                14579 non-null  object \n",
      " 1   rougher.input.feed_au                               14579 non-null  float64\n",
      " 2   rougher.input.feed_ag                               14579 non-null  float64\n",
      " 3   rougher.input.feed_pb                               14507 non-null  float64\n",
      " 4   rougher.input.feed_sol                              14502 non-null  float64\n",
      " 5   rougher.input.feed_rate                             14572 non-null  float64\n",
      " 6   rougher.input.feed_size                             14478 non-null  float64\n",
      " 7   rougher.input.floatbank10_sulfate                   14548 non-null  float64\n",
      " 8   rougher.input.floatbank10_xanthate                  14572 non-null  float64\n",
      " 9   rougher.state.floatbank10_a_air                     14579 non-null  float64\n",
      " 10  rougher.state.floatbank10_a_level                   14579 non-null  float64\n",
      " 11  rougher.state.floatbank10_b_air                     14579 non-null  float64\n",
      " 12  rougher.state.floatbank10_b_level                   14579 non-null  float64\n",
      " 13  rougher.state.floatbank10_c_air                     14579 non-null  float64\n",
      " 14  rougher.state.floatbank10_c_level                   14579 non-null  float64\n",
      " 15  rougher.state.floatbank10_d_air                     14579 non-null  float64\n",
      " 16  rougher.state.floatbank10_d_level                   14579 non-null  float64\n",
      " 17  rougher.state.floatbank10_e_air                     14150 non-null  float64\n",
      " 18  rougher.state.floatbank10_e_level                   14579 non-null  float64\n",
      " 19  rougher.state.floatbank10_f_air                     14579 non-null  float64\n",
      " 20  rougher.state.floatbank10_f_level                   14579 non-null  float64\n",
      " 21  rougher.input.floatbank11_sulfate                   14543 non-null  float64\n",
      " 22  rougher.input.floatbank11_xanthate                  14172 non-null  float64\n",
      " 23  rougher.calculation.sulfate_to_au_concentrate       14578 non-null  float64\n",
      " 24  rougher.calculation.floatbank10_sulfate_to_au_feed  14578 non-null  float64\n",
      " 25  rougher.calculation.floatbank11_sulfate_to_au_feed  14578 non-null  float64\n",
      " 26  rougher.calculation.au_pb_ratio                     14579 non-null  float64\n",
      " 27  rougher.output.concentrate_au                       14579 non-null  float64\n",
      " 28  rougher.output.concentrate_ag                       14579 non-null  float64\n",
      " 29  rougher.output.concentrate_pb                       14579 non-null  float64\n",
      " 30  rougher.output.concentrate_sol                      14561 non-null  float64\n",
      " 31  rougher.output.recovery                             14579 non-null  float64\n",
      " 32  rougher.output.tail_au                              14579 non-null  float64\n",
      " 33  rougher.output.tail_ag                              14578 non-null  float64\n",
      " 34  rougher.output.tail_pb                              14579 non-null  float64\n",
      " 35  rougher.output.tail_sol                             14579 non-null  float64\n",
      " 36  primary_cleaner.input.sulfate                       14556 non-null  float64\n",
      " 37  primary_cleaner.input.depressant                    14551 non-null  float64\n",
      " 38  primary_cleaner.input.feed_size                     14579 non-null  float64\n",
      " 39  primary_cleaner.input.xanthate                      14518 non-null  float64\n",
      " 40  primary_cleaner.state.floatbank8_a_air              14576 non-null  float64\n",
      " 41  primary_cleaner.state.floatbank8_a_level            14579 non-null  float64\n",
      " 42  primary_cleaner.state.floatbank8_b_air              14576 non-null  float64\n",
      " 43  primary_cleaner.state.floatbank8_b_level            14579 non-null  float64\n",
      " 44  primary_cleaner.state.floatbank8_c_air              14579 non-null  float64\n",
      " 45  primary_cleaner.state.floatbank8_c_level            14579 non-null  float64\n",
      " 46  primary_cleaner.state.floatbank8_d_air              14578 non-null  float64\n",
      " 47  primary_cleaner.state.floatbank8_d_level            14579 non-null  float64\n",
      " 48  primary_cleaner.output.concentrate_au               14579 non-null  float64\n",
      " 49  primary_cleaner.output.concentrate_ag               14579 non-null  float64\n",
      " 50  primary_cleaner.output.concentrate_pb               14491 non-null  float64\n",
      " 51  primary_cleaner.output.concentrate_sol              14314 non-null  float64\n",
      " 52  primary_cleaner.output.tail_au                      14579 non-null  float64\n",
      " 53  primary_cleaner.output.tail_ag                      14575 non-null  float64\n",
      " 54  primary_cleaner.output.tail_pb                      14573 non-null  float64\n",
      " 55  primary_cleaner.output.tail_sol                     14534 non-null  float64\n",
      " 56  secondary_cleaner.state.floatbank2_a_air            14485 non-null  float64\n",
      " 57  secondary_cleaner.state.floatbank2_a_level          14579 non-null  float64\n",
      " 58  secondary_cleaner.state.floatbank2_b_air            14557 non-null  float64\n",
      " 59  secondary_cleaner.state.floatbank2_b_level          14579 non-null  float64\n",
      " 60  secondary_cleaner.state.floatbank3_a_air            14567 non-null  float64\n",
      " 61  secondary_cleaner.state.floatbank3_a_level          14579 non-null  float64\n",
      " 62  secondary_cleaner.state.floatbank3_b_air            14579 non-null  float64\n",
      " 63  secondary_cleaner.state.floatbank3_b_level          14579 non-null  float64\n",
      " 64  secondary_cleaner.state.floatbank4_a_air            14574 non-null  float64\n",
      " 65  secondary_cleaner.state.floatbank4_a_level          14579 non-null  float64\n",
      " 66  secondary_cleaner.state.floatbank4_b_air            14579 non-null  float64\n",
      " 67  secondary_cleaner.state.floatbank4_b_level          14579 non-null  float64\n",
      " 68  secondary_cleaner.state.floatbank5_a_air            14579 non-null  float64\n",
      " 69  secondary_cleaner.state.floatbank5_a_level          14579 non-null  float64\n",
      " 70  secondary_cleaner.state.floatbank5_b_air            14579 non-null  float64\n",
      " 71  secondary_cleaner.state.floatbank5_b_level          14579 non-null  float64\n",
      " 72  secondary_cleaner.state.floatbank6_a_air            14578 non-null  float64\n",
      " 73  secondary_cleaner.state.floatbank6_a_level          14579 non-null  float64\n",
      " 74  secondary_cleaner.output.tail_au                    14579 non-null  float64\n",
      " 75  secondary_cleaner.output.tail_ag                    14578 non-null  float64\n",
      " 76  secondary_cleaner.output.tail_pb                    14575 non-null  float64\n",
      " 77  secondary_cleaner.output.tail_sol                   13659 non-null  float64\n",
      " 78  final.output.concentrate_au                         14579 non-null  float64\n",
      " 79  final.output.concentrate_ag                         14578 non-null  float64\n",
      " 80  final.output.concentrate_pb                         14578 non-null  float64\n",
      " 81  final.output.concentrate_sol                        14387 non-null  float64\n",
      " 82  final.output.recovery                               14579 non-null  float64\n",
      " 83  final.output.tail_au                                14579 non-null  float64\n",
      " 84  final.output.tail_ag                                14578 non-null  float64\n",
      " 85  final.output.tail_pb                                14504 non-null  float64\n",
      " 86  final.output.tail_sol                               14574 non-null  float64\n",
      "dtypes: float64(86), object(1)\n",
      "memory usage: 9.7+ MB\n"
     ]
    }
   ],
   "source": [
    "train.info()"
   ]
  },
  {
   "cell_type": "code",
   "execution_count": 5,
   "metadata": {},
   "outputs": [],
   "source": [
    "train.dropna(subset = ['rougher.output.recovery'], inplace = True)\n",
    "c = train['rougher.output.concentrate_au']\n",
    "f = train['rougher.input.feed_au']\n",
    "t = train['rougher.output.tail_au']"
   ]
  },
  {
   "cell_type": "code",
   "execution_count": 6,
   "metadata": {},
   "outputs": [],
   "source": [
    "calc = ((c * (f - t)) / (f * (c - t))) * 100\n",
    "old_rec = train['rougher.output.recovery']"
   ]
  },
  {
   "cell_type": "code",
   "execution_count": 7,
   "metadata": {},
   "outputs": [
    {
     "name": "stdout",
     "output_type": "stream",
     "text": [
      "MAE: 9.83758577644259e-15\n"
     ]
    }
   ],
   "source": [
    "print('MAE:', mean_absolute_error(old_rec, calc))"
   ]
  },
  {
   "cell_type": "markdown",
   "metadata": {},
   "source": [
    "MAE - очень маленькое, следовательно различий в данных очень мало, данные посчитаны верно"
   ]
  },
  {
   "cell_type": "code",
   "execution_count": 8,
   "metadata": {},
   "outputs": [
    {
     "data": {
      "text/html": [
       "<div>\n",
       "<style scoped>\n",
       "    .dataframe tbody tr th:only-of-type {\n",
       "        vertical-align: middle;\n",
       "    }\n",
       "\n",
       "    .dataframe tbody tr th {\n",
       "        vertical-align: top;\n",
       "    }\n",
       "\n",
       "    .dataframe thead th {\n",
       "        text-align: right;\n",
       "    }\n",
       "</style>\n",
       "<table border=\"1\" class=\"dataframe\">\n",
       "  <thead>\n",
       "    <tr style=\"text-align: right;\">\n",
       "      <th></th>\n",
       "      <th>rougher.calculation.sulfate_to_au_concentrate</th>\n",
       "      <th>rougher.calculation.floatbank10_sulfate_to_au_feed</th>\n",
       "      <th>rougher.calculation.floatbank11_sulfate_to_au_feed</th>\n",
       "      <th>rougher.calculation.au_pb_ratio</th>\n",
       "      <th>rougher.output.concentrate_au</th>\n",
       "      <th>rougher.output.concentrate_ag</th>\n",
       "      <th>rougher.output.concentrate_pb</th>\n",
       "      <th>rougher.output.concentrate_sol</th>\n",
       "      <th>rougher.output.recovery</th>\n",
       "      <th>rougher.output.tail_au</th>\n",
       "      <th>...</th>\n",
       "      <th>secondary_cleaner.output.tail_sol</th>\n",
       "      <th>final.output.concentrate_au</th>\n",
       "      <th>final.output.concentrate_ag</th>\n",
       "      <th>final.output.concentrate_pb</th>\n",
       "      <th>final.output.concentrate_sol</th>\n",
       "      <th>final.output.recovery</th>\n",
       "      <th>final.output.tail_au</th>\n",
       "      <th>final.output.tail_ag</th>\n",
       "      <th>final.output.tail_pb</th>\n",
       "      <th>final.output.tail_sol</th>\n",
       "    </tr>\n",
       "  </thead>\n",
       "  <tbody>\n",
       "    <tr>\n",
       "      <th>0</th>\n",
       "      <td>41885.707031</td>\n",
       "      <td>3481.779053</td>\n",
       "      <td>3520.337158</td>\n",
       "      <td>2.838687</td>\n",
       "      <td>19.793808</td>\n",
       "      <td>11.500771</td>\n",
       "      <td>7.101074</td>\n",
       "      <td>28.029297</td>\n",
       "      <td>87.107763</td>\n",
       "      <td>1.170244</td>\n",
       "      <td>...</td>\n",
       "      <td>8.764648</td>\n",
       "      <td>42.192020</td>\n",
       "      <td>6.055403</td>\n",
       "      <td>9.889648</td>\n",
       "      <td>5.507324</td>\n",
       "      <td>70.541216</td>\n",
       "      <td>2.143149</td>\n",
       "      <td>10.411962</td>\n",
       "      <td>0.895447</td>\n",
       "      <td>16.904297</td>\n",
       "    </tr>\n",
       "    <tr>\n",
       "      <th>1</th>\n",
       "      <td>42050.861809</td>\n",
       "      <td>3498.370979</td>\n",
       "      <td>3489.981857</td>\n",
       "      <td>2.858998</td>\n",
       "      <td>20.050975</td>\n",
       "      <td>11.615865</td>\n",
       "      <td>7.278807</td>\n",
       "      <td>28.067063</td>\n",
       "      <td>86.843261</td>\n",
       "      <td>1.184827</td>\n",
       "      <td>...</td>\n",
       "      <td>9.001494</td>\n",
       "      <td>42.701629</td>\n",
       "      <td>6.029369</td>\n",
       "      <td>9.968944</td>\n",
       "      <td>5.257781</td>\n",
       "      <td>69.266198</td>\n",
       "      <td>2.224930</td>\n",
       "      <td>10.462676</td>\n",
       "      <td>0.927452</td>\n",
       "      <td>16.634514</td>\n",
       "    </tr>\n",
       "    <tr>\n",
       "      <th>2</th>\n",
       "      <td>42018.101184</td>\n",
       "      <td>3495.348910</td>\n",
       "      <td>3502.359819</td>\n",
       "      <td>2.945989</td>\n",
       "      <td>19.737170</td>\n",
       "      <td>11.695753</td>\n",
       "      <td>7.216833</td>\n",
       "      <td>27.454037</td>\n",
       "      <td>86.842308</td>\n",
       "      <td>1.162562</td>\n",
       "      <td>...</td>\n",
       "      <td>8.842896</td>\n",
       "      <td>42.657501</td>\n",
       "      <td>6.055926</td>\n",
       "      <td>10.213995</td>\n",
       "      <td>5.383759</td>\n",
       "      <td>68.116445</td>\n",
       "      <td>2.257889</td>\n",
       "      <td>10.507046</td>\n",
       "      <td>0.953716</td>\n",
       "      <td>16.208849</td>\n",
       "    </tr>\n",
       "    <tr>\n",
       "      <th>3</th>\n",
       "      <td>42029.447991</td>\n",
       "      <td>3498.578313</td>\n",
       "      <td>3499.162912</td>\n",
       "      <td>3.002340</td>\n",
       "      <td>19.320810</td>\n",
       "      <td>11.915047</td>\n",
       "      <td>7.175616</td>\n",
       "      <td>27.341277</td>\n",
       "      <td>87.226430</td>\n",
       "      <td>1.079755</td>\n",
       "      <td>...</td>\n",
       "      <td>9.122857</td>\n",
       "      <td>42.689819</td>\n",
       "      <td>6.047977</td>\n",
       "      <td>9.977019</td>\n",
       "      <td>4.858634</td>\n",
       "      <td>68.347543</td>\n",
       "      <td>2.146849</td>\n",
       "      <td>10.422762</td>\n",
       "      <td>0.883763</td>\n",
       "      <td>16.532835</td>\n",
       "    </tr>\n",
       "    <tr>\n",
       "      <th>4</th>\n",
       "      <td>42125.354245</td>\n",
       "      <td>3494.800771</td>\n",
       "      <td>3506.679315</td>\n",
       "      <td>3.169615</td>\n",
       "      <td>19.216101</td>\n",
       "      <td>12.411054</td>\n",
       "      <td>7.240205</td>\n",
       "      <td>27.041023</td>\n",
       "      <td>86.688794</td>\n",
       "      <td>1.012642</td>\n",
       "      <td>...</td>\n",
       "      <td>8.871028</td>\n",
       "      <td>42.774141</td>\n",
       "      <td>6.148599</td>\n",
       "      <td>10.142511</td>\n",
       "      <td>4.939416</td>\n",
       "      <td>66.927016</td>\n",
       "      <td>2.055292</td>\n",
       "      <td>10.360302</td>\n",
       "      <td>0.792826</td>\n",
       "      <td>16.525686</td>\n",
       "    </tr>\n",
       "  </tbody>\n",
       "</table>\n",
       "<p>5 rows × 34 columns</p>\n",
       "</div>"
      ],
      "text/plain": [
       "   rougher.calculation.sulfate_to_au_concentrate  \\\n",
       "0                                   41885.707031   \n",
       "1                                   42050.861809   \n",
       "2                                   42018.101184   \n",
       "3                                   42029.447991   \n",
       "4                                   42125.354245   \n",
       "\n",
       "   rougher.calculation.floatbank10_sulfate_to_au_feed  \\\n",
       "0                                        3481.779053    \n",
       "1                                        3498.370979    \n",
       "2                                        3495.348910    \n",
       "3                                        3498.578313    \n",
       "4                                        3494.800771    \n",
       "\n",
       "   rougher.calculation.floatbank11_sulfate_to_au_feed  \\\n",
       "0                                        3520.337158    \n",
       "1                                        3489.981857    \n",
       "2                                        3502.359819    \n",
       "3                                        3499.162912    \n",
       "4                                        3506.679315    \n",
       "\n",
       "   rougher.calculation.au_pb_ratio  rougher.output.concentrate_au  \\\n",
       "0                         2.838687                      19.793808   \n",
       "1                         2.858998                      20.050975   \n",
       "2                         2.945989                      19.737170   \n",
       "3                         3.002340                      19.320810   \n",
       "4                         3.169615                      19.216101   \n",
       "\n",
       "   rougher.output.concentrate_ag  rougher.output.concentrate_pb  \\\n",
       "0                      11.500771                       7.101074   \n",
       "1                      11.615865                       7.278807   \n",
       "2                      11.695753                       7.216833   \n",
       "3                      11.915047                       7.175616   \n",
       "4                      12.411054                       7.240205   \n",
       "\n",
       "   rougher.output.concentrate_sol  rougher.output.recovery  \\\n",
       "0                       28.029297                87.107763   \n",
       "1                       28.067063                86.843261   \n",
       "2                       27.454037                86.842308   \n",
       "3                       27.341277                87.226430   \n",
       "4                       27.041023                86.688794   \n",
       "\n",
       "   rougher.output.tail_au  ...  secondary_cleaner.output.tail_sol  \\\n",
       "0                1.170244  ...                           8.764648   \n",
       "1                1.184827  ...                           9.001494   \n",
       "2                1.162562  ...                           8.842896   \n",
       "3                1.079755  ...                           9.122857   \n",
       "4                1.012642  ...                           8.871028   \n",
       "\n",
       "   final.output.concentrate_au  final.output.concentrate_ag  \\\n",
       "0                    42.192020                     6.055403   \n",
       "1                    42.701629                     6.029369   \n",
       "2                    42.657501                     6.055926   \n",
       "3                    42.689819                     6.047977   \n",
       "4                    42.774141                     6.148599   \n",
       "\n",
       "   final.output.concentrate_pb  final.output.concentrate_sol  \\\n",
       "0                     9.889648                      5.507324   \n",
       "1                     9.968944                      5.257781   \n",
       "2                    10.213995                      5.383759   \n",
       "3                     9.977019                      4.858634   \n",
       "4                    10.142511                      4.939416   \n",
       "\n",
       "   final.output.recovery  final.output.tail_au  final.output.tail_ag  \\\n",
       "0              70.541216              2.143149             10.411962   \n",
       "1              69.266198              2.224930             10.462676   \n",
       "2              68.116445              2.257889             10.507046   \n",
       "3              68.347543              2.146849             10.422762   \n",
       "4              66.927016              2.055292             10.360302   \n",
       "\n",
       "   final.output.tail_pb  final.output.tail_sol  \n",
       "0              0.895447              16.904297  \n",
       "1              0.927452              16.634514  \n",
       "2              0.953716              16.208849  \n",
       "3              0.883763              16.532835  \n",
       "4              0.792826              16.525686  \n",
       "\n",
       "[5 rows x 34 columns]"
      ]
     },
     "execution_count": 8,
     "metadata": {},
     "output_type": "execute_result"
    }
   ],
   "source": [
    "m = train.columns.drop(test.columns)\n",
    "train[m].head()"
   ]
  },
  {
   "cell_type": "markdown",
   "metadata": {},
   "source": [
    "Эти столбцы это целевые признаки, это концентрация различных веществ на выходе после отчистки, а также доля веществ в отвальных хвостах. Эти признаки нужны кроме 'final.output.recovery', 'rougher.output.recovery', для расчета эффективности обогащения это офлайн метрика и они нам больше не нужны, так как мы имитируем модель в реальных условиях протекания технологического процесса."
   ]
  },
  {
   "cell_type": "code",
   "execution_count": 9,
   "metadata": {},
   "outputs": [],
   "source": [
    "c = m.drop(['final.output.recovery', 'rougher.output.recovery'])\n",
    "k = train.columns.drop(c)\n",
    "train = train[k]\n"
   ]
  },
  {
   "cell_type": "code",
   "execution_count": 10,
   "metadata": {},
   "outputs": [
    {
     "data": {
      "text/html": [
       "<div>\n",
       "<style scoped>\n",
       "    .dataframe tbody tr th:only-of-type {\n",
       "        vertical-align: middle;\n",
       "    }\n",
       "\n",
       "    .dataframe tbody tr th {\n",
       "        vertical-align: top;\n",
       "    }\n",
       "\n",
       "    .dataframe thead th {\n",
       "        text-align: right;\n",
       "    }\n",
       "</style>\n",
       "<table border=\"1\" class=\"dataframe\">\n",
       "  <thead>\n",
       "    <tr style=\"text-align: right;\">\n",
       "      <th></th>\n",
       "      <th>date</th>\n",
       "      <th>rougher.input.feed_au</th>\n",
       "      <th>rougher.input.feed_ag</th>\n",
       "      <th>rougher.input.feed_pb</th>\n",
       "      <th>rougher.input.feed_sol</th>\n",
       "      <th>rougher.input.feed_rate</th>\n",
       "      <th>rougher.input.feed_size</th>\n",
       "      <th>rougher.input.floatbank10_sulfate</th>\n",
       "      <th>rougher.input.floatbank10_xanthate</th>\n",
       "      <th>rougher.state.floatbank10_a_air</th>\n",
       "      <th>...</th>\n",
       "      <th>secondary_cleaner.state.floatbank4_a_air</th>\n",
       "      <th>secondary_cleaner.state.floatbank4_a_level</th>\n",
       "      <th>secondary_cleaner.state.floatbank4_b_air</th>\n",
       "      <th>secondary_cleaner.state.floatbank4_b_level</th>\n",
       "      <th>secondary_cleaner.state.floatbank5_a_air</th>\n",
       "      <th>secondary_cleaner.state.floatbank5_a_level</th>\n",
       "      <th>secondary_cleaner.state.floatbank5_b_air</th>\n",
       "      <th>secondary_cleaner.state.floatbank5_b_level</th>\n",
       "      <th>secondary_cleaner.state.floatbank6_a_air</th>\n",
       "      <th>secondary_cleaner.state.floatbank6_a_level</th>\n",
       "    </tr>\n",
       "  </thead>\n",
       "  <tbody>\n",
       "    <tr>\n",
       "      <th>0</th>\n",
       "      <td>2017-12-09 14:59:59</td>\n",
       "      <td>4.365491</td>\n",
       "      <td>6.158718</td>\n",
       "      <td>3.875727</td>\n",
       "      <td>39.135119</td>\n",
       "      <td>555.820208</td>\n",
       "      <td>94.544358</td>\n",
       "      <td>6.146982</td>\n",
       "      <td>9.308612</td>\n",
       "      <td>1196.238112</td>\n",
       "      <td>...</td>\n",
       "      <td>23.018622</td>\n",
       "      <td>-500.492702</td>\n",
       "      <td>20.020205</td>\n",
       "      <td>-500.220296</td>\n",
       "      <td>17.963512</td>\n",
       "      <td>-499.93949</td>\n",
       "      <td>12.990306</td>\n",
       "      <td>-500.080993</td>\n",
       "      <td>19.990336</td>\n",
       "      <td>-499.191575</td>\n",
       "    </tr>\n",
       "  </tbody>\n",
       "</table>\n",
       "<p>1 rows × 53 columns</p>\n",
       "</div>"
      ],
      "text/plain": [
       "                  date  rougher.input.feed_au  rougher.input.feed_ag  \\\n",
       "0  2017-12-09 14:59:59               4.365491               6.158718   \n",
       "\n",
       "   rougher.input.feed_pb  rougher.input.feed_sol  rougher.input.feed_rate  \\\n",
       "0               3.875727               39.135119               555.820208   \n",
       "\n",
       "   rougher.input.feed_size  rougher.input.floatbank10_sulfate  \\\n",
       "0                94.544358                           6.146982   \n",
       "\n",
       "   rougher.input.floatbank10_xanthate  rougher.state.floatbank10_a_air  ...  \\\n",
       "0                            9.308612                      1196.238112  ...   \n",
       "\n",
       "   secondary_cleaner.state.floatbank4_a_air  \\\n",
       "0                                 23.018622   \n",
       "\n",
       "   secondary_cleaner.state.floatbank4_a_level  \\\n",
       "0                                 -500.492702   \n",
       "\n",
       "   secondary_cleaner.state.floatbank4_b_air  \\\n",
       "0                                 20.020205   \n",
       "\n",
       "   secondary_cleaner.state.floatbank4_b_level  \\\n",
       "0                                 -500.220296   \n",
       "\n",
       "   secondary_cleaner.state.floatbank5_a_air  \\\n",
       "0                                 17.963512   \n",
       "\n",
       "   secondary_cleaner.state.floatbank5_a_level  \\\n",
       "0                                  -499.93949   \n",
       "\n",
       "   secondary_cleaner.state.floatbank5_b_air  \\\n",
       "0                                 12.990306   \n",
       "\n",
       "   secondary_cleaner.state.floatbank5_b_level  \\\n",
       "0                                 -500.080993   \n",
       "\n",
       "   secondary_cleaner.state.floatbank6_a_air  \\\n",
       "0                                 19.990336   \n",
       "\n",
       "   secondary_cleaner.state.floatbank6_a_level  \n",
       "0                                 -499.191575  \n",
       "\n",
       "[1 rows x 53 columns]"
      ]
     },
     "execution_count": 10,
     "metadata": {},
     "output_type": "execute_result"
    }
   ],
   "source": [
    "test.head(1)"
   ]
  },
  {
   "cell_type": "code",
   "execution_count": 11,
   "metadata": {},
   "outputs": [
    {
     "name": "stdout",
     "output_type": "stream",
     "text": [
      "<class 'pandas.core.frame.DataFrame'>\n",
      "Int64Index: 14579 entries, 0 to 14578\n",
      "Data columns (total 55 columns):\n",
      " #   Column                                      Non-Null Count  Dtype  \n",
      "---  ------                                      --------------  -----  \n",
      " 0   date                                        14579 non-null  object \n",
      " 1   rougher.input.feed_au                       14579 non-null  float64\n",
      " 2   rougher.input.feed_ag                       14579 non-null  float64\n",
      " 3   rougher.input.feed_pb                       14507 non-null  float64\n",
      " 4   rougher.input.feed_sol                      14502 non-null  float64\n",
      " 5   rougher.input.feed_rate                     14572 non-null  float64\n",
      " 6   rougher.input.feed_size                     14478 non-null  float64\n",
      " 7   rougher.input.floatbank10_sulfate           14548 non-null  float64\n",
      " 8   rougher.input.floatbank10_xanthate          14572 non-null  float64\n",
      " 9   rougher.state.floatbank10_a_air             14579 non-null  float64\n",
      " 10  rougher.state.floatbank10_a_level           14579 non-null  float64\n",
      " 11  rougher.state.floatbank10_b_air             14579 non-null  float64\n",
      " 12  rougher.state.floatbank10_b_level           14579 non-null  float64\n",
      " 13  rougher.state.floatbank10_c_air             14579 non-null  float64\n",
      " 14  rougher.state.floatbank10_c_level           14579 non-null  float64\n",
      " 15  rougher.state.floatbank10_d_air             14579 non-null  float64\n",
      " 16  rougher.state.floatbank10_d_level           14579 non-null  float64\n",
      " 17  rougher.state.floatbank10_e_air             14150 non-null  float64\n",
      " 18  rougher.state.floatbank10_e_level           14579 non-null  float64\n",
      " 19  rougher.state.floatbank10_f_air             14579 non-null  float64\n",
      " 20  rougher.state.floatbank10_f_level           14579 non-null  float64\n",
      " 21  rougher.input.floatbank11_sulfate           14543 non-null  float64\n",
      " 22  rougher.input.floatbank11_xanthate          14172 non-null  float64\n",
      " 23  rougher.output.recovery                     14579 non-null  float64\n",
      " 24  primary_cleaner.input.sulfate               14556 non-null  float64\n",
      " 25  primary_cleaner.input.depressant            14551 non-null  float64\n",
      " 26  primary_cleaner.input.feed_size             14579 non-null  float64\n",
      " 27  primary_cleaner.input.xanthate              14518 non-null  float64\n",
      " 28  primary_cleaner.state.floatbank8_a_air      14576 non-null  float64\n",
      " 29  primary_cleaner.state.floatbank8_a_level    14579 non-null  float64\n",
      " 30  primary_cleaner.state.floatbank8_b_air      14576 non-null  float64\n",
      " 31  primary_cleaner.state.floatbank8_b_level    14579 non-null  float64\n",
      " 32  primary_cleaner.state.floatbank8_c_air      14579 non-null  float64\n",
      " 33  primary_cleaner.state.floatbank8_c_level    14579 non-null  float64\n",
      " 34  primary_cleaner.state.floatbank8_d_air      14578 non-null  float64\n",
      " 35  primary_cleaner.state.floatbank8_d_level    14579 non-null  float64\n",
      " 36  secondary_cleaner.state.floatbank2_a_air    14485 non-null  float64\n",
      " 37  secondary_cleaner.state.floatbank2_a_level  14579 non-null  float64\n",
      " 38  secondary_cleaner.state.floatbank2_b_air    14557 non-null  float64\n",
      " 39  secondary_cleaner.state.floatbank2_b_level  14579 non-null  float64\n",
      " 40  secondary_cleaner.state.floatbank3_a_air    14567 non-null  float64\n",
      " 41  secondary_cleaner.state.floatbank3_a_level  14579 non-null  float64\n",
      " 42  secondary_cleaner.state.floatbank3_b_air    14579 non-null  float64\n",
      " 43  secondary_cleaner.state.floatbank3_b_level  14579 non-null  float64\n",
      " 44  secondary_cleaner.state.floatbank4_a_air    14574 non-null  float64\n",
      " 45  secondary_cleaner.state.floatbank4_a_level  14579 non-null  float64\n",
      " 46  secondary_cleaner.state.floatbank4_b_air    14579 non-null  float64\n",
      " 47  secondary_cleaner.state.floatbank4_b_level  14579 non-null  float64\n",
      " 48  secondary_cleaner.state.floatbank5_a_air    14579 non-null  float64\n",
      " 49  secondary_cleaner.state.floatbank5_a_level  14579 non-null  float64\n",
      " 50  secondary_cleaner.state.floatbank5_b_air    14579 non-null  float64\n",
      " 51  secondary_cleaner.state.floatbank5_b_level  14579 non-null  float64\n",
      " 52  secondary_cleaner.state.floatbank6_a_air    14578 non-null  float64\n",
      " 53  secondary_cleaner.state.floatbank6_a_level  14579 non-null  float64\n",
      " 54  final.output.recovery                       14579 non-null  float64\n",
      "dtypes: float64(54), object(1)\n",
      "memory usage: 6.2+ MB\n"
     ]
    }
   ],
   "source": [
    "train.info()"
   ]
  },
  {
   "cell_type": "code",
   "execution_count": 12,
   "metadata": {},
   "outputs": [
    {
     "name": "stdout",
     "output_type": "stream",
     "text": [
      "<class 'pandas.core.frame.DataFrame'>\n",
      "RangeIndex: 4860 entries, 0 to 4859\n",
      "Data columns (total 53 columns):\n",
      " #   Column                                      Non-Null Count  Dtype  \n",
      "---  ------                                      --------------  -----  \n",
      " 0   date                                        4860 non-null   object \n",
      " 1   rougher.input.feed_au                       4860 non-null   float64\n",
      " 2   rougher.input.feed_ag                       4860 non-null   float64\n",
      " 3   rougher.input.feed_pb                       4832 non-null   float64\n",
      " 4   rougher.input.feed_sol                      4838 non-null   float64\n",
      " 5   rougher.input.feed_rate                     4856 non-null   float64\n",
      " 6   rougher.input.feed_size                     4816 non-null   float64\n",
      " 7   rougher.input.floatbank10_sulfate           4857 non-null   float64\n",
      " 8   rougher.input.floatbank10_xanthate          4859 non-null   float64\n",
      " 9   rougher.state.floatbank10_a_air             4859 non-null   float64\n",
      " 10  rougher.state.floatbank10_a_level           4859 non-null   float64\n",
      " 11  rougher.state.floatbank10_b_air             4859 non-null   float64\n",
      " 12  rougher.state.floatbank10_b_level           4859 non-null   float64\n",
      " 13  rougher.state.floatbank10_c_air             4859 non-null   float64\n",
      " 14  rougher.state.floatbank10_c_level           4859 non-null   float64\n",
      " 15  rougher.state.floatbank10_d_air             4860 non-null   float64\n",
      " 16  rougher.state.floatbank10_d_level           4860 non-null   float64\n",
      " 17  rougher.state.floatbank10_e_air             4853 non-null   float64\n",
      " 18  rougher.state.floatbank10_e_level           4860 non-null   float64\n",
      " 19  rougher.state.floatbank10_f_air             4860 non-null   float64\n",
      " 20  rougher.state.floatbank10_f_level           4860 non-null   float64\n",
      " 21  rougher.input.floatbank11_sulfate           4852 non-null   float64\n",
      " 22  rougher.input.floatbank11_xanthate          4814 non-null   float64\n",
      " 23  primary_cleaner.input.sulfate               4859 non-null   float64\n",
      " 24  primary_cleaner.input.depressant            4851 non-null   float64\n",
      " 25  primary_cleaner.input.feed_size             4860 non-null   float64\n",
      " 26  primary_cleaner.input.xanthate              4817 non-null   float64\n",
      " 27  primary_cleaner.state.floatbank8_a_air      4859 non-null   float64\n",
      " 28  primary_cleaner.state.floatbank8_a_level    4859 non-null   float64\n",
      " 29  primary_cleaner.state.floatbank8_b_air      4859 non-null   float64\n",
      " 30  primary_cleaner.state.floatbank8_b_level    4859 non-null   float64\n",
      " 31  primary_cleaner.state.floatbank8_c_air      4858 non-null   float64\n",
      " 32  primary_cleaner.state.floatbank8_c_level    4859 non-null   float64\n",
      " 33  primary_cleaner.state.floatbank8_d_air      4858 non-null   float64\n",
      " 34  primary_cleaner.state.floatbank8_d_level    4859 non-null   float64\n",
      " 35  secondary_cleaner.state.floatbank2_a_air    4734 non-null   float64\n",
      " 36  secondary_cleaner.state.floatbank2_a_level  4859 non-null   float64\n",
      " 37  secondary_cleaner.state.floatbank2_b_air    4859 non-null   float64\n",
      " 38  secondary_cleaner.state.floatbank2_b_level  4859 non-null   float64\n",
      " 39  secondary_cleaner.state.floatbank3_a_air    4859 non-null   float64\n",
      " 40  secondary_cleaner.state.floatbank3_a_level  4859 non-null   float64\n",
      " 41  secondary_cleaner.state.floatbank3_b_air    4859 non-null   float64\n",
      " 42  secondary_cleaner.state.floatbank3_b_level  4859 non-null   float64\n",
      " 43  secondary_cleaner.state.floatbank4_a_air    4859 non-null   float64\n",
      " 44  secondary_cleaner.state.floatbank4_a_level  4859 non-null   float64\n",
      " 45  secondary_cleaner.state.floatbank4_b_air    4859 non-null   float64\n",
      " 46  secondary_cleaner.state.floatbank4_b_level  4859 non-null   float64\n",
      " 47  secondary_cleaner.state.floatbank5_a_air    4859 non-null   float64\n",
      " 48  secondary_cleaner.state.floatbank5_a_level  4859 non-null   float64\n",
      " 49  secondary_cleaner.state.floatbank5_b_air    4859 non-null   float64\n",
      " 50  secondary_cleaner.state.floatbank5_b_level  4859 non-null   float64\n",
      " 51  secondary_cleaner.state.floatbank6_a_air    4859 non-null   float64\n",
      " 52  secondary_cleaner.state.floatbank6_a_level  4859 non-null   float64\n",
      "dtypes: float64(52), object(1)\n",
      "memory usage: 2.0+ MB\n"
     ]
    }
   ],
   "source": [
    "test.info()"
   ]
  },
  {
   "cell_type": "markdown",
   "metadata": {},
   "source": [
    "## Анализ данных"
   ]
  },
  {
   "cell_type": "code",
   "execution_count": 13,
   "metadata": {},
   "outputs": [],
   "source": [
    "au_data = (full[[\n",
    "    'rougher.input.feed_au', \n",
    "    'rougher.output.concentrate_au', \n",
    "    'primary_cleaner.output.concentrate_au', \n",
    "    'final.output.concentrate_au']])\n",
    "ag_data = (full[[\n",
    "    'rougher.input.feed_ag', \n",
    "    'rougher.output.concentrate_ag', \n",
    "    'primary_cleaner.output.concentrate_ag', \n",
    "    'final.output.concentrate_ag']])\n",
    "pb_data = (full[[\n",
    "    'rougher.input.feed_pb', \n",
    "    'rougher.output.concentrate_pb', \n",
    "    'primary_cleaner.output.concentrate_pb', \n",
    "    'final.output.concentrate_pb']])"
   ]
  },
  {
   "cell_type": "code",
   "execution_count": 14,
   "metadata": {},
   "outputs": [],
   "source": [
    "def hist (data, title):\n",
    "    fig, ax = plt.subplots()\n",
    "    ax.set_ylabel('Кол-во наблюдений')\n",
    "    ax.set_xlabel('Концентрация металла')\n",
    "    ax.set_title(title)\n",
    "    for col in data:\n",
    "        data[col].hist(alpha=.3) \n",
    "        ax.legend(['Исходное сырье','Флотация','Первичная очистка', 'Вторичная очистка'])"
   ]
  },
  {
   "cell_type": "code",
   "execution_count": 15,
   "metadata": {},
   "outputs": [
    {
     "data": {
      "image/png": "[encoded data removed]",
      "text/plain": [
       "<Figure size 432x288 with 1 Axes>"
      ]
     },
     "metadata": {
      "needs_background": "light"
     },
     "output_type": "display_data"
    }
   ],
   "source": [
    "hist(au_data, 'Золото')"
   ]
  },
  {
   "cell_type": "code",
   "execution_count": 16,
   "metadata": {},
   "outputs": [
    {
     "data": {
      "image/png": "[encoded data removed]",
      "text/plain": [
       "<Figure size 432x288 with 1 Axes>"
      ]
     },
     "metadata": {
      "needs_background": "light"
     },
     "output_type": "display_data"
    }
   ],
   "source": [
    "hist(ag_data, 'Серебро')"
   ]
  },
  {
   "cell_type": "code",
   "execution_count": 17,
   "metadata": {},
   "outputs": [
    {
     "data": {
      "image/png": "[encoded data removed]",
      "text/plain": [
       "<Figure size 432x288 with 1 Axes>"
      ]
     },
     "metadata": {
      "needs_background": "light"
     },
     "output_type": "display_data"
    }
   ],
   "source": [
    "hist(pb_data, 'Свинец')"
   ]
  },
  {
   "cell_type": "markdown",
   "metadata": {},
   "source": [
    "Видно, что контрация металла по разному себя ведет. В золоте концетрация увеличивается с каждым этапом. У серебра самая низкая коцентрация при вторичной очистке и самая высокая при флотации. У свинца же концетрация растет при кадом этапе, но при очстках она идентична."
   ]
  },
  {
   "cell_type": "code",
   "execution_count": 18,
   "metadata": {
    "scrolled": true
   },
   "outputs": [
    {
     "name": "stderr",
     "output_type": "stream",
     "text": [
      "/tmp/ipykernel_48/4053942796.py:2: SettingWithCopyWarning: \n",
      "A value is trying to be set on a copy of a slice from a DataFrame.\n",
      "Try using .loc[row_indexer,col_indexer] = value instead\n",
      "\n",
      "See the caveats in the documentation: https://pandas.pydata.org/pandas-docs/stable/user_guide/indexing.html#returning-a-view-versus-a-copy\n",
      "  concentrate_data['conc_sum_rougher_input'] = concentrate_data['rougher.input.feed_ag'] + concentrate_data['rougher.input.feed_pb'] + concentrate_data['rougher.input.feed_sol'] + concentrate_data['rougher.input.feed_au']\n",
      "/tmp/ipykernel_48/4053942796.py:3: SettingWithCopyWarning: \n",
      "A value is trying to be set on a copy of a slice from a DataFrame.\n",
      "Try using .loc[row_indexer,col_indexer] = value instead\n",
      "\n",
      "See the caveats in the documentation: https://pandas.pydata.org/pandas-docs/stable/user_guide/indexing.html#returning-a-view-versus-a-copy\n",
      "  concentrate_data['conc_sum_rougher_output'] = concentrate_data['rougher.output.concentrate_ag'] + concentrate_data['rougher.output.concentrate_pb'] + concentrate_data['rougher.output.concentrate_sol']\n",
      "/tmp/ipykernel_48/4053942796.py:4: SettingWithCopyWarning: \n",
      "A value is trying to be set on a copy of a slice from a DataFrame.\n",
      "Try using .loc[row_indexer,col_indexer] = value instead\n",
      "\n",
      "See the caveats in the documentation: https://pandas.pydata.org/pandas-docs/stable/user_guide/indexing.html#returning-a-view-versus-a-copy\n",
      "  concentrate_data['conc_sum_primary'] = concentrate_data['primary_cleaner.output.concentrate_ag'] + concentrate_data['primary_cleaner.output.concentrate_pb'] + concentrate_data['primary_cleaner.output.concentrate_sol'] + concentrate_data['primary_cleaner.output.concentrate_au']\n",
      "/tmp/ipykernel_48/4053942796.py:5: SettingWithCopyWarning: \n",
      "A value is trying to be set on a copy of a slice from a DataFrame.\n",
      "Try using .loc[row_indexer,col_indexer] = value instead\n",
      "\n",
      "See the caveats in the documentation: https://pandas.pydata.org/pandas-docs/stable/user_guide/indexing.html#returning-a-view-versus-a-copy\n",
      "  concentrate_data['conc_sum_final'] = concentrate_data['final.output.concentrate_ag'] + concentrate_data['final.output.concentrate_pb'] + concentrate_data['final.output.concentrate_sol'] + concentrate_data['final.output.concentrate_au']\n"
     ]
    }
   ],
   "source": [
    "concentrate_data = full[['date','rougher.input.feed_ag', 'rougher.input.feed_pb', 'rougher.input.feed_sol', 'rougher.output.concentrate_ag', 'rougher.output.concentrate_pb', 'rougher.output.concentrate_sol',  'rougher.input.feed_au', 'primary_cleaner.output.concentrate_ag', 'primary_cleaner.output.concentrate_pb', 'primary_cleaner.output.concentrate_sol', 'primary_cleaner.output.concentrate_au', 'final.output.concentrate_ag', 'final.output.concentrate_pb', 'final.output.concentrate_sol', 'final.output.concentrate_au']]\n",
    "concentrate_data['conc_sum_rougher_input'] = concentrate_data['rougher.input.feed_ag'] + concentrate_data['rougher.input.feed_pb'] + concentrate_data['rougher.input.feed_sol'] + concentrate_data['rougher.input.feed_au'] \n",
    "concentrate_data['conc_sum_rougher_output'] = concentrate_data['rougher.output.concentrate_ag'] + concentrate_data['rougher.output.concentrate_pb'] + concentrate_data['rougher.output.concentrate_sol']\n",
    "concentrate_data['conc_sum_primary'] = concentrate_data['primary_cleaner.output.concentrate_ag'] + concentrate_data['primary_cleaner.output.concentrate_pb'] + concentrate_data['primary_cleaner.output.concentrate_sol'] + concentrate_data['primary_cleaner.output.concentrate_au']\n",
    "concentrate_data['conc_sum_final'] = concentrate_data['final.output.concentrate_ag'] + concentrate_data['final.output.concentrate_pb'] + concentrate_data['final.output.concentrate_sol'] + concentrate_data['final.output.concentrate_au']"
   ]
  },
  {
   "cell_type": "code",
   "execution_count": 19,
   "metadata": {},
   "outputs": [
    {
     "data": {
      "text/plain": [
       "(18082, 20)"
      ]
     },
     "execution_count": 19,
     "metadata": {},
     "output_type": "execute_result"
    }
   ],
   "source": [
    "concentrate_data = concentrate_data[\n",
    "    (concentrate_data['conc_sum_rougher_input'] >  1) & \n",
    "    (concentrate_data['conc_sum_rougher_output'] > 1) & \n",
    "    (concentrate_data['conc_sum_primary'] > 1) & \n",
    "    (concentrate_data['conc_sum_final'] > 1)\n",
    "]\n",
    "\n",
    "concentrate_data.shape"
   ]
  },
  {
   "cell_type": "code",
   "execution_count": 20,
   "metadata": {},
   "outputs": [
    {
     "data": {
      "image/png": "[encoded data removed]",
      "text/plain": [
       "<Figure size 815.625x432 with 1 Axes>"
      ]
     },
     "metadata": {
      "needs_background": "light"
     },
     "output_type": "display_data"
    }
   ],
   "source": [
    "sns.displot(concentrate_data[['conc_sum_rougher_input', 'conc_sum_rougher_output', \n",
    "                       'conc_sum_primary', 'conc_sum_final']], \n",
    "            legend=True, \n",
    "            kde=True, \n",
    "            height=6, \n",
    "            aspect=1.5)\n",
    "plt.title('Суммарная концентрация всех металлов на разных стадиях (обновленный датасет)', fontsize=16);\n",
    "plt.xlabel('Суммарная концентрация', fontsize=16);\n",
    "plt.ylabel('Частота', fontsize=16);"
   ]
  },
  {
   "cell_type": "code",
   "execution_count": 21,
   "metadata": {},
   "outputs": [
    {
     "name": "stdout",
     "output_type": "stream",
     "text": [
      "Обучающая выборка (12529, 55)\n",
      "Тестовая выборка (4537, 53)\n"
     ]
    }
   ],
   "source": [
    "train = train[train['date'].isin(concentrate_data['date'])]\n",
    "test_clean = test[test['date'].isin(concentrate_data['date'])]\n",
    "\n",
    "train.dropna(inplace=True)\n",
    "test.dropna(inplace=True)  \n",
    "\n",
    "print('Обучающая выборка', train.shape)\n",
    "print('Тестовая выборка', test.shape)"
   ]
  },
  {
   "cell_type": "code",
   "execution_count": 22,
   "metadata": {},
   "outputs": [],
   "source": [
    "train = train.set_index('date')\n",
    "test = test.set_index('date')"
   ]
  },
  {
   "cell_type": "code",
   "execution_count": 23,
   "metadata": {},
   "outputs": [],
   "source": [
    "l = full[['date', 'final.output.recovery', 'rougher.output.recovery']].copy()\n",
    "test = test.join(l.set_index('date'))"
   ]
  },
  {
   "cell_type": "code",
   "execution_count": 24,
   "metadata": {},
   "outputs": [
    {
     "data": {
      "image/png": "[encoded data removed]",
      "text/plain": [
       "<Figure size 432x288 with 1 Axes>"
      ]
     },
     "metadata": {
      "needs_background": "light"
     },
     "output_type": "display_data"
    }
   ],
   "source": [
    "sns.kdeplot(train['rougher.input.feed_size']) \n",
    "sns.kdeplot(test['rougher.input.feed_size'])\n",
    "plt.xlabel('Размеры гранул исходного сырья')\n",
    "plt.ylabel('Плотность')\n",
    "plt.xlabel('График распределения размеров сырья')\n",
    "plt.legend(['train_rougher.input.feed_size', 'test_rougher.input.feed_size'])\n",
    "plt.show()"
   ]
  },
  {
   "cell_type": "markdown",
   "metadata": {},
   "source": [
    "Распределения размеров гранул исходного сырья на обучающей и тестовой выборках незначительные, они не должны повлиять на работу модели"
   ]
  },
  {
   "cell_type": "code",
   "execution_count": 25,
   "metadata": {},
   "outputs": [
    {
     "data": {
      "image/png": "[encoded data removed]",
      "text/plain": [
       "<Figure size 432x288 with 1 Axes>"
      ]
     },
     "metadata": {
      "needs_background": "light"
     },
     "output_type": "display_data"
    }
   ],
   "source": [
    "sns.kdeplot(concentrate_data['conc_sum_rougher_input']) \n",
    "sns.kdeplot(concentrate_data['conc_sum_rougher_output'])\n",
    "sns.kdeplot(concentrate_data['conc_sum_primary'])\n",
    "sns.kdeplot(concentrate_data['conc_sum_final'])\n",
    "plt.xlabel('Концентрация металла')\n",
    "plt.ylabel('Плотность')\n",
    "plt.title('Суммарная концентрация всех металлов на разных стадиях (обновленный датасет)');\n",
    "plt.legend(['conc_sum_rougher_input', 'conc_sum_rougher_output', 'conc_sum_primary', 'conc_sum_final'])\n",
    "plt.show()"
   ]
  },
  {
   "cell_type": "markdown",
   "metadata": {},
   "source": [
    "Можем заметить, что концентрация самая высокая при фианльном варианте, а самая низкая при первой очистке. Что интересно концентрация растет при каждой стадии, но при этом он падает после первой стадии, и потом растет."
   ]
  },
  {
   "cell_type": "markdown",
   "metadata": {},
   "source": [
    "## Модель"
   ]
  },
  {
   "cell_type": "code",
   "execution_count": 343,
   "metadata": {},
   "outputs": [
    {
     "name": "stdout",
     "output_type": "stream",
     "text": [
      "(4537, 54)\n",
      "(12529, 54)\n",
      "(4537, 54)\n"
     ]
    },
    {
     "data": {
      "text/plain": [
       "(12529, 54)"
      ]
     },
     "execution_count": 343,
     "metadata": {},
     "output_type": "execute_result"
    }
   ],
   "source": [
    "print(test.shape)\n",
    "print(train.shape)\n",
    "test.dropna(inplace=True)\n",
    "train.dropna(inplace=True)\n",
    "print(test.shape)\n",
    "train.shape"
   ]
  },
  {
   "cell_type": "code",
   "execution_count": 344,
   "metadata": {},
   "outputs": [],
   "source": [
    "def smape (target, predictions):\n",
    "    return 100/len(target) * np.sum(2 * np.abs(predictions - target) / (np.abs(target) + np.abs(predictions)))\n",
    "def final_smape (rougher, final):\n",
    "    return 0.25 * rougher + 0.75 * final"
   ]
  },
  {
   "cell_type": "code",
   "execution_count": 345,
   "metadata": {},
   "outputs": [],
   "source": [
    "target_rougher = train['rougher.output.recovery']\n",
    "target_final = train['final.output.recovery']\n",
    "\n",
    "features_train = train.drop(['final.output.recovery', 'rougher.output.recovery'], axis='columns')"
   ]
  },
  {
   "cell_type": "code",
   "execution_count": 346,
   "metadata": {},
   "outputs": [],
   "source": [
    "scaler = StandardScaler()\n",
    "scaler.fit(features_train)\n",
    "features_train = scaler.transform(features_train)"
   ]
  },
  {
   "cell_type": "code",
   "execution_count": 349,
   "metadata": {},
   "outputs": [
    {
     "data": {
      "text/html": [
       "<div>\n",
       "<style scoped>\n",
       "    .dataframe tbody tr th:only-of-type {\n",
       "        vertical-align: middle;\n",
       "    }\n",
       "\n",
       "    .dataframe tbody tr th {\n",
       "        vertical-align: top;\n",
       "    }\n",
       "\n",
       "    .dataframe thead th {\n",
       "        text-align: right;\n",
       "    }\n",
       "</style>\n",
       "<table border=\"1\" class=\"dataframe\">\n",
       "  <thead>\n",
       "    <tr style=\"text-align: right;\">\n",
       "      <th></th>\n",
       "      <th>model name</th>\n",
       "      <th>cross_val_score_rougher</th>\n",
       "      <th>cross_val_score_final</th>\n",
       "    </tr>\n",
       "  </thead>\n",
       "  <tbody>\n",
       "    <tr>\n",
       "      <th>0</th>\n",
       "      <td>DecisionTreeRegressor</td>\n",
       "      <td>7.589251</td>\n",
       "      <td>14.229362</td>\n",
       "    </tr>\n",
       "    <tr>\n",
       "      <th>1</th>\n",
       "      <td>RandomForestRegressor</td>\n",
       "      <td>6.591593</td>\n",
       "      <td>9.412585</td>\n",
       "    </tr>\n",
       "    <tr>\n",
       "      <th>2</th>\n",
       "      <td>LinearRegression</td>\n",
       "      <td>7.587226</td>\n",
       "      <td>10.065586</td>\n",
       "    </tr>\n",
       "  </tbody>\n",
       "</table>\n",
       "</div>"
      ],
      "text/plain": [
       "              model name  cross_val_score_rougher  cross_val_score_final\n",
       "0  DecisionTreeRegressor                 7.589251              14.229362\n",
       "1  RandomForestRegressor                 6.591593               9.412585\n",
       "2       LinearRegression                 7.587226              10.065586"
      ]
     },
     "execution_count": 349,
     "metadata": {},
     "output_type": "execute_result"
    }
   ],
   "source": [
    "results_cross_val = []\n",
    "\n",
    "for model in models: \n",
    "    \n",
    "    scorer = make_scorer(smape, greater_is_better=False) \n",
    "    \n",
    "    cross_val_score_rougher = cross_val_score(model, \n",
    "                                              features_train, \n",
    "                                              target_rougher, \n",
    "                                              cv=3, scoring=scorer).mean()\n",
    "    cross_val_score_final = cross_val_score(model, \n",
    "                                            features_train, \n",
    "                                            target_final, \n",
    "                                            cv=3, scoring=scorer).mean()\n",
    "\n",
    "    results_cross_val.append({'model name': model.__class__.__name__, \n",
    "                              'cross_val_score_rougher': -cross_val_score_rougher, \n",
    "                              'cross_val_score_final': -cross_val_score_final}) \n",
    "              \n",
    "pd.DataFrame(results_cross_val)"
   ]
  },
  {
   "cell_type": "markdown",
   "metadata": {},
   "source": [
    "Модель линейной регрессии и случайного леса показали себя сравнимо одинаково, разберем их детеальнее."
   ]
  },
  {
   "cell_type": "code",
   "execution_count": 350,
   "metadata": {},
   "outputs": [
    {
     "data": {
      "text/html": [
       "<style  type=\"text/css\" >\n",
       "#T_6f9cd_row7_col2{\n",
       "            background-color:  lightgreen;\n",
       "        }</style><table id=\"T_6f9cd_\" ><thead>    <tr>        <th class=\"blank level0\" ></th>        <th class=\"col_heading level0 col0\" >model name</th>        <th class=\"col_heading level0 col1\" >Hyperparameters</th>        <th class=\"col_heading level0 col2\" >smape_final_result</th>    </tr></thead><tbody>\n",
       "                <tr>\n",
       "                        <th id=\"T_6f9cd_level0_row0\" class=\"row_heading level0 row0\" >0</th>\n",
       "                        <td id=\"T_6f9cd_row0_col0\" class=\"data row0 col0\" >RandomForestRegressor</td>\n",
       "                        <td id=\"T_6f9cd_row0_col1\" class=\"data row0 col1\" >{'random_state': 12345, 'n_estimators': 10, 'max_depth': 1}</td>\n",
       "                        <td id=\"T_6f9cd_row0_col2\" class=\"data row0 col2\" >8.246338</td>\n",
       "            </tr>\n",
       "            <tr>\n",
       "                        <th id=\"T_6f9cd_level0_row1\" class=\"row_heading level0 row1\" >1</th>\n",
       "                        <td id=\"T_6f9cd_row1_col0\" class=\"data row1 col0\" >RandomForestRegressor</td>\n",
       "                        <td id=\"T_6f9cd_row1_col1\" class=\"data row1 col1\" >{'random_state': 12345, 'n_estimators': 15, 'max_depth': 1}</td>\n",
       "                        <td id=\"T_6f9cd_row1_col2\" class=\"data row1 col2\" >8.245482</td>\n",
       "            </tr>\n",
       "            <tr>\n",
       "                        <th id=\"T_6f9cd_level0_row2\" class=\"row_heading level0 row2\" >2</th>\n",
       "                        <td id=\"T_6f9cd_row2_col0\" class=\"data row2 col0\" >RandomForestRegressor</td>\n",
       "                        <td id=\"T_6f9cd_row2_col1\" class=\"data row2 col1\" >{'random_state': 12345, 'n_estimators': 20, 'max_depth': 1}</td>\n",
       "                        <td id=\"T_6f9cd_row2_col2\" class=\"data row2 col2\" >8.241353</td>\n",
       "            </tr>\n",
       "            <tr>\n",
       "                        <th id=\"T_6f9cd_level0_row3\" class=\"row_heading level0 row3\" >3</th>\n",
       "                        <td id=\"T_6f9cd_row3_col0\" class=\"data row3 col0\" >RandomForestRegressor</td>\n",
       "                        <td id=\"T_6f9cd_row3_col1\" class=\"data row3 col1\" >{'random_state': 12345, 'n_estimators': 10, 'max_depth': 2}</td>\n",
       "                        <td id=\"T_6f9cd_row3_col2\" class=\"data row3 col2\" >8.157116</td>\n",
       "            </tr>\n",
       "            <tr>\n",
       "                        <th id=\"T_6f9cd_level0_row4\" class=\"row_heading level0 row4\" >4</th>\n",
       "                        <td id=\"T_6f9cd_row4_col0\" class=\"data row4 col0\" >RandomForestRegressor</td>\n",
       "                        <td id=\"T_6f9cd_row4_col1\" class=\"data row4 col1\" >{'random_state': 12345, 'n_estimators': 15, 'max_depth': 2}</td>\n",
       "                        <td id=\"T_6f9cd_row4_col2\" class=\"data row4 col2\" >8.215272</td>\n",
       "            </tr>\n",
       "            <tr>\n",
       "                        <th id=\"T_6f9cd_level0_row5\" class=\"row_heading level0 row5\" >5</th>\n",
       "                        <td id=\"T_6f9cd_row5_col0\" class=\"data row5 col0\" >RandomForestRegressor</td>\n",
       "                        <td id=\"T_6f9cd_row5_col1\" class=\"data row5 col1\" >{'random_state': 12345, 'n_estimators': 20, 'max_depth': 2}</td>\n",
       "                        <td id=\"T_6f9cd_row5_col2\" class=\"data row5 col2\" >8.209260</td>\n",
       "            </tr>\n",
       "            <tr>\n",
       "                        <th id=\"T_6f9cd_level0_row6\" class=\"row_heading level0 row6\" >6</th>\n",
       "                        <td id=\"T_6f9cd_row6_col0\" class=\"data row6 col0\" >RandomForestRegressor</td>\n",
       "                        <td id=\"T_6f9cd_row6_col1\" class=\"data row6 col1\" >{'random_state': 12345, 'n_estimators': 10, 'max_depth': 3}</td>\n",
       "                        <td id=\"T_6f9cd_row6_col2\" class=\"data row6 col2\" >8.378215</td>\n",
       "            </tr>\n",
       "            <tr>\n",
       "                        <th id=\"T_6f9cd_level0_row7\" class=\"row_heading level0 row7\" >7</th>\n",
       "                        <td id=\"T_6f9cd_row7_col0\" class=\"data row7 col0\" >RandomForestRegressor</td>\n",
       "                        <td id=\"T_6f9cd_row7_col1\" class=\"data row7 col1\" >{'random_state': 12345, 'n_estimators': 15, 'max_depth': 3}</td>\n",
       "                        <td id=\"T_6f9cd_row7_col2\" class=\"data row7 col2\" >8.455765</td>\n",
       "            </tr>\n",
       "            <tr>\n",
       "                        <th id=\"T_6f9cd_level0_row8\" class=\"row_heading level0 row8\" >8</th>\n",
       "                        <td id=\"T_6f9cd_row8_col0\" class=\"data row8 col0\" >RandomForestRegressor</td>\n",
       "                        <td id=\"T_6f9cd_row8_col1\" class=\"data row8 col1\" >{'random_state': 12345, 'n_estimators': 20, 'max_depth': 3}</td>\n",
       "                        <td id=\"T_6f9cd_row8_col2\" class=\"data row8 col2\" >8.394943</td>\n",
       "            </tr>\n",
       "            <tr>\n",
       "                        <th id=\"T_6f9cd_level0_row9\" class=\"row_heading level0 row9\" >9</th>\n",
       "                        <td id=\"T_6f9cd_row9_col0\" class=\"data row9 col0\" >RandomForestRegressor</td>\n",
       "                        <td id=\"T_6f9cd_row9_col1\" class=\"data row9 col1\" >{'random_state': 12345, 'n_estimators': 10, 'max_depth': 4}</td>\n",
       "                        <td id=\"T_6f9cd_row9_col2\" class=\"data row9 col2\" >8.381182</td>\n",
       "            </tr>\n",
       "            <tr>\n",
       "                        <th id=\"T_6f9cd_level0_row10\" class=\"row_heading level0 row10\" >10</th>\n",
       "                        <td id=\"T_6f9cd_row10_col0\" class=\"data row10 col0\" >RandomForestRegressor</td>\n",
       "                        <td id=\"T_6f9cd_row10_col1\" class=\"data row10 col1\" >{'random_state': 12345, 'n_estimators': 15, 'max_depth': 4}</td>\n",
       "                        <td id=\"T_6f9cd_row10_col2\" class=\"data row10 col2\" >8.433018</td>\n",
       "            </tr>\n",
       "            <tr>\n",
       "                        <th id=\"T_6f9cd_level0_row11\" class=\"row_heading level0 row11\" >11</th>\n",
       "                        <td id=\"T_6f9cd_row11_col0\" class=\"data row11 col0\" >RandomForestRegressor</td>\n",
       "                        <td id=\"T_6f9cd_row11_col1\" class=\"data row11 col1\" >{'random_state': 12345, 'n_estimators': 20, 'max_depth': 4}</td>\n",
       "                        <td id=\"T_6f9cd_row11_col2\" class=\"data row11 col2\" >8.397753</td>\n",
       "            </tr>\n",
       "    </tbody></table>"
      ],
      "text/plain": [
       "<pandas.io.formats.style.Styler at 0x7efcc994b8e0>"
      ]
     },
     "execution_count": 350,
     "metadata": {},
     "output_type": "execute_result"
    }
   ],
   "source": [
    "results = []\n",
    "\n",
    "for depth in range(1,5):\n",
    "    \n",
    "    for estimator in range(10, 21, 5):\n",
    "        \n",
    "        model = RandomForestRegressor(random_state=12345, \n",
    "                                       n_estimators=estimator, \n",
    "                                       max_depth=depth)\n",
    "        \n",
    "        scorer = make_scorer(smape, greater_is_better=False) \n",
    "    \n",
    "        cross_val_score_rougher = cross_val_score(model, features_train, target_rougher, cv=3, scoring=scorer).mean()\n",
    "        cross_val_score_final = cross_val_score(model, features_train, target_final, cv=3, scoring=scorer).mean()\n",
    "\n",
    "        smape_final_result = final_smape(cross_val_score_rougher, cross_val_score_final)\n",
    "\n",
    "        results.append({'model name': model.__class__.__name__, \n",
    "                        'Hyperparameters': {'random_state': 12345, \n",
    "                                            'n_estimators': estimator, \n",
    "                                            'max_depth':depth}, \n",
    "                        'smape_final_result': -smape_final_result})\n",
    "\n",
    "pd.DataFrame(results).style.highlight_max(color = 'lightgreen', axis = 0)"
   ]
  },
  {
   "cell_type": "code",
   "execution_count": 351,
   "metadata": {},
   "outputs": [
    {
     "name": "stdout",
     "output_type": "stream",
     "text": [
      "smape: 9.445996402996705\n"
     ]
    }
   ],
   "source": [
    "model = LinearRegression()\n",
    "        \n",
    "scorer = make_scorer(smape, greater_is_better=False) \n",
    "    \n",
    "cross_val_score_rougher = cross_val_score(model, features_train, target_rougher, cv=3, scoring=scorer).mean()\n",
    "cross_val_score_final = cross_val_score(model, features_train, target_final, cv=3, scoring=scorer).mean()\n",
    "\n",
    "smape_final_result = final_smape(cross_val_score_rougher, cross_val_score_final)\n",
    "\n",
    "print('smape:', -smape_final_result)"
   ]
  },
  {
   "cell_type": "markdown",
   "metadata": {},
   "source": [
    "Модель случайного леса с перебором гиперпараметров показала себя лучше, ее и выберем."
   ]
  },
  {
   "cell_type": "code",
   "execution_count": 353,
   "metadata": {},
   "outputs": [],
   "source": [
    "target_rougher_test = test['rougher.output.recovery']\n",
    "target_final_test = test['final.output.recovery']\n",
    "\n",
    "features_test = test.drop(['final.output.recovery', 'rougher.output.recovery'], axis='columns')"
   ]
  },
  {
   "cell_type": "code",
   "execution_count": 354,
   "metadata": {},
   "outputs": [],
   "source": [
    "features_test = scaler.transform(features_test)"
   ]
  },
  {
   "cell_type": "code",
   "execution_count": 355,
   "metadata": {},
   "outputs": [],
   "source": [
    "model_final = RandomForestRegressor(random_state=12345, \n",
    "                                       n_estimators=20, \n",
    "                                       max_depth=2)\n",
    "\n",
    "model_final.fit(features_train, target_rougher)\n",
    "predictions_r = model_final.predict(features_test)\n",
    "\n",
    "model_final.fit(features_train, target_final)\n",
    "predictions_f = model_final.predict(features_test)"
   ]
  },
  {
   "cell_type": "code",
   "execution_count": 356,
   "metadata": {},
   "outputs": [
    {
     "name": "stdout",
     "output_type": "stream",
     "text": [
      "Итоговое sMAPE: 7.362492075841759\n"
     ]
    }
   ],
   "source": [
    "smape_r = smape(target_rougher_test, predictions_r)\n",
    "smape_f = smape(target_final_test, predictions_f)\n",
    "\n",
    "print('Итоговое sMAPE:', final_smape(smape_r, smape_f))"
   ]
  },
  {
   "cell_type": "markdown",
   "metadata": {},
   "source": [
    "Модель показала результат 7.3"
   ]
  },
  {
   "cell_type": "code",
   "execution_count": 357,
   "metadata": {},
   "outputs": [],
   "source": [
    "dummy_regr = DummyRegressor(strategy='mean')\n",
    "\n",
    "dummy_regr.fit(features_train, target_rougher)\n",
    "predictions_r_dummy = dummy_regr.predict(features_test)\n",
    "\n",
    "dummy_regr.fit(features_train, target_final)\n",
    "predictions_f_dummy = dummy_regr.predict(features_test)"
   ]
  },
  {
   "cell_type": "code",
   "execution_count": 358,
   "metadata": {},
   "outputs": [
    {
     "name": "stdout",
     "output_type": "stream",
     "text": [
      "Итоговое sMAPE 8.291323762595681\n"
     ]
    }
   ],
   "source": [
    "smape_r_dummy = smape(target_rougher_test, predictions_r_dummy)\n",
    "smape_f_dummy = smape(target_final_test, predictions_f_dummy)\n",
    "\n",
    "print('Итоговое sMAPE', final_smape(smape_r_dummy, smape_f_dummy))"
   ]
  },
  {
   "cell_type": "markdown",
   "metadata": {},
   "source": [
    "Обученная модель работает чуть лучше чем константная модель. Значит модель адекватна"
   ]
  },
  {
   "cell_type": "markdown",
   "metadata": {},
   "source": [
    "**Вывод: проект прошел в 3 этапа\n",
    "1 этап подготовка данных: загрузили данные, убедилис, что эффективность обогащения рассчитана правильно. Провели предобработку данных\n",
    "2 этап: посмотрели, как меняется концентрация металлов (Au, Ag, Pb) на различных этапах. Убедились что, распределения размеров гранул исходного сырья на обучающей и тестовой выборках незначительны. Исследовали суммарную концентрацию металлов на разных стадиях, поняли что есть нулевые значения.\n",
    "3 этап: Написали функцию для вычисления итоговой sMAPE. Обучили разные модели и оценили их качество кросс-валидацией. Выбрали лучшую модель, а именно линейная регрессия и проверели её на тестовой выборке. По нашей метрике smapeполучили результат 7.3. Проверили модель на адекватность, она показала себя лучше контакстной модели, следовательно модель адекватна.**\n"
   ]
  },
  {
   "cell_type": "markdown",
   "metadata": {},
   "source": [
    "<div style=\"border:solid Chocolate 2px; padding: 40px\">\n",
    "\n",
    "# Комментарий ревьюера: общий вывод по проекту v.2.\n",
    "\n",
    "Джумахон, продолжаем работу над проектом - актуальные замечания отмечены комментариями с меткой `v.2`.\n",
    "    \n",
    "Жду тебя снова:)"
   ]
  },
  {
   "cell_type": "markdown",
   "metadata": {},
   "source": [
    "<div style=\"border:solid Chocolate 2px; padding: 40px\">\n",
    "\n",
    "# Комментарий ревьюера: общий вывод по проекту v.3.\n",
    "\n",
    "Джумахон, все замечания учтены - проект принят!\n",
    "    \n",
    "Спасибо за хорошую работу над проектом, желаю успехов в дальнейшем обучении:)"
   ]
  }
 ],
 "metadata": {
  "ExecuteTimeLog": [
   {
    "duration": 1560,
    "start_time": "2023-06-03T14:30:51.592Z"
   },
   {
    "duration": 2373,
    "start_time": "2023-06-03T14:35:25.604Z"
   },
   {
    "duration": 565,
    "start_time": "2023-06-03T14:37:37.321Z"
   },
   {
    "duration": 2457,
    "start_time": "2023-06-03T14:39:06.774Z"
   },
   {
    "duration": 34,
    "start_time": "2023-06-03T14:39:17.841Z"
   },
   {
    "duration": 534,
    "start_time": "2023-06-03T14:40:33.001Z"
   },
   {
    "duration": 2364,
    "start_time": "2023-06-03T14:42:54.409Z"
   },
   {
    "duration": 807,
    "start_time": "2023-06-03T14:43:14.227Z"
   },
   {
    "duration": 27,
    "start_time": "2023-06-03T14:43:17.897Z"
   },
   {
    "duration": 19,
    "start_time": "2023-06-03T14:43:54.501Z"
   },
   {
    "duration": 12,
    "start_time": "2023-06-03T14:52:12.509Z"
   },
   {
    "duration": 11,
    "start_time": "2023-06-03T14:57:46.708Z"
   },
   {
    "duration": 17,
    "start_time": "2023-06-03T14:57:51.168Z"
   },
   {
    "duration": 13,
    "start_time": "2023-06-03T14:57:54.213Z"
   },
   {
    "duration": 18,
    "start_time": "2023-06-03T14:58:15.765Z"
   },
   {
    "duration": 9,
    "start_time": "2023-06-03T14:58:26.928Z"
   },
   {
    "duration": 9,
    "start_time": "2023-06-03T15:00:01.520Z"
   },
   {
    "duration": 5,
    "start_time": "2023-06-03T15:01:08.051Z"
   },
   {
    "duration": 4,
    "start_time": "2023-06-03T15:02:31.457Z"
   },
   {
    "duration": 9,
    "start_time": "2023-06-03T15:02:48.614Z"
   },
   {
    "duration": 10,
    "start_time": "2023-06-03T15:02:54.552Z"
   },
   {
    "duration": 4,
    "start_time": "2023-06-03T15:03:01.246Z"
   },
   {
    "duration": 10,
    "start_time": "2023-06-03T15:08:18.608Z"
   },
   {
    "duration": 20,
    "start_time": "2023-06-03T15:08:23.408Z"
   },
   {
    "duration": 6,
    "start_time": "2023-06-03T16:20:24.753Z"
   },
   {
    "duration": 11,
    "start_time": "2023-06-03T16:52:29.740Z"
   },
   {
    "duration": 19,
    "start_time": "2023-06-03T16:52:37.472Z"
   },
   {
    "duration": 6,
    "start_time": "2023-06-03T16:53:04.013Z"
   },
   {
    "duration": 8,
    "start_time": "2023-06-03T16:53:11.540Z"
   },
   {
    "duration": 5,
    "start_time": "2023-06-03T16:53:39.065Z"
   },
   {
    "duration": 6,
    "start_time": "2023-06-03T16:53:57.453Z"
   },
   {
    "duration": 6,
    "start_time": "2023-06-03T16:55:46.860Z"
   },
   {
    "duration": 13,
    "start_time": "2023-06-03T16:56:08.259Z"
   },
   {
    "duration": 13,
    "start_time": "2023-06-03T16:57:59.559Z"
   },
   {
    "duration": 11,
    "start_time": "2023-06-03T17:22:50.594Z"
   },
   {
    "duration": 6,
    "start_time": "2023-06-03T17:23:16.820Z"
   },
   {
    "duration": 4,
    "start_time": "2023-06-03T17:23:20.157Z"
   },
   {
    "duration": 8,
    "start_time": "2023-06-03T17:23:28.394Z"
   },
   {
    "duration": 302,
    "start_time": "2023-06-03T17:23:33.316Z"
   },
   {
    "duration": 14,
    "start_time": "2023-06-03T17:24:22.127Z"
   },
   {
    "duration": 316,
    "start_time": "2023-06-03T17:24:25.614Z"
   },
   {
    "duration": 370,
    "start_time": "2023-06-03T17:24:50.234Z"
   },
   {
    "duration": 217,
    "start_time": "2023-06-03T17:49:24.500Z"
   },
   {
    "duration": 234,
    "start_time": "2023-06-03T17:49:39.960Z"
   },
   {
    "duration": 190,
    "start_time": "2023-06-03T17:50:05.767Z"
   },
   {
    "duration": 186,
    "start_time": "2023-06-03T17:50:19.161Z"
   },
   {
    "duration": 16,
    "start_time": "2023-06-03T18:15:47.717Z"
   },
   {
    "duration": 214,
    "start_time": "2023-06-03T18:16:28.909Z"
   },
   {
    "duration": 21,
    "start_time": "2023-06-03T18:43:27.849Z"
   },
   {
    "duration": 33,
    "start_time": "2023-06-03T18:44:52.673Z"
   },
   {
    "duration": 17,
    "start_time": "2023-06-03T18:45:57.354Z"
   },
   {
    "duration": 4,
    "start_time": "2023-06-03T18:46:32.406Z"
   },
   {
    "duration": 851,
    "start_time": "2023-06-03T18:46:32.413Z"
   },
   {
    "duration": 21,
    "start_time": "2023-06-03T18:46:33.266Z"
   },
   {
    "duration": 18,
    "start_time": "2023-06-03T18:46:33.290Z"
   },
   {
    "duration": 10,
    "start_time": "2023-06-03T18:46:33.310Z"
   },
   {
    "duration": 5,
    "start_time": "2023-06-03T18:46:33.322Z"
   },
   {
    "duration": 26,
    "start_time": "2023-06-03T18:46:33.328Z"
   },
   {
    "duration": 39,
    "start_time": "2023-06-03T18:46:33.355Z"
   },
   {
    "duration": 6,
    "start_time": "2023-06-03T18:46:33.396Z"
   },
   {
    "duration": 28,
    "start_time": "2023-06-03T18:46:33.404Z"
   },
   {
    "duration": 17,
    "start_time": "2023-06-03T18:46:33.433Z"
   },
   {
    "duration": 31,
    "start_time": "2023-06-03T18:46:33.452Z"
   },
   {
    "duration": 7,
    "start_time": "2023-06-03T18:46:33.486Z"
   },
   {
    "duration": 12,
    "start_time": "2023-06-03T18:46:33.497Z"
   },
   {
    "duration": 247,
    "start_time": "2023-06-03T18:46:33.511Z"
   },
   {
    "duration": 276,
    "start_time": "2023-06-03T18:46:33.760Z"
   },
   {
    "duration": 404,
    "start_time": "2023-06-03T18:46:34.038Z"
   },
   {
    "duration": 182,
    "start_time": "2023-06-03T18:46:34.444Z"
   },
   {
    "duration": 188,
    "start_time": "2023-06-03T18:46:34.628Z"
   },
   {
    "duration": 184,
    "start_time": "2023-06-03T18:46:34.817Z"
   },
   {
    "duration": 155,
    "start_time": "2023-06-03T18:46:35.004Z"
   },
   {
    "duration": 18,
    "start_time": "2023-06-03T18:46:35.161Z"
   },
   {
    "duration": 182,
    "start_time": "2023-06-03T18:46:35.180Z"
   },
   {
    "duration": 16,
    "start_time": "2023-06-03T18:46:39.536Z"
   },
   {
    "duration": 4,
    "start_time": "2023-06-03T18:47:20.142Z"
   },
   {
    "duration": 5,
    "start_time": "2023-06-03T18:47:36.015Z"
   },
   {
    "duration": 9,
    "start_time": "2023-06-03T18:47:53.662Z"
   },
   {
    "duration": 3,
    "start_time": "2023-06-03T18:48:42.332Z"
   },
   {
    "duration": 18,
    "start_time": "2023-06-03T18:48:47.919Z"
   },
   {
    "duration": 3,
    "start_time": "2023-06-03T18:49:17.411Z"
   },
   {
    "duration": 16,
    "start_time": "2023-06-03T18:50:40.478Z"
   },
   {
    "duration": 3,
    "start_time": "2023-06-03T18:51:12.752Z"
   },
   {
    "duration": 9,
    "start_time": "2023-06-03T18:51:17.051Z"
   },
   {
    "duration": 8,
    "start_time": "2023-06-03T18:51:24.153Z"
   },
   {
    "duration": 10,
    "start_time": "2023-06-03T18:51:30.235Z"
   },
   {
    "duration": 2482,
    "start_time": "2023-06-03T18:51:34.632Z"
   },
   {
    "duration": 746,
    "start_time": "2023-06-03T18:52:08.337Z"
   },
   {
    "duration": 13535,
    "start_time": "2023-06-03T18:52:38.207Z"
   },
   {
    "duration": 797,
    "start_time": "2023-06-03T18:57:38.787Z"
   },
   {
    "duration": 133469,
    "start_time": "2023-06-03T18:57:43.010Z"
   },
   {
    "duration": 6,
    "start_time": "2023-06-03T19:01:56.541Z"
   },
   {
    "duration": 5,
    "start_time": "2023-06-03T19:02:05.620Z"
   },
   {
    "duration": 16,
    "start_time": "2023-06-03T19:02:25.206Z"
   },
   {
    "duration": 362,
    "start_time": "2023-06-03T19:04:10.219Z"
   },
   {
    "duration": 10,
    "start_time": "2023-06-03T19:04:39.742Z"
   },
   {
    "duration": 7,
    "start_time": "2023-06-04T13:34:13.356Z"
   },
   {
    "duration": 134,
    "start_time": "2023-06-04T13:34:22.892Z"
   },
   {
    "duration": 204,
    "start_time": "2023-06-04T13:34:31.131Z"
   },
   {
    "duration": 1627,
    "start_time": "2023-06-04T14:49:49.176Z"
   },
   {
    "duration": 4036,
    "start_time": "2023-06-04T14:49:50.806Z"
   },
   {
    "duration": 21,
    "start_time": "2023-06-04T14:49:54.844Z"
   },
   {
    "duration": 32,
    "start_time": "2023-06-04T14:49:54.867Z"
   },
   {
    "duration": 20,
    "start_time": "2023-06-04T14:49:54.902Z"
   },
   {
    "duration": 5,
    "start_time": "2023-06-04T14:49:54.923Z"
   },
   {
    "duration": 6,
    "start_time": "2023-06-04T14:49:54.930Z"
   },
   {
    "duration": 27,
    "start_time": "2023-06-04T14:49:54.937Z"
   },
   {
    "duration": 5,
    "start_time": "2023-06-04T14:49:54.966Z"
   },
   {
    "duration": 31,
    "start_time": "2023-06-04T14:50:11.315Z"
   },
   {
    "duration": 136,
    "start_time": "2023-06-04T14:50:21.855Z"
   },
   {
    "duration": 4,
    "start_time": "2023-06-04T14:50:35.927Z"
   },
   {
    "duration": 898,
    "start_time": "2023-06-04T14:50:35.933Z"
   },
   {
    "duration": 16,
    "start_time": "2023-06-04T14:50:36.832Z"
   },
   {
    "duration": 15,
    "start_time": "2023-06-04T14:50:36.849Z"
   },
   {
    "duration": 24,
    "start_time": "2023-06-04T14:50:36.866Z"
   },
   {
    "duration": 7,
    "start_time": "2023-06-04T14:50:36.894Z"
   },
   {
    "duration": 4,
    "start_time": "2023-06-04T14:50:36.903Z"
   },
   {
    "duration": 27,
    "start_time": "2023-06-04T14:50:36.908Z"
   },
   {
    "duration": 6,
    "start_time": "2023-06-04T14:50:36.937Z"
   },
   {
    "duration": 30,
    "start_time": "2023-06-04T14:50:38.701Z"
   },
   {
    "duration": 7,
    "start_time": "2023-06-04T14:51:15.576Z"
   },
   {
    "duration": 794,
    "start_time": "2023-06-04T14:51:15.585Z"
   },
   {
    "duration": 23,
    "start_time": "2023-06-04T14:51:16.381Z"
   },
   {
    "duration": 15,
    "start_time": "2023-06-04T14:51:16.406Z"
   },
   {
    "duration": 8,
    "start_time": "2023-06-04T14:51:16.423Z"
   },
   {
    "duration": 4,
    "start_time": "2023-06-04T14:51:16.432Z"
   },
   {
    "duration": 5,
    "start_time": "2023-06-04T14:51:16.438Z"
   },
   {
    "duration": 58,
    "start_time": "2023-06-04T14:51:16.444Z"
   },
   {
    "duration": 6,
    "start_time": "2023-06-04T14:51:16.504Z"
   },
   {
    "duration": 56,
    "start_time": "2023-06-04T14:51:18.468Z"
   },
   {
    "duration": 28,
    "start_time": "2023-06-04T14:51:41.374Z"
   },
   {
    "duration": 4,
    "start_time": "2023-06-04T14:51:44.927Z"
   },
   {
    "duration": 824,
    "start_time": "2023-06-04T14:51:44.934Z"
   },
   {
    "duration": 29,
    "start_time": "2023-06-04T14:51:45.760Z"
   },
   {
    "duration": 17,
    "start_time": "2023-06-04T14:51:45.794Z"
   },
   {
    "duration": 9,
    "start_time": "2023-06-04T14:51:45.813Z"
   },
   {
    "duration": 4,
    "start_time": "2023-06-04T14:51:45.823Z"
   },
   {
    "duration": 6,
    "start_time": "2023-06-04T14:51:45.828Z"
   },
   {
    "duration": 19,
    "start_time": "2023-06-04T14:51:45.835Z"
   },
   {
    "duration": 28,
    "start_time": "2023-06-04T14:51:45.856Z"
   },
   {
    "duration": 20,
    "start_time": "2023-06-04T14:51:47.063Z"
   },
   {
    "duration": 107,
    "start_time": "2023-06-04T15:00:20.028Z"
   },
   {
    "duration": 4,
    "start_time": "2023-06-04T15:24:02.935Z"
   },
   {
    "duration": 883,
    "start_time": "2023-06-04T15:24:02.942Z"
   },
   {
    "duration": 24,
    "start_time": "2023-06-04T15:24:03.827Z"
   },
   {
    "duration": 40,
    "start_time": "2023-06-04T15:24:03.854Z"
   },
   {
    "duration": 20,
    "start_time": "2023-06-04T15:24:03.902Z"
   },
   {
    "duration": 6,
    "start_time": "2023-06-04T15:24:03.924Z"
   },
   {
    "duration": 11,
    "start_time": "2023-06-04T15:24:03.932Z"
   },
   {
    "duration": 40,
    "start_time": "2023-06-04T15:24:03.944Z"
   },
   {
    "duration": 9,
    "start_time": "2023-06-04T15:24:03.991Z"
   },
   {
    "duration": 21,
    "start_time": "2023-06-04T15:24:04.003Z"
   },
   {
    "duration": 20,
    "start_time": "2023-06-04T15:24:04.026Z"
   },
   {
    "duration": 18,
    "start_time": "2023-06-04T15:24:04.048Z"
   },
   {
    "duration": 8,
    "start_time": "2023-06-04T15:24:04.068Z"
   },
   {
    "duration": 12,
    "start_time": "2023-06-04T15:24:04.077Z"
   },
   {
    "duration": 408,
    "start_time": "2023-06-04T15:24:04.091Z"
   },
   {
    "duration": 353,
    "start_time": "2023-06-04T15:24:04.506Z"
   },
   {
    "duration": 385,
    "start_time": "2023-06-04T15:24:04.861Z"
   },
   {
    "duration": 18,
    "start_time": "2023-06-04T15:24:10.565Z"
   },
   {
    "duration": 24,
    "start_time": "2023-06-04T15:24:27.500Z"
   },
   {
    "duration": 12,
    "start_time": "2023-06-04T15:24:44.728Z"
   },
   {
    "duration": 14,
    "start_time": "2023-06-04T15:24:52.538Z"
   },
   {
    "duration": 12,
    "start_time": "2023-06-04T15:25:06.615Z"
   },
   {
    "duration": 16,
    "start_time": "2023-06-04T15:25:30.231Z"
   },
   {
    "duration": 167,
    "start_time": "2023-06-04T15:25:44.435Z"
   },
   {
    "duration": 4,
    "start_time": "2023-06-04T15:28:05.152Z"
   },
   {
    "duration": 927,
    "start_time": "2023-06-04T15:28:05.161Z"
   },
   {
    "duration": 30,
    "start_time": "2023-06-04T15:28:06.090Z"
   },
   {
    "duration": 22,
    "start_time": "2023-06-04T15:28:06.125Z"
   },
   {
    "duration": 16,
    "start_time": "2023-06-04T15:28:06.150Z"
   },
   {
    "duration": 9,
    "start_time": "2023-06-04T15:28:06.169Z"
   },
   {
    "duration": 13,
    "start_time": "2023-06-04T15:28:06.181Z"
   },
   {
    "duration": 24,
    "start_time": "2023-06-04T15:28:06.195Z"
   },
   {
    "duration": 10,
    "start_time": "2023-06-04T15:28:06.222Z"
   },
   {
    "duration": 17,
    "start_time": "2023-06-04T15:28:06.234Z"
   },
   {
    "duration": 28,
    "start_time": "2023-06-04T15:28:06.255Z"
   },
   {
    "duration": 20,
    "start_time": "2023-06-04T15:28:06.285Z"
   },
   {
    "duration": 7,
    "start_time": "2023-06-04T15:28:06.307Z"
   },
   {
    "duration": 6,
    "start_time": "2023-06-04T15:28:06.322Z"
   },
   {
    "duration": 286,
    "start_time": "2023-06-04T15:28:06.330Z"
   },
   {
    "duration": 268,
    "start_time": "2023-06-04T15:28:06.617Z"
   },
   {
    "duration": 276,
    "start_time": "2023-06-04T15:28:06.887Z"
   },
   {
    "duration": 23,
    "start_time": "2023-06-04T15:28:07.164Z"
   },
   {
    "duration": 10,
    "start_time": "2023-06-04T15:28:11.909Z"
   },
   {
    "duration": 9,
    "start_time": "2023-06-04T15:28:13.115Z"
   },
   {
    "duration": 28,
    "start_time": "2023-06-04T15:28:14.710Z"
   },
   {
    "duration": 162,
    "start_time": "2023-06-04T15:28:15.798Z"
   },
   {
    "duration": 11,
    "start_time": "2023-06-04T15:28:55.733Z"
   },
   {
    "duration": 6,
    "start_time": "2023-06-04T15:29:15.989Z"
   },
   {
    "duration": 944,
    "start_time": "2023-06-04T15:29:15.998Z"
   },
   {
    "duration": 31,
    "start_time": "2023-06-04T15:29:16.945Z"
   },
   {
    "duration": 30,
    "start_time": "2023-06-04T15:29:16.978Z"
   },
   {
    "duration": 11,
    "start_time": "2023-06-04T15:29:17.010Z"
   },
   {
    "duration": 11,
    "start_time": "2023-06-04T15:29:17.023Z"
   },
   {
    "duration": 5,
    "start_time": "2023-06-04T15:29:17.036Z"
   },
   {
    "duration": 41,
    "start_time": "2023-06-04T15:29:17.043Z"
   },
   {
    "duration": 7,
    "start_time": "2023-06-04T15:29:17.087Z"
   },
   {
    "duration": 15,
    "start_time": "2023-06-04T15:29:17.096Z"
   },
   {
    "duration": 18,
    "start_time": "2023-06-04T15:29:17.117Z"
   },
   {
    "duration": 13,
    "start_time": "2023-06-04T15:29:17.137Z"
   },
   {
    "duration": 33,
    "start_time": "2023-06-04T15:29:17.152Z"
   },
   {
    "duration": 5,
    "start_time": "2023-06-04T15:29:17.191Z"
   },
   {
    "duration": 441,
    "start_time": "2023-06-04T15:29:17.197Z"
   },
   {
    "duration": 302,
    "start_time": "2023-06-04T15:29:17.640Z"
   },
   {
    "duration": 322,
    "start_time": "2023-06-04T15:29:17.944Z"
   },
   {
    "duration": 38,
    "start_time": "2023-06-04T15:29:18.268Z"
   },
   {
    "duration": 11,
    "start_time": "2023-06-04T15:29:18.310Z"
   },
   {
    "duration": 11,
    "start_time": "2023-06-04T15:29:18.322Z"
   },
   {
    "duration": 39,
    "start_time": "2023-06-04T15:29:18.334Z"
   },
   {
    "duration": 194,
    "start_time": "2023-06-04T15:29:18.377Z"
   },
   {
    "duration": 15,
    "start_time": "2023-06-04T15:29:18.574Z"
   },
   {
    "duration": 213,
    "start_time": "2023-06-04T15:29:18.593Z"
   },
   {
    "duration": 189,
    "start_time": "2023-06-04T15:29:18.814Z"
   },
   {
    "duration": 192,
    "start_time": "2023-06-04T15:29:19.007Z"
   },
   {
    "duration": 163,
    "start_time": "2023-06-04T15:29:19.201Z"
   },
   {
    "duration": 226,
    "start_time": "2023-06-04T15:29:19.366Z"
   },
   {
    "duration": 446,
    "start_time": "2023-06-04T15:34:44.016Z"
   },
   {
    "duration": 402,
    "start_time": "2023-06-04T15:36:12.930Z"
   },
   {
    "duration": 422,
    "start_time": "2023-06-04T15:36:38.730Z"
   },
   {
    "duration": 22,
    "start_time": "2023-06-04T15:39:55.549Z"
   },
   {
    "duration": 29,
    "start_time": "2023-06-04T15:40:10.065Z"
   },
   {
    "duration": 543,
    "start_time": "2023-06-04T15:41:02.763Z"
   },
   {
    "duration": 30,
    "start_time": "2023-06-04T15:41:31.408Z"
   },
   {
    "duration": 403,
    "start_time": "2023-06-04T15:41:40.701Z"
   },
   {
    "duration": 485,
    "start_time": "2023-06-04T15:44:44.254Z"
   },
   {
    "duration": 6,
    "start_time": "2023-06-04T15:46:42.212Z"
   },
   {
    "duration": 1028,
    "start_time": "2023-06-04T15:46:42.220Z"
   },
   {
    "duration": 47,
    "start_time": "2023-06-04T15:46:43.250Z"
   },
   {
    "duration": 22,
    "start_time": "2023-06-04T15:46:43.306Z"
   },
   {
    "duration": 12,
    "start_time": "2023-06-04T15:46:43.330Z"
   },
   {
    "duration": 5,
    "start_time": "2023-06-04T15:46:43.343Z"
   },
   {
    "duration": 5,
    "start_time": "2023-06-04T15:46:43.350Z"
   },
   {
    "duration": 56,
    "start_time": "2023-06-04T15:46:43.356Z"
   },
   {
    "duration": 6,
    "start_time": "2023-06-04T15:46:43.414Z"
   },
   {
    "duration": 13,
    "start_time": "2023-06-04T15:46:43.423Z"
   },
   {
    "duration": 19,
    "start_time": "2023-06-04T15:46:43.440Z"
   },
   {
    "duration": 37,
    "start_time": "2023-06-04T15:46:43.461Z"
   },
   {
    "duration": 19,
    "start_time": "2023-06-04T15:46:43.501Z"
   },
   {
    "duration": 13,
    "start_time": "2023-06-04T15:46:43.522Z"
   },
   {
    "duration": 353,
    "start_time": "2023-06-04T15:46:43.537Z"
   },
   {
    "duration": 372,
    "start_time": "2023-06-04T15:46:43.903Z"
   },
   {
    "duration": 335,
    "start_time": "2023-06-04T15:46:44.280Z"
   },
   {
    "duration": 18,
    "start_time": "2023-06-04T15:46:44.619Z"
   },
   {
    "duration": 14,
    "start_time": "2023-06-04T15:46:44.640Z"
   },
   {
    "duration": 10,
    "start_time": "2023-06-04T15:46:44.656Z"
   },
   {
    "duration": 162,
    "start_time": "2023-06-04T15:46:44.668Z"
   },
   {
    "duration": 213,
    "start_time": "2023-06-04T15:46:44.833Z"
   },
   {
    "duration": 15,
    "start_time": "2023-06-04T15:46:45.048Z"
   },
   {
    "duration": 244,
    "start_time": "2023-06-04T15:46:45.065Z"
   },
   {
    "duration": 460,
    "start_time": "2023-06-04T15:46:45.311Z"
   },
   {
    "duration": 177,
    "start_time": "2023-06-04T15:46:52.230Z"
   },
   {
    "duration": 244,
    "start_time": "2023-06-04T15:49:04.106Z"
   },
   {
    "duration": 195,
    "start_time": "2023-06-04T15:49:37.718Z"
   },
   {
    "duration": 203,
    "start_time": "2023-06-04T15:49:50.738Z"
   },
   {
    "duration": 163,
    "start_time": "2023-06-04T15:52:09.737Z"
   },
   {
    "duration": 219,
    "start_time": "2023-06-04T15:52:28.166Z"
   },
   {
    "duration": 167,
    "start_time": "2023-06-04T15:52:58.804Z"
   },
   {
    "duration": 188,
    "start_time": "2023-06-04T15:54:02.120Z"
   },
   {
    "duration": 332,
    "start_time": "2023-06-04T15:54:24.940Z"
   },
   {
    "duration": 467,
    "start_time": "2023-06-04T15:55:11.596Z"
   },
   {
    "duration": 4,
    "start_time": "2023-06-04T15:55:30.511Z"
   },
   {
    "duration": 913,
    "start_time": "2023-06-04T15:55:30.517Z"
   },
   {
    "duration": 25,
    "start_time": "2023-06-04T15:55:31.433Z"
   },
   {
    "duration": 37,
    "start_time": "2023-06-04T15:55:31.460Z"
   },
   {
    "duration": 21,
    "start_time": "2023-06-04T15:55:31.500Z"
   },
   {
    "duration": 8,
    "start_time": "2023-06-04T15:55:31.525Z"
   },
   {
    "duration": 4,
    "start_time": "2023-06-04T15:55:31.534Z"
   },
   {
    "duration": 25,
    "start_time": "2023-06-04T15:55:31.539Z"
   },
   {
    "duration": 22,
    "start_time": "2023-06-04T15:55:31.565Z"
   },
   {
    "duration": 16,
    "start_time": "2023-06-04T15:55:31.602Z"
   },
   {
    "duration": 38,
    "start_time": "2023-06-04T15:55:31.620Z"
   },
   {
    "duration": 20,
    "start_time": "2023-06-04T15:55:31.660Z"
   },
   {
    "duration": 13,
    "start_time": "2023-06-04T15:55:31.685Z"
   },
   {
    "duration": 7,
    "start_time": "2023-06-04T15:55:31.700Z"
   },
   {
    "duration": 294,
    "start_time": "2023-06-04T15:55:31.711Z"
   },
   {
    "duration": 280,
    "start_time": "2023-06-04T15:55:32.007Z"
   },
   {
    "duration": 277,
    "start_time": "2023-06-04T15:55:32.289Z"
   },
   {
    "duration": 20,
    "start_time": "2023-06-04T15:55:32.568Z"
   },
   {
    "duration": 25,
    "start_time": "2023-06-04T15:55:32.590Z"
   },
   {
    "duration": 13,
    "start_time": "2023-06-04T15:55:32.620Z"
   },
   {
    "duration": 28,
    "start_time": "2023-06-04T15:55:32.635Z"
   },
   {
    "duration": 182,
    "start_time": "2023-06-04T15:55:32.664Z"
   },
   {
    "duration": 14,
    "start_time": "2023-06-04T15:55:32.849Z"
   },
   {
    "duration": 210,
    "start_time": "2023-06-04T15:55:32.865Z"
   },
   {
    "duration": 388,
    "start_time": "2023-06-04T15:55:33.077Z"
   },
   {
    "duration": 214,
    "start_time": "2023-06-04T15:55:33.467Z"
   },
   {
    "duration": 194,
    "start_time": "2023-06-04T15:56:29.591Z"
   },
   {
    "duration": 338,
    "start_time": "2023-06-04T15:56:47.546Z"
   },
   {
    "duration": 10,
    "start_time": "2023-06-04T16:13:28.637Z"
   },
   {
    "duration": 5,
    "start_time": "2023-06-04T16:13:34.607Z"
   },
   {
    "duration": 976,
    "start_time": "2023-06-04T16:13:34.614Z"
   },
   {
    "duration": 22,
    "start_time": "2023-06-04T16:13:35.591Z"
   },
   {
    "duration": 33,
    "start_time": "2023-06-04T16:13:35.614Z"
   },
   {
    "duration": 10,
    "start_time": "2023-06-04T16:13:35.650Z"
   },
   {
    "duration": 5,
    "start_time": "2023-06-04T16:13:35.662Z"
   },
   {
    "duration": 16,
    "start_time": "2023-06-04T16:13:35.668Z"
   },
   {
    "duration": 38,
    "start_time": "2023-06-04T16:13:35.689Z"
   },
   {
    "duration": 6,
    "start_time": "2023-06-04T16:13:35.729Z"
   },
   {
    "duration": 14,
    "start_time": "2023-06-04T16:13:35.736Z"
   },
   {
    "duration": 18,
    "start_time": "2023-06-04T16:13:35.752Z"
   },
   {
    "duration": 15,
    "start_time": "2023-06-04T16:13:35.779Z"
   },
   {
    "duration": 9,
    "start_time": "2023-06-04T16:13:35.796Z"
   },
   {
    "duration": 7,
    "start_time": "2023-06-04T16:13:35.811Z"
   },
   {
    "duration": 273,
    "start_time": "2023-06-04T16:13:35.819Z"
   },
   {
    "duration": 302,
    "start_time": "2023-06-04T16:13:36.094Z"
   },
   {
    "duration": 270,
    "start_time": "2023-06-04T16:13:36.402Z"
   },
   {
    "duration": 19,
    "start_time": "2023-06-04T16:13:36.677Z"
   },
   {
    "duration": 14,
    "start_time": "2023-06-04T16:13:36.702Z"
   },
   {
    "duration": 11,
    "start_time": "2023-06-04T16:13:36.718Z"
   },
   {
    "duration": 23,
    "start_time": "2023-06-04T16:13:36.731Z"
   },
   {
    "duration": 189,
    "start_time": "2023-06-04T16:13:36.756Z"
   },
   {
    "duration": 11,
    "start_time": "2023-06-04T16:13:36.947Z"
   },
   {
    "duration": 202,
    "start_time": "2023-06-04T16:13:36.960Z"
   },
   {
    "duration": 396,
    "start_time": "2023-06-04T16:13:37.163Z"
   },
   {
    "duration": 190,
    "start_time": "2023-06-04T16:13:37.561Z"
   },
   {
    "duration": 39,
    "start_time": "2023-06-04T16:13:37.752Z"
   },
   {
    "duration": 11,
    "start_time": "2023-06-04T16:13:37.793Z"
   },
   {
    "duration": 13,
    "start_time": "2023-06-04T16:13:37.806Z"
   },
   {
    "duration": 25,
    "start_time": "2023-06-04T16:13:37.821Z"
   },
   {
    "duration": 12,
    "start_time": "2023-06-04T16:13:40.010Z"
   },
   {
    "duration": 5,
    "start_time": "2023-06-04T16:15:01.796Z"
   },
   {
    "duration": 14,
    "start_time": "2023-06-04T16:15:07.649Z"
   },
   {
    "duration": 4,
    "start_time": "2023-06-04T16:19:54.918Z"
   },
   {
    "duration": 2622,
    "start_time": "2023-06-04T16:20:20.411Z"
   },
   {
    "duration": 2755,
    "start_time": "2023-06-04T16:21:14.130Z"
   },
   {
    "duration": 2346,
    "start_time": "2023-06-04T16:22:50.842Z"
   },
   {
    "duration": 2370,
    "start_time": "2023-06-04T16:23:16.079Z"
   },
   {
    "duration": 1572,
    "start_time": "2023-06-04T16:23:44.708Z"
   },
   {
    "duration": 2631,
    "start_time": "2023-06-04T16:23:57.959Z"
   },
   {
    "duration": 149172,
    "start_time": "2023-06-04T16:24:04.466Z"
   },
   {
    "duration": 144401,
    "start_time": "2023-06-04T16:40:23.190Z"
   },
   {
    "duration": 4,
    "start_time": "2023-06-04T16:43:55.194Z"
   },
   {
    "duration": 11,
    "start_time": "2023-06-04T16:45:03.611Z"
   },
   {
    "duration": 11,
    "start_time": "2023-06-04T16:47:31.108Z"
   },
   {
    "duration": 3,
    "start_time": "2023-06-04T16:48:44.467Z"
   },
   {
    "duration": 12,
    "start_time": "2023-06-04T16:52:00.673Z"
   },
   {
    "duration": 16,
    "start_time": "2023-06-04T16:52:25.690Z"
   },
   {
    "duration": 34,
    "start_time": "2023-06-04T16:53:02.207Z"
   },
   {
    "duration": 37,
    "start_time": "2023-06-04T16:54:57.537Z"
   },
   {
    "duration": 5,
    "start_time": "2023-06-04T16:55:03.401Z"
   },
   {
    "duration": 915,
    "start_time": "2023-06-04T16:55:03.409Z"
   },
   {
    "duration": 30,
    "start_time": "2023-06-04T16:55:04.326Z"
   },
   {
    "duration": 34,
    "start_time": "2023-06-04T16:55:04.358Z"
   },
   {
    "duration": 18,
    "start_time": "2023-06-04T16:55:04.395Z"
   },
   {
    "duration": 6,
    "start_time": "2023-06-04T16:55:04.415Z"
   },
   {
    "duration": 11,
    "start_time": "2023-06-04T16:55:04.423Z"
   },
   {
    "duration": 53,
    "start_time": "2023-06-04T16:55:04.436Z"
   },
   {
    "duration": 8,
    "start_time": "2023-06-04T16:55:04.492Z"
   },
   {
    "duration": 14,
    "start_time": "2023-06-04T16:55:04.503Z"
   },
   {
    "duration": 15,
    "start_time": "2023-06-04T16:55:04.518Z"
   },
   {
    "duration": 13,
    "start_time": "2023-06-04T16:55:04.535Z"
   },
   {
    "duration": 32,
    "start_time": "2023-06-04T16:55:04.550Z"
   },
   {
    "duration": 12,
    "start_time": "2023-06-04T16:55:04.584Z"
   },
   {
    "duration": 270,
    "start_time": "2023-06-04T16:55:04.598Z"
   },
   {
    "duration": 402,
    "start_time": "2023-06-04T16:55:04.870Z"
   },
   {
    "duration": 331,
    "start_time": "2023-06-04T16:55:05.275Z"
   },
   {
    "duration": 15,
    "start_time": "2023-06-04T16:55:05.607Z"
   },
   {
    "duration": 18,
    "start_time": "2023-06-04T16:55:05.624Z"
   },
   {
    "duration": 11,
    "start_time": "2023-06-04T16:55:05.644Z"
   },
   {
    "duration": 43,
    "start_time": "2023-06-04T16:55:05.657Z"
   },
   {
    "duration": 169,
    "start_time": "2023-06-04T16:55:05.702Z"
   },
   {
    "duration": 21,
    "start_time": "2023-06-04T16:55:05.873Z"
   },
   {
    "duration": 206,
    "start_time": "2023-06-04T16:55:05.896Z"
   },
   {
    "duration": 419,
    "start_time": "2023-06-04T16:55:06.104Z"
   },
   {
    "duration": 179,
    "start_time": "2023-06-04T16:55:06.526Z"
   },
   {
    "duration": 18,
    "start_time": "2023-06-04T16:55:06.706Z"
   },
   {
    "duration": 4,
    "start_time": "2023-06-04T16:55:06.728Z"
   },
   {
    "duration": 8,
    "start_time": "2023-06-04T16:55:06.734Z"
   },
   {
    "duration": 50,
    "start_time": "2023-06-04T16:55:06.743Z"
   },
   {
    "duration": 4,
    "start_time": "2023-06-04T16:55:06.795Z"
   },
   {
    "duration": 2370,
    "start_time": "2023-06-04T16:55:06.801Z"
   },
   {
    "duration": 22,
    "start_time": "2023-06-04T16:55:12.998Z"
   },
   {
    "duration": 17,
    "start_time": "2023-06-04T16:56:02.483Z"
   },
   {
    "duration": 0,
    "start_time": "2023-06-04T16:58:31.005Z"
   },
   {
    "duration": 23,
    "start_time": "2023-06-04T16:58:45.109Z"
   },
   {
    "duration": 26,
    "start_time": "2023-06-04T16:59:17.400Z"
   },
   {
    "duration": 13,
    "start_time": "2023-06-04T17:04:57.005Z"
   },
   {
    "duration": 9,
    "start_time": "2023-06-04T17:04:59.582Z"
   },
   {
    "duration": 11,
    "start_time": "2023-06-04T17:05:00.909Z"
   },
   {
    "duration": 18,
    "start_time": "2023-06-04T17:05:21.070Z"
   },
   {
    "duration": 272580,
    "start_time": "2023-06-04T17:05:32.636Z"
   },
   {
    "duration": 2012,
    "start_time": "2023-06-04T17:12:13.009Z"
   },
   {
    "duration": 1867,
    "start_time": "2023-06-04T17:12:48.804Z"
   },
   {
    "duration": 78620,
    "start_time": "2023-06-04T17:13:09.401Z"
   },
   {
    "duration": 15,
    "start_time": "2023-06-04T17:18:09.997Z"
   },
   {
    "duration": 2176,
    "start_time": "2023-06-04T17:18:23.704Z"
   },
   {
    "duration": 5,
    "start_time": "2023-06-04T17:20:22.910Z"
   },
   {
    "duration": 6,
    "start_time": "2023-06-04T17:20:24.731Z"
   },
   {
    "duration": 3635,
    "start_time": "2023-06-04T17:21:52.287Z"
   },
   {
    "duration": 16,
    "start_time": "2023-06-04T17:22:12.694Z"
   },
   {
    "duration": 7,
    "start_time": "2023-06-04T17:22:31.550Z"
   },
   {
    "duration": 4,
    "start_time": "2023-06-04T17:23:31.204Z"
   },
   {
    "duration": 5,
    "start_time": "2023-06-04T17:23:56.200Z"
   },
   {
    "duration": 13,
    "start_time": "2023-06-04T17:24:14.350Z"
   },
   {
    "duration": 7,
    "start_time": "2023-06-04T17:24:24.728Z"
   },
   {
    "duration": 4,
    "start_time": "2023-06-04T17:26:16.864Z"
   },
   {
    "duration": 865,
    "start_time": "2023-06-04T17:26:16.869Z"
   },
   {
    "duration": 18,
    "start_time": "2023-06-04T17:26:17.735Z"
   },
   {
    "duration": 34,
    "start_time": "2023-06-04T17:26:17.755Z"
   },
   {
    "duration": 9,
    "start_time": "2023-06-04T17:26:17.798Z"
   },
   {
    "duration": 6,
    "start_time": "2023-06-04T17:26:17.809Z"
   },
   {
    "duration": 4,
    "start_time": "2023-06-04T17:26:17.816Z"
   },
   {
    "duration": 22,
    "start_time": "2023-06-04T17:26:17.821Z"
   },
   {
    "duration": 5,
    "start_time": "2023-06-04T17:26:17.845Z"
   },
   {
    "duration": 40,
    "start_time": "2023-06-04T17:26:17.852Z"
   },
   {
    "duration": 16,
    "start_time": "2023-06-04T17:26:17.894Z"
   },
   {
    "duration": 12,
    "start_time": "2023-06-04T17:26:17.911Z"
   },
   {
    "duration": 5,
    "start_time": "2023-06-04T17:26:17.925Z"
   },
   {
    "duration": 5,
    "start_time": "2023-06-04T17:26:17.933Z"
   },
   {
    "duration": 283,
    "start_time": "2023-06-04T17:26:17.939Z"
   },
   {
    "duration": 298,
    "start_time": "2023-06-04T17:26:18.224Z"
   },
   {
    "duration": 304,
    "start_time": "2023-06-04T17:26:18.524Z"
   },
   {
    "duration": 14,
    "start_time": "2023-06-04T17:26:18.830Z"
   },
   {
    "duration": 183,
    "start_time": "2023-06-04T17:26:18.846Z"
   },
   {
    "duration": 9,
    "start_time": "2023-06-04T17:26:19.031Z"
   },
   {
    "duration": 48,
    "start_time": "2023-06-04T17:26:19.041Z"
   },
   {
    "duration": 168,
    "start_time": "2023-06-04T17:26:19.097Z"
   },
   {
    "duration": 22,
    "start_time": "2023-06-04T17:26:19.267Z"
   },
   {
    "duration": 201,
    "start_time": "2023-06-04T17:26:19.300Z"
   },
   {
    "duration": 450,
    "start_time": "2023-06-04T17:26:19.502Z"
   },
   {
    "duration": 195,
    "start_time": "2023-06-04T17:26:19.953Z"
   },
   {
    "duration": 16,
    "start_time": "2023-06-04T17:26:20.150Z"
   },
   {
    "duration": 5,
    "start_time": "2023-06-04T17:26:20.176Z"
   },
   {
    "duration": 14,
    "start_time": "2023-06-04T17:26:20.185Z"
   },
   {
    "duration": 26,
    "start_time": "2023-06-04T17:26:20.201Z"
   },
   {
    "duration": 3,
    "start_time": "2023-06-04T17:26:20.229Z"
   },
   {
    "duration": 262454,
    "start_time": "2023-06-04T17:26:20.233Z"
   },
   {
    "duration": 76961,
    "start_time": "2023-06-04T17:30:42.690Z"
   },
   {
    "duration": 2527,
    "start_time": "2023-06-04T17:31:59.653Z"
   },
   {
    "duration": 11,
    "start_time": "2023-06-04T17:32:02.183Z"
   },
   {
    "duration": 87,
    "start_time": "2023-06-04T17:32:02.198Z"
   },
   {
    "duration": 3500,
    "start_time": "2023-06-04T17:32:02.290Z"
   },
   {
    "duration": 8,
    "start_time": "2023-06-04T17:32:05.791Z"
   },
   {
    "duration": 17,
    "start_time": "2023-06-04T17:32:05.801Z"
   },
   {
    "duration": 21,
    "start_time": "2023-06-04T17:32:05.820Z"
   },
   {
    "duration": 3996,
    "start_time": "2023-06-05T18:02:45.750Z"
   },
   {
    "duration": 4303,
    "start_time": "2023-06-05T18:02:49.748Z"
   },
   {
    "duration": 22,
    "start_time": "2023-06-05T18:02:54.053Z"
   },
   {
    "duration": 18,
    "start_time": "2023-06-05T18:02:54.077Z"
   },
   {
    "duration": 15,
    "start_time": "2023-06-05T18:02:54.097Z"
   },
   {
    "duration": 13,
    "start_time": "2023-06-05T18:02:54.114Z"
   },
   {
    "duration": 15,
    "start_time": "2023-06-05T18:02:54.131Z"
   },
   {
    "duration": 33,
    "start_time": "2023-06-05T18:02:54.148Z"
   },
   {
    "duration": 8,
    "start_time": "2023-06-05T18:02:54.182Z"
   },
   {
    "duration": 41,
    "start_time": "2023-06-05T18:03:02.015Z"
   },
   {
    "duration": 21,
    "start_time": "2023-06-05T18:03:09.487Z"
   },
   {
    "duration": 36,
    "start_time": "2023-06-05T18:03:11.856Z"
   },
   {
    "duration": 34,
    "start_time": "2023-06-05T18:03:13.596Z"
   },
   {
    "duration": 4,
    "start_time": "2023-06-05T18:07:48.503Z"
   },
   {
    "duration": 859,
    "start_time": "2023-06-05T18:07:48.509Z"
   },
   {
    "duration": 18,
    "start_time": "2023-06-05T18:07:49.370Z"
   },
   {
    "duration": 40,
    "start_time": "2023-06-05T18:07:49.390Z"
   },
   {
    "duration": 14,
    "start_time": "2023-06-05T18:07:49.444Z"
   },
   {
    "duration": 7,
    "start_time": "2023-06-05T18:07:49.460Z"
   },
   {
    "duration": 22,
    "start_time": "2023-06-05T18:07:49.468Z"
   },
   {
    "duration": 25,
    "start_time": "2023-06-05T18:07:49.491Z"
   },
   {
    "duration": 9,
    "start_time": "2023-06-05T18:07:49.518Z"
   },
   {
    "duration": 27,
    "start_time": "2023-06-05T18:07:49.529Z"
   },
   {
    "duration": 12,
    "start_time": "2023-06-05T18:07:49.558Z"
   },
   {
    "duration": 21,
    "start_time": "2023-06-05T18:07:49.574Z"
   },
   {
    "duration": 46,
    "start_time": "2023-06-05T18:07:49.597Z"
   },
   {
    "duration": 11,
    "start_time": "2023-06-05T18:07:49.652Z"
   },
   {
    "duration": 5,
    "start_time": "2023-06-05T18:07:49.666Z"
   },
   {
    "duration": 332,
    "start_time": "2023-06-05T18:07:49.672Z"
   },
   {
    "duration": 304,
    "start_time": "2023-06-05T18:07:50.006Z"
   },
   {
    "duration": 371,
    "start_time": "2023-06-05T18:07:50.312Z"
   },
   {
    "duration": 12,
    "start_time": "2023-06-05T18:07:50.685Z"
   },
   {
    "duration": 33,
    "start_time": "2023-06-05T18:07:50.698Z"
   },
   {
    "duration": 39,
    "start_time": "2023-06-05T18:07:58.508Z"
   },
   {
    "duration": 1707,
    "start_time": "2023-06-05T18:37:27.820Z"
   },
   {
    "duration": 3112,
    "start_time": "2023-06-05T18:37:29.529Z"
   },
   {
    "duration": 21,
    "start_time": "2023-06-05T18:37:32.643Z"
   },
   {
    "duration": 16,
    "start_time": "2023-06-05T18:37:32.666Z"
   },
   {
    "duration": 13,
    "start_time": "2023-06-05T18:37:32.684Z"
   },
   {
    "duration": 5,
    "start_time": "2023-06-05T18:37:32.699Z"
   },
   {
    "duration": 7,
    "start_time": "2023-06-05T18:37:32.705Z"
   },
   {
    "duration": 57,
    "start_time": "2023-06-05T18:37:32.714Z"
   },
   {
    "duration": 8,
    "start_time": "2023-06-05T18:37:32.772Z"
   },
   {
    "duration": 30,
    "start_time": "2023-06-05T18:37:32.782Z"
   },
   {
    "duration": 32,
    "start_time": "2023-06-05T18:37:43.458Z"
   },
   {
    "duration": 114,
    "start_time": "2023-06-05T18:37:56.837Z"
   },
   {
    "duration": 5,
    "start_time": "2023-06-05T18:38:04.186Z"
   },
   {
    "duration": 686,
    "start_time": "2023-06-05T18:38:04.195Z"
   },
   {
    "duration": 16,
    "start_time": "2023-06-05T18:38:04.883Z"
   },
   {
    "duration": 17,
    "start_time": "2023-06-05T18:38:04.901Z"
   },
   {
    "duration": 9,
    "start_time": "2023-06-05T18:38:04.919Z"
   },
   {
    "duration": 30,
    "start_time": "2023-06-05T18:38:04.930Z"
   },
   {
    "duration": 5,
    "start_time": "2023-06-05T18:38:04.961Z"
   },
   {
    "duration": 23,
    "start_time": "2023-06-05T18:38:04.968Z"
   },
   {
    "duration": 13,
    "start_time": "2023-06-05T18:38:04.992Z"
   },
   {
    "duration": 27,
    "start_time": "2023-06-05T18:38:05.007Z"
   },
   {
    "duration": 38,
    "start_time": "2023-06-05T18:38:06.958Z"
   },
   {
    "duration": 1544,
    "start_time": "2023-06-05T21:46:08.744Z"
   },
   {
    "duration": 2096,
    "start_time": "2023-06-05T21:46:10.290Z"
   },
   {
    "duration": 21,
    "start_time": "2023-06-05T21:46:12.388Z"
   },
   {
    "duration": 16,
    "start_time": "2023-06-05T21:46:12.411Z"
   },
   {
    "duration": 20,
    "start_time": "2023-06-05T21:46:12.429Z"
   },
   {
    "duration": 4,
    "start_time": "2023-06-05T21:46:12.451Z"
   },
   {
    "duration": 7,
    "start_time": "2023-06-05T21:46:12.456Z"
   },
   {
    "duration": 26,
    "start_time": "2023-06-05T21:46:12.464Z"
   },
   {
    "duration": 7,
    "start_time": "2023-06-05T21:46:12.492Z"
   },
   {
    "duration": 21,
    "start_time": "2023-06-05T21:46:12.500Z"
   },
   {
    "duration": 31,
    "start_time": "2023-06-05T21:46:12.542Z"
   },
   {
    "duration": 15,
    "start_time": "2023-06-05T21:46:12.574Z"
   },
   {
    "duration": 12,
    "start_time": "2023-06-05T21:46:12.590Z"
   },
   {
    "duration": 5,
    "start_time": "2023-06-05T21:46:12.605Z"
   },
   {
    "duration": 3,
    "start_time": "2023-06-05T21:46:12.642Z"
   },
   {
    "duration": 269,
    "start_time": "2023-06-05T21:46:12.647Z"
   },
   {
    "duration": 333,
    "start_time": "2023-06-05T21:46:12.918Z"
   },
   {
    "duration": 289,
    "start_time": "2023-06-05T21:46:13.253Z"
   },
   {
    "duration": 14,
    "start_time": "2023-06-05T21:46:16.604Z"
   },
   {
    "duration": 108,
    "start_time": "2023-06-05T21:49:19.543Z"
   },
   {
    "duration": 17,
    "start_time": "2023-06-05T21:49:38.239Z"
   },
   {
    "duration": 2535,
    "start_time": "2023-06-05T21:50:45.826Z"
   },
   {
    "duration": 36,
    "start_time": "2023-06-05T21:52:50.146Z"
   },
   {
    "duration": 30,
    "start_time": "2023-06-05T21:56:22.859Z"
   },
   {
    "duration": 777,
    "start_time": "2023-06-05T21:57:39.514Z"
   },
   {
    "duration": 4,
    "start_time": "2023-06-05T21:57:50.129Z"
   },
   {
    "duration": 4,
    "start_time": "2023-06-05T22:02:11.312Z"
   },
   {
    "duration": 783,
    "start_time": "2023-06-05T22:02:11.318Z"
   },
   {
    "duration": 20,
    "start_time": "2023-06-05T22:02:12.103Z"
   },
   {
    "duration": 33,
    "start_time": "2023-06-05T22:02:12.125Z"
   },
   {
    "duration": 12,
    "start_time": "2023-06-05T22:02:12.161Z"
   },
   {
    "duration": 5,
    "start_time": "2023-06-05T22:02:12.174Z"
   },
   {
    "duration": 7,
    "start_time": "2023-06-05T22:02:12.181Z"
   },
   {
    "duration": 55,
    "start_time": "2023-06-05T22:02:12.189Z"
   },
   {
    "duration": 8,
    "start_time": "2023-06-05T22:02:12.246Z"
   },
   {
    "duration": 23,
    "start_time": "2023-06-05T22:02:12.255Z"
   },
   {
    "duration": 10,
    "start_time": "2023-06-05T22:02:15.366Z"
   },
   {
    "duration": 13,
    "start_time": "2023-06-05T22:02:20.432Z"
   },
   {
    "duration": 22,
    "start_time": "2023-06-05T22:02:24.670Z"
   },
   {
    "duration": 4,
    "start_time": "2023-06-05T22:02:32.024Z"
   },
   {
    "duration": 736,
    "start_time": "2023-06-05T22:02:32.034Z"
   },
   {
    "duration": 19,
    "start_time": "2023-06-05T22:02:32.772Z"
   },
   {
    "duration": 20,
    "start_time": "2023-06-05T22:02:32.793Z"
   },
   {
    "duration": 29,
    "start_time": "2023-06-05T22:02:32.814Z"
   },
   {
    "duration": 6,
    "start_time": "2023-06-05T22:02:32.845Z"
   },
   {
    "duration": 16,
    "start_time": "2023-06-05T22:02:32.853Z"
   },
   {
    "duration": 33,
    "start_time": "2023-06-05T22:02:32.870Z"
   },
   {
    "duration": 14,
    "start_time": "2023-06-05T22:02:32.904Z"
   },
   {
    "duration": 32,
    "start_time": "2023-06-05T22:02:32.919Z"
   },
   {
    "duration": 44,
    "start_time": "2023-06-05T22:02:35.375Z"
   },
   {
    "duration": 16,
    "start_time": "2023-06-05T22:03:29.805Z"
   },
   {
    "duration": 4,
    "start_time": "2023-06-05T22:03:33.486Z"
   },
   {
    "duration": 816,
    "start_time": "2023-06-05T22:03:33.492Z"
   },
   {
    "duration": 19,
    "start_time": "2023-06-05T22:03:34.310Z"
   },
   {
    "duration": 16,
    "start_time": "2023-06-05T22:03:34.341Z"
   },
   {
    "duration": 10,
    "start_time": "2023-06-05T22:03:34.359Z"
   },
   {
    "duration": 4,
    "start_time": "2023-06-05T22:03:34.370Z"
   },
   {
    "duration": 7,
    "start_time": "2023-06-05T22:03:34.376Z"
   },
   {
    "duration": 65,
    "start_time": "2023-06-05T22:03:34.385Z"
   },
   {
    "duration": 10,
    "start_time": "2023-06-05T22:03:37.870Z"
   },
   {
    "duration": 15,
    "start_time": "2023-06-05T22:03:40.870Z"
   },
   {
    "duration": 5,
    "start_time": "2023-06-05T22:03:46.796Z"
   },
   {
    "duration": 4,
    "start_time": "2023-06-05T22:03:54.322Z"
   },
   {
    "duration": 4,
    "start_time": "2023-06-05T22:04:14.086Z"
   },
   {
    "duration": 710,
    "start_time": "2023-06-05T22:04:14.092Z"
   },
   {
    "duration": 17,
    "start_time": "2023-06-05T22:04:14.803Z"
   },
   {
    "duration": 33,
    "start_time": "2023-06-05T22:04:14.822Z"
   },
   {
    "duration": 8,
    "start_time": "2023-06-05T22:04:14.857Z"
   },
   {
    "duration": 5,
    "start_time": "2023-06-05T22:04:14.867Z"
   },
   {
    "duration": 11,
    "start_time": "2023-06-05T22:04:14.873Z"
   },
   {
    "duration": 26,
    "start_time": "2023-06-05T22:04:14.886Z"
   },
   {
    "duration": 27,
    "start_time": "2023-06-05T22:04:14.914Z"
   },
   {
    "duration": 19,
    "start_time": "2023-06-05T22:04:14.943Z"
   },
   {
    "duration": 23,
    "start_time": "2023-06-05T22:04:14.964Z"
   },
   {
    "duration": 13,
    "start_time": "2023-06-05T22:04:14.988Z"
   },
   {
    "duration": 12,
    "start_time": "2023-06-05T22:04:15.002Z"
   },
   {
    "duration": 40,
    "start_time": "2023-06-05T22:04:15.016Z"
   },
   {
    "duration": 34,
    "start_time": "2023-06-05T22:04:15.058Z"
   },
   {
    "duration": 361,
    "start_time": "2023-06-05T22:04:15.093Z"
   },
   {
    "duration": 261,
    "start_time": "2023-06-05T22:04:15.456Z"
   },
   {
    "duration": 244,
    "start_time": "2023-06-05T22:04:15.719Z"
   },
   {
    "duration": 13,
    "start_time": "2023-06-05T22:04:15.965Z"
   },
   {
    "duration": 12,
    "start_time": "2023-06-05T22:04:15.980Z"
   },
   {
    "duration": 2337,
    "start_time": "2023-06-05T22:04:15.994Z"
   },
   {
    "duration": 1337,
    "start_time": "2023-06-05T22:04:18.333Z"
   },
   {
    "duration": 13,
    "start_time": "2023-06-05T22:06:18.557Z"
   },
   {
    "duration": 4,
    "start_time": "2023-06-05T22:06:25.679Z"
   },
   {
    "duration": 715,
    "start_time": "2023-06-05T22:06:25.686Z"
   },
   {
    "duration": 158,
    "start_time": "2023-06-05T22:06:26.402Z"
   },
   {
    "duration": 16,
    "start_time": "2023-06-05T22:06:26.562Z"
   },
   {
    "duration": 8,
    "start_time": "2023-06-05T22:06:26.580Z"
   },
   {
    "duration": 4,
    "start_time": "2023-06-05T22:06:26.589Z"
   },
   {
    "duration": 10,
    "start_time": "2023-06-05T22:06:26.595Z"
   },
   {
    "duration": 54,
    "start_time": "2023-06-05T22:06:26.606Z"
   },
   {
    "duration": 10,
    "start_time": "2023-06-05T22:06:26.662Z"
   },
   {
    "duration": 17,
    "start_time": "2023-06-05T22:06:26.674Z"
   },
   {
    "duration": 16,
    "start_time": "2023-06-05T22:06:26.693Z"
   },
   {
    "duration": 40,
    "start_time": "2023-06-05T22:06:26.711Z"
   },
   {
    "duration": 15,
    "start_time": "2023-06-05T22:06:26.753Z"
   },
   {
    "duration": 5,
    "start_time": "2023-06-05T22:06:26.772Z"
   },
   {
    "duration": 6,
    "start_time": "2023-06-05T22:06:26.779Z"
   },
   {
    "duration": 273,
    "start_time": "2023-06-05T22:06:26.786Z"
   },
   {
    "duration": 274,
    "start_time": "2023-06-05T22:06:27.061Z"
   },
   {
    "duration": 274,
    "start_time": "2023-06-05T22:06:27.337Z"
   },
   {
    "duration": 15,
    "start_time": "2023-06-05T22:06:27.613Z"
   },
   {
    "duration": 11,
    "start_time": "2023-06-05T22:06:27.641Z"
   },
   {
    "duration": 2563,
    "start_time": "2023-06-05T22:06:27.653Z"
   },
   {
    "duration": 4,
    "start_time": "2023-06-05T22:13:43.640Z"
   },
   {
    "duration": 756,
    "start_time": "2023-06-05T22:13:43.647Z"
   },
   {
    "duration": 19,
    "start_time": "2023-06-05T22:13:44.404Z"
   },
   {
    "duration": 27,
    "start_time": "2023-06-05T22:13:44.425Z"
   },
   {
    "duration": 11,
    "start_time": "2023-06-05T22:13:44.454Z"
   },
   {
    "duration": 4,
    "start_time": "2023-06-05T22:13:44.467Z"
   },
   {
    "duration": 9,
    "start_time": "2023-06-05T22:13:44.472Z"
   },
   {
    "duration": 23,
    "start_time": "2023-06-05T22:13:44.482Z"
   },
   {
    "duration": 41,
    "start_time": "2023-06-05T22:13:44.507Z"
   },
   {
    "duration": 21,
    "start_time": "2023-06-05T22:13:44.550Z"
   },
   {
    "duration": 16,
    "start_time": "2023-06-05T22:13:44.573Z"
   },
   {
    "duration": 66,
    "start_time": "2023-06-05T22:13:44.590Z"
   },
   {
    "duration": 15,
    "start_time": "2023-06-05T22:13:44.657Z"
   },
   {
    "duration": 5,
    "start_time": "2023-06-05T22:13:44.675Z"
   },
   {
    "duration": 60,
    "start_time": "2023-06-05T22:13:44.682Z"
   },
   {
    "duration": 253,
    "start_time": "2023-06-05T22:13:44.744Z"
   },
   {
    "duration": 262,
    "start_time": "2023-06-05T22:13:44.999Z"
   },
   {
    "duration": 284,
    "start_time": "2023-06-05T22:13:45.263Z"
   },
   {
    "duration": 15,
    "start_time": "2023-06-05T22:13:45.549Z"
   },
   {
    "duration": 12,
    "start_time": "2023-06-05T22:13:45.566Z"
   },
   {
    "duration": 2606,
    "start_time": "2023-06-05T22:13:45.580Z"
   },
   {
    "duration": 93,
    "start_time": "2023-06-05T22:13:50.749Z"
   },
   {
    "duration": 4,
    "start_time": "2023-06-05T22:14:09.471Z"
   },
   {
    "duration": 731,
    "start_time": "2023-06-05T22:14:09.477Z"
   },
   {
    "duration": 19,
    "start_time": "2023-06-05T22:14:10.210Z"
   },
   {
    "duration": 26,
    "start_time": "2023-06-05T22:14:10.231Z"
   },
   {
    "duration": 8,
    "start_time": "2023-06-05T22:14:10.260Z"
   },
   {
    "duration": 6,
    "start_time": "2023-06-05T22:14:10.270Z"
   },
   {
    "duration": 6,
    "start_time": "2023-06-05T22:14:10.277Z"
   },
   {
    "duration": 23,
    "start_time": "2023-06-05T22:14:10.284Z"
   },
   {
    "duration": 11,
    "start_time": "2023-06-05T22:14:10.341Z"
   },
   {
    "duration": 18,
    "start_time": "2023-06-05T22:14:10.353Z"
   },
   {
    "duration": 15,
    "start_time": "2023-06-05T22:14:10.373Z"
   },
   {
    "duration": 13,
    "start_time": "2023-06-05T22:14:10.389Z"
   },
   {
    "duration": 47,
    "start_time": "2023-06-05T22:14:10.403Z"
   },
   {
    "duration": 6,
    "start_time": "2023-06-05T22:14:10.452Z"
   },
   {
    "duration": 6,
    "start_time": "2023-06-05T22:14:10.459Z"
   },
   {
    "duration": 251,
    "start_time": "2023-06-05T22:14:10.466Z"
   },
   {
    "duration": 236,
    "start_time": "2023-06-05T22:14:10.718Z"
   },
   {
    "duration": 254,
    "start_time": "2023-06-05T22:14:10.955Z"
   },
   {
    "duration": 14,
    "start_time": "2023-06-05T22:14:11.211Z"
   },
   {
    "duration": 9,
    "start_time": "2023-06-05T22:14:11.241Z"
   },
   {
    "duration": 2579,
    "start_time": "2023-06-05T22:14:11.252Z"
   },
   {
    "duration": 24,
    "start_time": "2023-06-05T22:14:30.422Z"
   },
   {
    "duration": 121,
    "start_time": "2023-06-05T22:16:04.398Z"
   },
   {
    "duration": 16,
    "start_time": "2023-06-05T22:20:01.302Z"
   },
   {
    "duration": 40,
    "start_time": "2023-06-05T22:21:08.233Z"
   },
   {
    "duration": 4,
    "start_time": "2023-06-05T22:22:51.048Z"
   },
   {
    "duration": 810,
    "start_time": "2023-06-05T22:22:51.054Z"
   },
   {
    "duration": 26,
    "start_time": "2023-06-05T22:22:51.866Z"
   },
   {
    "duration": 59,
    "start_time": "2023-06-05T22:22:51.894Z"
   },
   {
    "duration": 29,
    "start_time": "2023-06-05T22:22:51.956Z"
   },
   {
    "duration": 74,
    "start_time": "2023-06-05T22:22:51.987Z"
   },
   {
    "duration": 67,
    "start_time": "2023-06-05T22:22:52.063Z"
   },
   {
    "duration": 55,
    "start_time": "2023-06-05T22:22:52.133Z"
   },
   {
    "duration": 66,
    "start_time": "2023-06-05T22:22:52.190Z"
   },
   {
    "duration": 90,
    "start_time": "2023-06-05T22:22:52.258Z"
   },
   {
    "duration": 107,
    "start_time": "2023-06-05T22:22:52.350Z"
   },
   {
    "duration": 71,
    "start_time": "2023-06-05T22:22:52.460Z"
   },
   {
    "duration": 55,
    "start_time": "2023-06-05T22:22:52.533Z"
   },
   {
    "duration": 86,
    "start_time": "2023-06-05T22:22:52.592Z"
   },
   {
    "duration": 93,
    "start_time": "2023-06-05T22:22:52.680Z"
   },
   {
    "duration": 436,
    "start_time": "2023-06-05T22:22:52.775Z"
   },
   {
    "duration": 321,
    "start_time": "2023-06-05T22:22:53.214Z"
   },
   {
    "duration": 300,
    "start_time": "2023-06-05T22:22:53.537Z"
   },
   {
    "duration": 15,
    "start_time": "2023-06-05T22:22:53.841Z"
   },
   {
    "duration": 71,
    "start_time": "2023-06-05T22:22:53.858Z"
   },
   {
    "duration": 2609,
    "start_time": "2023-06-05T22:22:53.932Z"
   },
   {
    "duration": 24,
    "start_time": "2023-06-05T22:23:54.494Z"
   },
   {
    "duration": 4,
    "start_time": "2023-06-05T22:24:25.590Z"
   },
   {
    "duration": 774,
    "start_time": "2023-06-05T22:24:25.596Z"
   },
   {
    "duration": 254,
    "start_time": "2023-06-05T22:24:26.372Z"
   },
   {
    "duration": 23,
    "start_time": "2023-06-05T22:24:26.628Z"
   },
   {
    "duration": 9,
    "start_time": "2023-06-05T22:24:26.653Z"
   },
   {
    "duration": 5,
    "start_time": "2023-06-05T22:24:26.664Z"
   },
   {
    "duration": 14,
    "start_time": "2023-06-05T22:24:26.671Z"
   },
   {
    "duration": 24,
    "start_time": "2023-06-05T22:24:26.687Z"
   },
   {
    "duration": 31,
    "start_time": "2023-06-05T22:24:26.714Z"
   },
   {
    "duration": 21,
    "start_time": "2023-06-05T22:24:26.746Z"
   },
   {
    "duration": 14,
    "start_time": "2023-06-05T22:24:26.769Z"
   },
   {
    "duration": 15,
    "start_time": "2023-06-05T22:24:26.784Z"
   },
   {
    "duration": 48,
    "start_time": "2023-06-05T22:24:26.800Z"
   },
   {
    "duration": 6,
    "start_time": "2023-06-05T22:24:26.850Z"
   },
   {
    "duration": 7,
    "start_time": "2023-06-05T22:24:26.858Z"
   },
   {
    "duration": 275,
    "start_time": "2023-06-05T22:24:26.866Z"
   },
   {
    "duration": 267,
    "start_time": "2023-06-05T22:24:27.143Z"
   },
   {
    "duration": 288,
    "start_time": "2023-06-05T22:24:27.412Z"
   },
   {
    "duration": 16,
    "start_time": "2023-06-05T22:24:27.702Z"
   },
   {
    "duration": 29,
    "start_time": "2023-06-05T22:24:27.721Z"
   },
   {
    "duration": 5,
    "start_time": "2023-06-05T22:24:29.411Z"
   },
   {
    "duration": 4,
    "start_time": "2023-06-05T22:24:41.075Z"
   },
   {
    "duration": 799,
    "start_time": "2023-06-05T22:24:41.082Z"
   },
   {
    "duration": 22,
    "start_time": "2023-06-05T22:24:41.884Z"
   },
   {
    "duration": 95,
    "start_time": "2023-06-05T22:24:41.908Z"
   },
   {
    "duration": 16,
    "start_time": "2023-06-05T22:24:42.005Z"
   },
   {
    "duration": 5,
    "start_time": "2023-06-05T22:24:42.023Z"
   },
   {
    "duration": 8,
    "start_time": "2023-06-05T22:24:42.030Z"
   },
   {
    "duration": 37,
    "start_time": "2023-06-05T22:24:42.040Z"
   },
   {
    "duration": 11,
    "start_time": "2023-06-05T22:24:42.080Z"
   },
   {
    "duration": 34,
    "start_time": "2023-06-05T22:24:42.093Z"
   },
   {
    "duration": 27,
    "start_time": "2023-06-05T22:24:42.130Z"
   },
   {
    "duration": 24,
    "start_time": "2023-06-05T22:24:42.159Z"
   },
   {
    "duration": 16,
    "start_time": "2023-06-05T22:24:42.186Z"
   },
   {
    "duration": 38,
    "start_time": "2023-06-05T22:24:42.206Z"
   },
   {
    "duration": 10,
    "start_time": "2023-06-05T22:24:42.246Z"
   },
   {
    "duration": 271,
    "start_time": "2023-06-05T22:24:42.258Z"
   },
   {
    "duration": 286,
    "start_time": "2023-06-05T22:24:42.531Z"
   },
   {
    "duration": 359,
    "start_time": "2023-06-05T22:24:42.819Z"
   },
   {
    "duration": 17,
    "start_time": "2023-06-05T22:24:43.180Z"
   },
   {
    "duration": 13,
    "start_time": "2023-06-05T22:24:43.199Z"
   },
   {
    "duration": 2471,
    "start_time": "2023-06-05T22:24:43.214Z"
   },
   {
    "duration": 25,
    "start_time": "2023-06-05T22:24:49.305Z"
   },
   {
    "duration": 7,
    "start_time": "2023-06-05T22:25:42.445Z"
   },
   {
    "duration": 58,
    "start_time": "2023-06-05T22:26:31.422Z"
   },
   {
    "duration": 596,
    "start_time": "2023-06-05T22:28:16.403Z"
   },
   {
    "duration": 10,
    "start_time": "2023-06-05T22:29:54.047Z"
   },
   {
    "duration": 1673,
    "start_time": "2023-06-05T22:30:36.309Z"
   },
   {
    "duration": 364,
    "start_time": "2023-06-05T22:31:21.322Z"
   },
   {
    "duration": 392,
    "start_time": "2023-06-05T22:32:07.813Z"
   },
   {
    "duration": 691,
    "start_time": "2023-06-05T22:32:26.185Z"
   },
   {
    "duration": 388,
    "start_time": "2023-06-05T22:32:38.154Z"
   },
   {
    "duration": 406,
    "start_time": "2023-06-05T22:34:22.809Z"
   },
   {
    "duration": 420,
    "start_time": "2023-06-05T22:34:47.502Z"
   },
   {
    "duration": 17,
    "start_time": "2023-06-05T22:37:56.884Z"
   },
   {
    "duration": 11,
    "start_time": "2023-06-05T22:38:27.146Z"
   },
   {
    "duration": 2600,
    "start_time": "2023-06-05T22:38:36.501Z"
   },
   {
    "duration": 4,
    "start_time": "2023-06-05T22:39:05.431Z"
   },
   {
    "duration": 767,
    "start_time": "2023-06-05T22:39:05.437Z"
   },
   {
    "duration": 19,
    "start_time": "2023-06-05T22:39:06.206Z"
   },
   {
    "duration": 30,
    "start_time": "2023-06-05T22:39:06.227Z"
   },
   {
    "duration": 12,
    "start_time": "2023-06-05T22:39:06.259Z"
   },
   {
    "duration": 7,
    "start_time": "2023-06-05T22:39:06.272Z"
   },
   {
    "duration": 9,
    "start_time": "2023-06-05T22:39:06.280Z"
   },
   {
    "duration": 53,
    "start_time": "2023-06-05T22:39:06.290Z"
   },
   {
    "duration": 7,
    "start_time": "2023-06-05T22:39:06.344Z"
   },
   {
    "duration": 22,
    "start_time": "2023-06-05T22:39:06.353Z"
   },
   {
    "duration": 16,
    "start_time": "2023-06-05T22:39:06.376Z"
   },
   {
    "duration": 14,
    "start_time": "2023-06-05T22:39:06.394Z"
   },
   {
    "duration": 42,
    "start_time": "2023-06-05T22:39:06.410Z"
   },
   {
    "duration": 6,
    "start_time": "2023-06-05T22:39:06.455Z"
   },
   {
    "duration": 20,
    "start_time": "2023-06-05T22:39:06.462Z"
   },
   {
    "duration": 253,
    "start_time": "2023-06-05T22:39:06.484Z"
   },
   {
    "duration": 277,
    "start_time": "2023-06-05T22:39:06.738Z"
   },
   {
    "duration": 267,
    "start_time": "2023-06-05T22:39:07.017Z"
   },
   {
    "duration": 14,
    "start_time": "2023-06-05T22:39:07.286Z"
   },
   {
    "duration": 9,
    "start_time": "2023-06-05T22:39:07.302Z"
   },
   {
    "duration": 2428,
    "start_time": "2023-06-05T22:39:07.313Z"
   },
   {
    "duration": 26,
    "start_time": "2023-06-05T22:39:09.743Z"
   },
   {
    "duration": 7,
    "start_time": "2023-06-05T22:39:09.771Z"
   },
   {
    "duration": 455,
    "start_time": "2023-06-05T22:39:09.780Z"
   },
   {
    "duration": 3736,
    "start_time": "2023-06-05T22:39:33.266Z"
   },
   {
    "duration": 1139,
    "start_time": "2023-06-05T22:40:04.293Z"
   },
   {
    "duration": 1124,
    "start_time": "2023-06-05T22:40:54.319Z"
   },
   {
    "duration": 4,
    "start_time": "2023-06-05T22:48:51.002Z"
   },
   {
    "duration": 761,
    "start_time": "2023-06-05T22:48:51.008Z"
   },
   {
    "duration": 22,
    "start_time": "2023-06-05T22:48:51.770Z"
   },
   {
    "duration": 16,
    "start_time": "2023-06-05T22:48:51.793Z"
   },
   {
    "duration": 34,
    "start_time": "2023-06-05T22:48:51.811Z"
   },
   {
    "duration": 5,
    "start_time": "2023-06-05T22:48:51.847Z"
   },
   {
    "duration": 6,
    "start_time": "2023-06-05T22:48:51.853Z"
   },
   {
    "duration": 27,
    "start_time": "2023-06-05T22:48:51.861Z"
   },
   {
    "duration": 21,
    "start_time": "2023-06-05T22:48:51.890Z"
   },
   {
    "duration": 51,
    "start_time": "2023-06-05T22:48:51.913Z"
   },
   {
    "duration": 23,
    "start_time": "2023-06-05T22:48:51.966Z"
   },
   {
    "duration": 17,
    "start_time": "2023-06-05T22:48:51.991Z"
   },
   {
    "duration": 32,
    "start_time": "2023-06-05T22:48:52.010Z"
   },
   {
    "duration": 7,
    "start_time": "2023-06-05T22:48:52.045Z"
   },
   {
    "duration": 16,
    "start_time": "2023-06-05T22:48:52.054Z"
   },
   {
    "duration": 650,
    "start_time": "2023-06-05T22:48:52.072Z"
   },
   {
    "duration": 258,
    "start_time": "2023-06-05T22:48:52.724Z"
   },
   {
    "duration": 279,
    "start_time": "2023-06-05T22:48:52.984Z"
   },
   {
    "duration": 13,
    "start_time": "2023-06-05T22:48:53.264Z"
   },
   {
    "duration": 12,
    "start_time": "2023-06-05T22:48:53.278Z"
   },
   {
    "duration": 2316,
    "start_time": "2023-06-05T22:48:53.292Z"
   },
   {
    "duration": 37,
    "start_time": "2023-06-05T22:48:55.610Z"
   },
   {
    "duration": 6,
    "start_time": "2023-06-05T22:48:55.648Z"
   },
   {
    "duration": 365,
    "start_time": "2023-06-05T22:48:55.656Z"
   },
   {
    "duration": 1100,
    "start_time": "2023-06-05T22:48:56.023Z"
   },
   {
    "duration": 25,
    "start_time": "2023-06-05T22:48:57.125Z"
   },
   {
    "duration": 6,
    "start_time": "2023-06-05T22:48:57.152Z"
   },
   {
    "duration": 23,
    "start_time": "2023-06-05T22:48:57.159Z"
   },
   {
    "duration": 0,
    "start_time": "2023-06-05T22:48:57.184Z"
   },
   {
    "duration": 0,
    "start_time": "2023-06-05T22:48:57.185Z"
   },
   {
    "duration": 12,
    "start_time": "2023-06-05T22:49:03.343Z"
   },
   {
    "duration": 4,
    "start_time": "2023-06-05T22:49:36.077Z"
   },
   {
    "duration": 766,
    "start_time": "2023-06-05T22:49:36.082Z"
   },
   {
    "duration": 19,
    "start_time": "2023-06-05T22:49:36.850Z"
   },
   {
    "duration": 18,
    "start_time": "2023-06-05T22:49:36.870Z"
   },
   {
    "duration": 14,
    "start_time": "2023-06-05T22:49:36.890Z"
   },
   {
    "duration": 36,
    "start_time": "2023-06-05T22:49:36.906Z"
   },
   {
    "duration": 5,
    "start_time": "2023-06-05T22:49:36.944Z"
   },
   {
    "duration": 36,
    "start_time": "2023-06-05T22:49:36.950Z"
   },
   {
    "duration": 13,
    "start_time": "2023-06-05T22:49:36.989Z"
   },
   {
    "duration": 23,
    "start_time": "2023-06-05T22:49:37.003Z"
   },
   {
    "duration": 24,
    "start_time": "2023-06-05T22:49:37.028Z"
   },
   {
    "duration": 18,
    "start_time": "2023-06-05T22:49:37.054Z"
   },
   {
    "duration": 13,
    "start_time": "2023-06-05T22:49:37.074Z"
   },
   {
    "duration": 19,
    "start_time": "2023-06-05T22:49:37.090Z"
   },
   {
    "duration": 16,
    "start_time": "2023-06-05T22:49:37.110Z"
   },
   {
    "duration": 266,
    "start_time": "2023-06-05T22:49:37.142Z"
   },
   {
    "duration": 276,
    "start_time": "2023-06-05T22:49:37.410Z"
   },
   {
    "duration": 266,
    "start_time": "2023-06-05T22:49:37.688Z"
   },
   {
    "duration": 14,
    "start_time": "2023-06-05T22:49:37.956Z"
   },
   {
    "duration": 10,
    "start_time": "2023-06-05T22:49:37.972Z"
   },
   {
    "duration": 2841,
    "start_time": "2023-06-05T22:49:37.984Z"
   },
   {
    "duration": 30,
    "start_time": "2023-06-05T22:49:40.827Z"
   },
   {
    "duration": 6,
    "start_time": "2023-06-05T22:49:40.860Z"
   },
   {
    "duration": 447,
    "start_time": "2023-06-05T22:49:40.868Z"
   },
   {
    "duration": 1114,
    "start_time": "2023-06-05T22:49:41.317Z"
   },
   {
    "duration": 21,
    "start_time": "2023-06-05T22:49:42.432Z"
   },
   {
    "duration": 4,
    "start_time": "2023-06-05T22:49:42.455Z"
   },
   {
    "duration": 11,
    "start_time": "2023-06-05T22:49:42.460Z"
   },
   {
    "duration": 5,
    "start_time": "2023-06-05T22:49:51.284Z"
   },
   {
    "duration": 801,
    "start_time": "2023-06-05T22:49:51.292Z"
   },
   {
    "duration": 20,
    "start_time": "2023-06-05T22:49:52.095Z"
   },
   {
    "duration": 40,
    "start_time": "2023-06-05T22:49:52.117Z"
   },
   {
    "duration": 12,
    "start_time": "2023-06-05T22:49:52.160Z"
   },
   {
    "duration": 15,
    "start_time": "2023-06-05T22:49:52.174Z"
   },
   {
    "duration": 7,
    "start_time": "2023-06-05T22:49:52.191Z"
   },
   {
    "duration": 42,
    "start_time": "2023-06-05T22:49:52.200Z"
   },
   {
    "duration": 25,
    "start_time": "2023-06-05T22:49:52.245Z"
   },
   {
    "duration": 23,
    "start_time": "2023-06-05T22:49:52.272Z"
   },
   {
    "duration": 50,
    "start_time": "2023-06-05T22:49:52.297Z"
   },
   {
    "duration": 18,
    "start_time": "2023-06-05T22:49:52.349Z"
   },
   {
    "duration": 13,
    "start_time": "2023-06-05T22:49:52.369Z"
   },
   {
    "duration": 6,
    "start_time": "2023-06-05T22:49:52.385Z"
   },
   {
    "duration": 17,
    "start_time": "2023-06-05T22:49:52.392Z"
   },
   {
    "duration": 277,
    "start_time": "2023-06-05T22:49:52.411Z"
   },
   {
    "duration": 281,
    "start_time": "2023-06-05T22:49:52.690Z"
   },
   {
    "duration": 281,
    "start_time": "2023-06-05T22:49:52.973Z"
   },
   {
    "duration": 17,
    "start_time": "2023-06-05T22:49:53.256Z"
   },
   {
    "duration": 25,
    "start_time": "2023-06-05T22:49:53.275Z"
   },
   {
    "duration": 2323,
    "start_time": "2023-06-05T22:49:53.302Z"
   },
   {
    "duration": 32,
    "start_time": "2023-06-05T22:49:55.626Z"
   },
   {
    "duration": 6,
    "start_time": "2023-06-05T22:49:55.660Z"
   },
   {
    "duration": 456,
    "start_time": "2023-06-05T22:49:55.667Z"
   },
   {
    "duration": 1096,
    "start_time": "2023-06-05T22:49:56.125Z"
   },
   {
    "duration": 21,
    "start_time": "2023-06-05T22:49:57.223Z"
   },
   {
    "duration": 3,
    "start_time": "2023-06-05T22:49:57.246Z"
   },
   {
    "duration": 7,
    "start_time": "2023-06-05T22:49:57.251Z"
   },
   {
    "duration": 25,
    "start_time": "2023-06-05T22:49:57.260Z"
   },
   {
    "duration": 3,
    "start_time": "2023-06-05T22:49:57.287Z"
   },
   {
    "duration": 200852,
    "start_time": "2023-06-05T22:49:57.291Z"
   },
   {
    "duration": 196306,
    "start_time": "2023-06-05T22:53:49.750Z"
   },
   {
    "duration": 65339,
    "start_time": "2023-06-05T22:58:33.906Z"
   },
   {
    "duration": 1827,
    "start_time": "2023-06-05T22:59:49.416Z"
   },
   {
    "duration": 15,
    "start_time": "2023-06-05T23:00:50.475Z"
   },
   {
    "duration": 5,
    "start_time": "2023-06-05T23:00:59.188Z"
   },
   {
    "duration": 7,
    "start_time": "2023-06-05T23:01:00.728Z"
   },
   {
    "duration": 3150,
    "start_time": "2023-06-05T23:01:05.902Z"
   },
   {
    "duration": 8,
    "start_time": "2023-06-05T23:01:13.348Z"
   },
   {
    "duration": 5,
    "start_time": "2023-06-05T23:01:20.569Z"
   },
   {
    "duration": 7,
    "start_time": "2023-06-05T23:01:21.855Z"
   },
   {
    "duration": 2404,
    "start_time": "2023-06-07T00:45:40.715Z"
   },
   {
    "duration": 1994,
    "start_time": "2023-06-07T00:45:43.121Z"
   },
   {
    "duration": 18,
    "start_time": "2023-06-07T00:45:45.116Z"
   },
   {
    "duration": 22,
    "start_time": "2023-06-07T00:45:45.135Z"
   },
   {
    "duration": 17,
    "start_time": "2023-06-07T00:45:45.158Z"
   },
   {
    "duration": 28,
    "start_time": "2023-06-07T00:45:45.177Z"
   },
   {
    "duration": 8,
    "start_time": "2023-06-07T00:45:45.207Z"
   },
   {
    "duration": 31,
    "start_time": "2023-06-07T00:45:45.216Z"
   },
   {
    "duration": 7,
    "start_time": "2023-06-07T00:45:45.249Z"
   },
   {
    "duration": 36,
    "start_time": "2023-06-07T00:45:45.259Z"
   },
   {
    "duration": 38,
    "start_time": "2023-06-07T00:45:45.297Z"
   },
   {
    "duration": 12,
    "start_time": "2023-06-07T00:45:45.337Z"
   },
   {
    "duration": 9,
    "start_time": "2023-06-07T00:45:45.351Z"
   },
   {
    "duration": 11,
    "start_time": "2023-06-07T00:45:45.361Z"
   },
   {
    "duration": 244,
    "start_time": "2023-06-07T00:45:45.374Z"
   },
   {
    "duration": 211,
    "start_time": "2023-06-07T00:45:45.619Z"
   },
   {
    "duration": 258,
    "start_time": "2023-06-07T00:45:45.831Z"
   },
   {
    "duration": 10,
    "start_time": "2023-06-07T00:45:46.091Z"
   },
   {
    "duration": 11,
    "start_time": "2023-06-07T00:45:46.103Z"
   },
   {
    "duration": 2186,
    "start_time": "2023-06-07T00:45:46.116Z"
   },
   {
    "duration": 22,
    "start_time": "2023-06-07T00:45:48.303Z"
   },
   {
    "duration": 20,
    "start_time": "2023-06-07T00:45:48.326Z"
   },
   {
    "duration": 20,
    "start_time": "2023-06-07T00:45:48.348Z"
   },
   {
    "duration": 373,
    "start_time": "2023-06-07T00:45:48.369Z"
   },
   {
    "duration": 1015,
    "start_time": "2023-06-07T00:45:48.744Z"
   }
  ],
  "kernelspec": {
   "display_name": "Python 3 (ipykernel)",
   "language": "python",
   "name": "python3"
  },
  "language_info": {
   "codemirror_mode": {
    "name": "ipython",
    "version": 3
   },
   "file_extension": ".py",
   "mimetype": "text/x-python",
   "name": "python",
   "nbconvert_exporter": "python",
   "pygments_lexer": "ipython3",
   "version": "3.9.5"
  },
  "toc": {
   "base_numbering": 1,
   "nav_menu": {},
   "number_sections": true,
   "sideBar": true,
   "skip_h1_title": true,
   "title_cell": "Содержание",
   "title_sidebar": "Contents",
   "toc_cell": true,
   "toc_position": {
    "height": "calc(100% - 180px)",
    "left": "10px",
    "top": "150px",
    "width": "165px"
   },
   "toc_section_display": true,
   "toc_window_display": true
  }
 },
 "nbformat": 4,
 "nbformat_minor": 2
}
