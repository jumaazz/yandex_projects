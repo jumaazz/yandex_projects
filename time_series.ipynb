{
 "cells": [
  {
   "cell_type": "markdown",
   "metadata": {
    "toc": true
   },
   "source": [
    "<h1>Содержание<span class=\"tocSkip\"></span></h1>\n",
    "<div class=\"toc\"><ul class=\"toc-item\"><li><span><a href=\"#Подготовка\" data-toc-modified-id=\"Подготовка-1\"><span class=\"toc-item-num\">1&nbsp;&nbsp;</span>Подготовка</a></span></li><li><span><a href=\"#Анализ\" data-toc-modified-id=\"Анализ-2\"><span class=\"toc-item-num\">2&nbsp;&nbsp;</span>Анализ</a></span></li><li><span><a href=\"#Обучение\" data-toc-modified-id=\"Обучение-3\"><span class=\"toc-item-num\">3&nbsp;&nbsp;</span>Обучение</a></span></li><li><span><a href=\"#Тестирование\" data-toc-modified-id=\"Тестирование-4\"><span class=\"toc-item-num\">4&nbsp;&nbsp;</span>Тестирование</a></span></li></ul></div>"
   ]
  },
  {
   "cell_type": "markdown",
   "metadata": {},
   "source": [
    "#  Прогнозирование заказов такси"
   ]
  },
  {
   "cell_type": "markdown",
   "metadata": {},
   "source": [
    "## Подготовка"
   ]
  },
  {
   "cell_type": "code",
   "execution_count": 1,
   "metadata": {},
   "outputs": [
    {
     "name": "stdout",
     "output_type": "stream",
     "text": [
      "Collecting prophet\n",
      "  Downloading prophet-1.1.4-py3-none-manylinux_2_17_x86_64.manylinux2014_x86_64.whl (13.0 MB)\n",
      "\u001b[K     |████████████████████████████████| 13.0 MB 1.2 MB/s eta 0:00:01                    | 4.4 MB 1.2 MB/s eta 0:00:08\n",
      "\u001b[?25hRequirement already satisfied: pandas>=1.0.4 in /opt/conda/lib/python3.9/site-packages (from prophet) (1.2.4)\n",
      "Requirement already satisfied: matplotlib>=2.0.0 in /opt/conda/lib/python3.9/site-packages (from prophet) (3.3.4)\n",
      "Collecting importlib-resources\n",
      "  Downloading importlib_resources-6.0.0-py3-none-any.whl (31 kB)\n",
      "Collecting holidays>=0.25\n",
      "  Downloading holidays-0.29-py3-none-any.whl (695 kB)\n",
      "\u001b[K     |████████████████████████████████| 695 kB 60.1 MB/s eta 0:00:01\n",
      "\u001b[?25hRequirement already satisfied: python-dateutil>=2.8.0 in /opt/conda/lib/python3.9/site-packages (from prophet) (2.8.1)\n",
      "Collecting cmdstanpy>=1.0.4\n",
      "  Downloading cmdstanpy-1.1.0-py3-none-any.whl (83 kB)\n",
      "\u001b[K     |████████████████████████████████| 83 kB 399 kB/s  eta 0:00:01\n",
      "\u001b[?25hRequirement already satisfied: numpy>=1.15.4 in /opt/conda/lib/python3.9/site-packages (from prophet) (1.21.1)\n",
      "Collecting LunarCalendar>=0.0.9\n",
      "  Downloading LunarCalendar-0.0.9-py2.py3-none-any.whl (18 kB)\n",
      "Requirement already satisfied: convertdate>=2.1.2 in /opt/conda/lib/python3.9/site-packages (from prophet) (2.4.0)\n",
      "Requirement already satisfied: tqdm>=4.36.1 in /opt/conda/lib/python3.9/site-packages (from prophet) (4.61.2)\n",
      "Requirement already satisfied: pymeeus<=1,>=0.3.13 in /opt/conda/lib/python3.9/site-packages (from convertdate>=2.1.2->prophet) (0.5.11)\n",
      "Collecting ephem>=3.7.5.3\n",
      "  Downloading ephem-4.1.4-cp39-cp39-manylinux_2_17_x86_64.manylinux2014_x86_64.whl (1.8 MB)\n",
      "\u001b[K     |████████████████████████████████| 1.8 MB 57.6 MB/s eta 0:00:01\n",
      "\u001b[?25hRequirement already satisfied: pytz in /opt/conda/lib/python3.9/site-packages (from LunarCalendar>=0.0.9->prophet) (2021.1)\n",
      "Requirement already satisfied: kiwisolver>=1.0.1 in /opt/conda/lib/python3.9/site-packages (from matplotlib>=2.0.0->prophet) (1.4.4)\n",
      "Requirement already satisfied: cycler>=0.10 in /opt/conda/lib/python3.9/site-packages (from matplotlib>=2.0.0->prophet) (0.11.0)\n",
      "Requirement already satisfied: pyparsing!=2.0.4,!=2.1.2,!=2.1.6,>=2.0.3 in /opt/conda/lib/python3.9/site-packages (from matplotlib>=2.0.0->prophet) (2.4.7)\n",
      "Requirement already satisfied: pillow>=6.2.0 in /opt/conda/lib/python3.9/site-packages (from matplotlib>=2.0.0->prophet) (8.4.0)\n",
      "Requirement already satisfied: six>=1.5 in /opt/conda/lib/python3.9/site-packages (from python-dateutil>=2.8.0->prophet) (1.16.0)\n",
      "Requirement already satisfied: zipp>=3.1.0 in /opt/conda/lib/python3.9/site-packages (from importlib-resources->prophet) (3.5.0)\n",
      "Installing collected packages: ephem, LunarCalendar, importlib-resources, holidays, cmdstanpy, prophet\n",
      "  Attempting uninstall: holidays\n",
      "    Found existing installation: holidays 0.11.3.1\n",
      "    Uninstalling holidays-0.11.3.1:\n",
      "      Successfully uninstalled holidays-0.11.3.1\n",
      "Successfully installed LunarCalendar-0.0.9 cmdstanpy-1.1.0 ephem-4.1.4 holidays-0.29 importlib-resources-6.0.0 prophet-1.1.4\n",
      "Note: you may need to restart the kernel to use updated packages.\n"
     ]
    }
   ],
   "source": [
    "pip install prophet"
   ]
  },
  {
   "cell_type": "code",
   "execution_count": 2,
   "metadata": {},
   "outputs": [],
   "source": [
    "import pandas as pd\n",
    "import numpy as np\n",
    "import matplotlib.pyplot as plt\n",
    "\n",
    "from sklearn.linear_model import LinearRegression\n",
    "from sklearn.ensemble import RandomForestRegressor\n",
    "from lightgbm import LGBMRegressor\n",
    "from catboost import CatBoostRegressor\n",
    "from prophet import Prophet\n",
    "\n",
    "\n",
    "from statsmodels.tsa.seasonal import seasonal_decompose\n",
    "from sklearn.model_selection import train_test_split\n",
    "from sklearn.model_selection import GridSearchCV\n",
    "from sklearn.preprocessing import StandardScaler\n",
    "\n",
    "from sklearn.pipeline import Pipeline\n",
    "from sklearn.model_selection import TimeSeriesSplit\n",
    "\n",
    "from sklearn.metrics import mean_squared_error as mse, make_scorer\n",
    "from statsmodels.tsa.seasonal import seasonal_decompose\n",
    "from statsmodels.tsa.stattools import adfuller\n",
    "from sklearn.model_selection import cross_val_score\n",
    "from sklearn.dummy import DummyRegressor\n",
    "import datetime"
   ]
  },
  {
   "cell_type": "code",
   "execution_count": 3,
   "metadata": {},
   "outputs": [],
   "source": [
    "RANDOM_STATE = 12345\n"
   ]
  },
  {
   "cell_type": "code",
   "execution_count": 4,
   "metadata": {},
   "outputs": [
    {
     "name": "stdout",
     "output_type": "stream",
     "text": [
      "<class 'pandas.core.frame.DataFrame'>\n",
      "DatetimeIndex: 26496 entries, 2018-03-01 00:00:00 to 2018-08-31 23:50:00\n",
      "Data columns (total 1 columns):\n",
      " #   Column      Non-Null Count  Dtype\n",
      "---  ------      --------------  -----\n",
      " 0   num_orders  26496 non-null  int64\n",
      "dtypes: int64(1)\n",
      "memory usage: 414.0 KB\n"
     ]
    }
   ],
   "source": [
    "df = pd.read_csv('/datasets/taxi.csv', index_col=['datetime'], parse_dates=['datetime'])\n",
    "df.sort_index(inplace=True)\n",
    "df.info()"
   ]
  },
  {
   "cell_type": "code",
   "execution_count": 5,
   "metadata": {},
   "outputs": [
    {
     "name": "stdout",
     "output_type": "stream",
     "text": [
      "<class 'pandas.core.frame.DataFrame'>\n",
      "DatetimeIndex: 4416 entries, 2018-03-01 00:00:00 to 2018-08-31 23:00:00\n",
      "Freq: H\n",
      "Data columns (total 1 columns):\n",
      " #   Column      Non-Null Count  Dtype\n",
      "---  ------      --------------  -----\n",
      " 0   num_orders  4416 non-null   int64\n",
      "dtypes: int64(1)\n",
      "memory usage: 69.0 KB\n"
     ]
    }
   ],
   "source": [
    "df_resampled = df.resample('1H').sum()\n",
    "df_resampled.info()"
   ]
  },
  {
   "cell_type": "markdown",
   "metadata": {},
   "source": [
    "## Анализ"
   ]
  },
  {
   "cell_type": "code",
   "execution_count": 6,
   "metadata": {},
   "outputs": [
    {
     "data": {
      "text/plain": [
       "Timestamp('2018-03-01 00:00:00', freq='H')"
      ]
     },
     "execution_count": 6,
     "metadata": {},
     "output_type": "execute_result"
    }
   ],
   "source": [
    "df_resampled.index.min()"
   ]
  },
  {
   "cell_type": "code",
   "execution_count": 7,
   "metadata": {},
   "outputs": [
    {
     "data": {
      "text/plain": [
       "Timestamp('2018-08-31 23:00:00', freq='H')"
      ]
     },
     "execution_count": 7,
     "metadata": {},
     "output_type": "execute_result"
    }
   ],
   "source": [
    "df_resampled.index.max()"
   ]
  },
  {
   "cell_type": "code",
   "execution_count": 8,
   "metadata": {},
   "outputs": [
    {
     "data": {
      "image/png": "[encoded data removed]",
      "text/plain": [
       "<Figure size 1152x576 with 1 Axes>"
      ]
     },
     "metadata": {
      "needs_background": "light"
     },
     "output_type": "display_data"
    }
   ],
   "source": [
    "fig, ax = plt.subplots(1)\n",
    "ax.set_title('Распределение значений по датам')\n",
    "ax.set_xlabel('Дата')\n",
    "ax.set_ylabel('Значение')\n",
    "df_resampled.plot(figsize=(16,8), ax=ax);"
   ]
  },
  {
   "cell_type": "markdown",
   "metadata": {},
   "source": [
    "Динамика показвает что за последние полгода заказов такси становится больше"
   ]
  },
  {
   "cell_type": "code",
   "execution_count": 9,
   "metadata": {},
   "outputs": [
    {
     "data": {
      "image/png": "[encoded data removed]",
      "text/plain": [
       "<Figure size 432x576 with 3 Axes>"
      ]
     },
     "metadata": {
      "needs_background": "light"
     },
     "output_type": "display_data"
    }
   ],
   "source": [
    "decomposed = seasonal_decompose(df_resampled) \n",
    "plt.figure(figsize=(6, 8))\n",
    "plt.subplot(311)\n",
    "decomposed.trend.plot(ax=plt.gca())\n",
    "plt.title('Trend')\n",
    "plt.subplot(312)\n",
    "decomposed.seasonal.plot(ax=plt.gca()) \n",
    "plt.title('Seasonality')\n",
    "plt.subplot(313)\n",
    "decomposed.resid.plot(ax=plt.gca()) \n",
    "plt.title('Residuals')\n",
    "plt.tight_layout()"
   ]
  },
  {
   "cell_type": "markdown",
   "metadata": {},
   "source": [
    "Вывод \n",
    "Есть тренд повышения количества заказов за час\n",
    "Сезонность сложно оценить по этому графику\n",
    "Остатки не дают никаких выводов"
   ]
  },
  {
   "cell_type": "code",
   "execution_count": 10,
   "metadata": {},
   "outputs": [
    {
     "data": {
      "image/png": "[encoded data removed]",
      "text/plain": [
       "<Figure size 432x288 with 1 Axes>"
      ]
     },
     "metadata": {
      "needs_background": "light"
     },
     "output_type": "display_data"
    }
   ],
   "source": [
    "seasonal_decompose(df_resampled['2018-06-01':'2018-06-14']).seasonal.plot(title = 'Seasonal')\n",
    "plt.show()"
   ]
  },
  {
   "cell_type": "markdown",
   "metadata": {},
   "source": [
    "Можно заметить, что ночью заказывают мало такси, на утро идет повышение и к вечеру набирается пик. Я думаю обусловлено это тем что наибольшое колчество рейсов приходится на утро и вечер"
   ]
  },
  {
   "cell_type": "code",
   "execution_count": 11,
   "metadata": {},
   "outputs": [
    {
     "name": "stdout",
     "output_type": "stream",
     "text": [
      "Нулевая гипотеза: временной ряд нестационарен\n",
      "Альтернативная гипотеза: временной ряд стационарен\n",
      "Критерий ADF: -3.068924\n",
      "P-значение: 0.028940\n",
      "Критические значения:\n",
      "1% -3.431842162413052\n",
      "Нулевая гипотеза не отвергнута – Временной ряд не стационарен\n"
     ]
    }
   ],
   "source": [
    "print('Нулевая гипотеза: временной ряд нестационарен')\n",
    "print('Альтернативная гипотеза: временной ряд стационарен')\n",
    "result = adfuller(df_resampled, autolag='AIC')\n",
    "\n",
    "print('Критерий ADF: %f' % result[0])\n",
    "\n",
    "print('P-значение: %f' % result[1])\n",
    "\n",
    "print('Критические значения:')\n",
    "\n",
    "\n",
    "print('1%', (result[4]['1%']))\n",
    "if result[0] < result[4]['1%']:\n",
    "    print (\"Нулевая гипотеза отвергнута – Временной ряд стационарен\")\n",
    "else:\n",
    "    print (\"Нулевая гипотеза не отвергнута – Временной ряд не стационарен\")"
   ]
  },
  {
   "cell_type": "code",
   "execution_count": 12,
   "metadata": {},
   "outputs": [
    {
     "name": "stdout",
     "output_type": "stream",
     "text": [
      "Нулевая гипотеза: временной ряд нестационарен\n",
      "Альтернативная гипотеза: временной ряд стационарен\n",
      "Критерий ADF: -3.068924\n",
      "P-значение: 0.028940\n",
      "Критические значения:\n",
      "5% -2.8621993540813637\n",
      "Нулевая гипотеза отвергнута – Временной ряд стационарен\n"
     ]
    }
   ],
   "source": [
    "print('Нулевая гипотеза: временной ряд нестационарен')\n",
    "print('Альтернативная гипотеза: временной ряд стационарен')\n",
    "result = adfuller(df_resampled, autolag='AIC')\n",
    "\n",
    "print('Критерий ADF: %f' % result[0])\n",
    "\n",
    "print('P-значение: %f' % result[1])\n",
    "\n",
    "print('Критические значения:')\n",
    "\n",
    "\n",
    "print('5%', (result[4]['5%']))\n",
    "if result[0] < result[4]['5%']:\n",
    "    print (\"Нулевая гипотеза отвергнута – Временной ряд стационарен\")\n",
    "else:\n",
    "    print (\"Нулевая гипотеза не отвергнута – Временной ряд не стационарен\")"
   ]
  },
  {
   "cell_type": "markdown",
   "metadata": {},
   "source": [
    "Тесты показали разные результаты, оценим стационарность ряда с помощью сглаживания скользящим средним и последующей визуализацией сглаженного ряда на графике"
   ]
  },
  {
   "cell_type": "code",
   "execution_count": 15,
   "metadata": {},
   "outputs": [],
   "source": [
    "df2 = df_resampled.copy()\n",
    "df2['rolling_mean'] = df2.rolling(73, closed = 'left').mean()"
   ]
  },
  {
   "cell_type": "code",
   "execution_count": 18,
   "metadata": {},
   "outputs": [
    {
     "data": {
      "image/png": "[encoded data removed]",
      "text/plain": [
       "<Figure size 864x432 with 1 Axes>"
      ]
     },
     "metadata": {
      "needs_background": "light"
     },
     "output_type": "display_data"
    }
   ],
   "source": [
    "plt.figure(figsize=(12, 6)) \n",
    "plt.plot(df2)\n",
    "plt.title(\"Динамика количсетва заказов такси\") \n",
    "plt.xlabel(\"Дата\")\n",
    "plt.ylabel(\"Количество заказов\") \n",
    "plt.show()"
   ]
  },
  {
   "cell_type": "markdown",
   "metadata": {},
   "source": [
    "Как видим сглаженное среднее увеличивается со временем, значит ряд нестационарен"
   ]
  },
  {
   "cell_type": "markdown",
   "metadata": {},
   "source": [
    "## Обучение"
   ]
  },
  {
   "cell_type": "code",
   "execution_count": 306,
   "metadata": {},
   "outputs": [],
   "source": [
    "def rmse(predicted, target):\n",
    "    return mse(predicted, target) ** 0.5"
   ]
  },
  {
   "cell_type": "code",
   "execution_count": 307,
   "metadata": {},
   "outputs": [],
   "source": [
    "def make_features(data, max_lag, rolling_mean_size):\n",
    "    new_data = data.copy()\n",
    "    new_data['dayofweek'] = new_data.index.dayofweek\n",
    "    new_data['hour'] = new_data.index.hour\n",
    "    \n",
    "    for lag in range(1, max_lag + 1):\n",
    "        new_data['lag_{}'.format(lag)] = new_data['num_orders'].shift(lag)\n",
    "\n",
    "    new_data['rolling_mean'] = new_data['num_orders'].shift().rolling(rolling_mean_size).mean()\n",
    "    return new_data"
   ]
  },
  {
   "cell_type": "code",
   "execution_count": 308,
   "metadata": {},
   "outputs": [
    {
     "name": "stdout",
     "output_type": "stream",
     "text": [
      "q: 73\n",
      "RMSE: 45.39410286549894\n"
     ]
    }
   ],
   "source": [
    "best_rmse = 1000\n",
    "\n",
    "for q in range (1, 100):\n",
    "    df_variant = make_features(df_resampled, 24, q)\n",
    "    \n",
    "    df_variant.dropna(inplace = True)\n",
    "    \n",
    "    features = df_variant.drop('num_orders', axis = 1)\n",
    "    target = df_variant['num_orders']\n",
    "    \n",
    "    features_train, features_test, target_train, target_test = train_test_split(\n",
    "        features, target, test_size=0.2, shuffle = False)\n",
    "    features_test, features_valid, target_test, target_valid = train_test_split(\n",
    "        features_test, target_test, test_size=0.5, shuffle = False)\n",
    "    model = LinearRegression()\n",
    "    model.fit(features_train, target_train)\n",
    "\n",
    "    model_pred = model.predict(features_valid)\n",
    "        \n",
    "    model_rmse = rmse(model_pred, target_valid)\n",
    "    \n",
    "    if model_rmse < best_rmse:\n",
    "        best_rmse = model_rmse\n",
    "        best_q = q\n",
    "\n",
    "        \n",
    "print('q:', best_q)\n",
    "print(\"RMSE:\", best_rmse)"
   ]
  },
  {
   "cell_type": "code",
   "execution_count": 309,
   "metadata": {},
   "outputs": [
    {
     "name": "stdout",
     "output_type": "stream",
     "text": [
      "CPU times: user 21.4 ms, sys: 26.4 ms, total: 47.8 ms\n",
      "Wall time: 83.5 ms\n"
     ]
    },
    {
     "data": {
      "text/plain": [
       "LinearRegression()"
      ]
     },
     "execution_count": 309,
     "metadata": {},
     "output_type": "execute_result"
    }
   ],
   "source": [
    "%%time\n",
    "\n",
    "LINR = LinearRegression()\n",
    "\n",
    "LINR.fit(features_train, target_train)"
   ]
  },
  {
   "cell_type": "code",
   "execution_count": 310,
   "metadata": {},
   "outputs": [
    {
     "name": "stdout",
     "output_type": "stream",
     "text": [
      "CPU times: user 16.3 ms, sys: 26.5 ms, total: 42.8 ms\n",
      "Wall time: 82.3 ms\n"
     ]
    }
   ],
   "source": [
    "%%time\n",
    "LINR_pred = LINR.predict(features_valid)"
   ]
  },
  {
   "cell_type": "code",
   "execution_count": 311,
   "metadata": {},
   "outputs": [
    {
     "name": "stdout",
     "output_type": "stream",
     "text": [
      "RMSE LINEAR 45.5296318216962\n"
     ]
    }
   ],
   "source": [
    "print(\"RMSE LINEAR\", rmse(target_valid, LINR_pred))"
   ]
  },
  {
   "cell_type": "code",
   "execution_count": 312,
   "metadata": {},
   "outputs": [
    {
     "name": "stdout",
     "output_type": "stream",
     "text": [
      "RMSE: 52.494455651076386\n",
      "Iterations: 60\n",
      "depthh: 9\n"
     ]
    }
   ],
   "source": [
    "rmsee = 10000\n",
    "for depth in range(5,10 , 2):\n",
    "    \n",
    "    for iterations in range(20, 61, 20):\n",
    "        \n",
    "        model = CatBoostRegressor(loss_function='RMSE', silent=True, random_seed=RANDOM_STATE, iterations=iterations, max_depth = depth)\n",
    "        model.fit(features_train, target_train)\n",
    "        pred = model.predict(features_valid)\n",
    "        result = rmse(target_valid, pred)\n",
    "        if result < rmsee:\n",
    "            depthh = depth\n",
    "            iterationss = iterations\n",
    "            rmsee = result\n",
    "            best_cbr_model = model\n",
    "print('RMSE:', rmsee)\n",
    "print('Iterations:', iterationss)\n",
    "print('depthh:', depth)"
   ]
  },
  {
   "cell_type": "code",
   "execution_count": 313,
   "metadata": {},
   "outputs": [],
   "source": [
    "df_resampled = df_resampled.rename(columns={'datetime ': 'ds','num_orders': 'y'})"
   ]
  },
  {
   "cell_type": "code",
   "execution_count": 314,
   "metadata": {},
   "outputs": [],
   "source": [
    "df_resampled.reset_index(inplace= True )"
   ]
  },
  {
   "cell_type": "code",
   "execution_count": 315,
   "metadata": {},
   "outputs": [
    {
     "data": {
      "text/html": [
       "<div>\n",
       "<style scoped>\n",
       "    .dataframe tbody tr th:only-of-type {\n",
       "        vertical-align: middle;\n",
       "    }\n",
       "\n",
       "    .dataframe tbody tr th {\n",
       "        vertical-align: top;\n",
       "    }\n",
       "\n",
       "    .dataframe thead th {\n",
       "        text-align: right;\n",
       "    }\n",
       "</style>\n",
       "<table border=\"1\" class=\"dataframe\">\n",
       "  <thead>\n",
       "    <tr style=\"text-align: right;\">\n",
       "      <th></th>\n",
       "      <th>datetime</th>\n",
       "      <th>y</th>\n",
       "    </tr>\n",
       "  </thead>\n",
       "  <tbody>\n",
       "    <tr>\n",
       "      <th>0</th>\n",
       "      <td>2018-03-01 00:00:00</td>\n",
       "      <td>124</td>\n",
       "    </tr>\n",
       "    <tr>\n",
       "      <th>1</th>\n",
       "      <td>2018-03-01 01:00:00</td>\n",
       "      <td>85</td>\n",
       "    </tr>\n",
       "    <tr>\n",
       "      <th>2</th>\n",
       "      <td>2018-03-01 02:00:00</td>\n",
       "      <td>71</td>\n",
       "    </tr>\n",
       "    <tr>\n",
       "      <th>3</th>\n",
       "      <td>2018-03-01 03:00:00</td>\n",
       "      <td>66</td>\n",
       "    </tr>\n",
       "    <tr>\n",
       "      <th>4</th>\n",
       "      <td>2018-03-01 04:00:00</td>\n",
       "      <td>43</td>\n",
       "    </tr>\n",
       "    <tr>\n",
       "      <th>...</th>\n",
       "      <td>...</td>\n",
       "      <td>...</td>\n",
       "    </tr>\n",
       "    <tr>\n",
       "      <th>4411</th>\n",
       "      <td>2018-08-31 19:00:00</td>\n",
       "      <td>136</td>\n",
       "    </tr>\n",
       "    <tr>\n",
       "      <th>4412</th>\n",
       "      <td>2018-08-31 20:00:00</td>\n",
       "      <td>154</td>\n",
       "    </tr>\n",
       "    <tr>\n",
       "      <th>4413</th>\n",
       "      <td>2018-08-31 21:00:00</td>\n",
       "      <td>159</td>\n",
       "    </tr>\n",
       "    <tr>\n",
       "      <th>4414</th>\n",
       "      <td>2018-08-31 22:00:00</td>\n",
       "      <td>223</td>\n",
       "    </tr>\n",
       "    <tr>\n",
       "      <th>4415</th>\n",
       "      <td>2018-08-31 23:00:00</td>\n",
       "      <td>205</td>\n",
       "    </tr>\n",
       "  </tbody>\n",
       "</table>\n",
       "<p>4416 rows × 2 columns</p>\n",
       "</div>"
      ],
      "text/plain": [
       "                datetime    y\n",
       "0    2018-03-01 00:00:00  124\n",
       "1    2018-03-01 01:00:00   85\n",
       "2    2018-03-01 02:00:00   71\n",
       "3    2018-03-01 03:00:00   66\n",
       "4    2018-03-01 04:00:00   43\n",
       "...                  ...  ...\n",
       "4411 2018-08-31 19:00:00  136\n",
       "4412 2018-08-31 20:00:00  154\n",
       "4413 2018-08-31 21:00:00  159\n",
       "4414 2018-08-31 22:00:00  223\n",
       "4415 2018-08-31 23:00:00  205\n",
       "\n",
       "[4416 rows x 2 columns]"
      ]
     },
     "execution_count": 315,
     "metadata": {},
     "output_type": "execute_result"
    }
   ],
   "source": [
    "df_resampled"
   ]
  },
  {
   "cell_type": "code",
   "execution_count": 316,
   "metadata": {},
   "outputs": [
    {
     "name": "stdout",
     "output_type": "stream",
     "text": [
      "<class 'pandas.core.frame.DataFrame'>\n",
      "RangeIndex: 4416 entries, 0 to 4415\n",
      "Data columns (total 3 columns):\n",
      " #   Column    Non-Null Count  Dtype         \n",
      "---  ------    --------------  -----         \n",
      " 0   datetime  4416 non-null   datetime64[ns]\n",
      " 1   y         4416 non-null   int64         \n",
      " 2   ds        4416 non-null   datetime64[ns]\n",
      "dtypes: datetime64[ns](2), int64(1)\n",
      "memory usage: 103.6 KB\n"
     ]
    }
   ],
   "source": [
    "df_resampled['ds'] = df_resampled['datetime']\n",
    "df_resampled.info()"
   ]
  },
  {
   "cell_type": "code",
   "execution_count": 317,
   "metadata": {},
   "outputs": [],
   "source": [
    "df_resampled = df_resampled.drop(columns = ['datetime'])"
   ]
  },
  {
   "cell_type": "code",
   "execution_count": 318,
   "metadata": {},
   "outputs": [
    {
     "data": {
      "text/html": [
       "<div>\n",
       "<style scoped>\n",
       "    .dataframe tbody tr th:only-of-type {\n",
       "        vertical-align: middle;\n",
       "    }\n",
       "\n",
       "    .dataframe tbody tr th {\n",
       "        vertical-align: top;\n",
       "    }\n",
       "\n",
       "    .dataframe thead th {\n",
       "        text-align: right;\n",
       "    }\n",
       "</style>\n",
       "<table border=\"1\" class=\"dataframe\">\n",
       "  <thead>\n",
       "    <tr style=\"text-align: right;\">\n",
       "      <th></th>\n",
       "      <th>y</th>\n",
       "      <th>ds</th>\n",
       "    </tr>\n",
       "  </thead>\n",
       "  <tbody>\n",
       "    <tr>\n",
       "      <th>0</th>\n",
       "      <td>124</td>\n",
       "      <td>2018-03-01 00:00:00</td>\n",
       "    </tr>\n",
       "    <tr>\n",
       "      <th>1</th>\n",
       "      <td>85</td>\n",
       "      <td>2018-03-01 01:00:00</td>\n",
       "    </tr>\n",
       "    <tr>\n",
       "      <th>2</th>\n",
       "      <td>71</td>\n",
       "      <td>2018-03-01 02:00:00</td>\n",
       "    </tr>\n",
       "    <tr>\n",
       "      <th>3</th>\n",
       "      <td>66</td>\n",
       "      <td>2018-03-01 03:00:00</td>\n",
       "    </tr>\n",
       "    <tr>\n",
       "      <th>4</th>\n",
       "      <td>43</td>\n",
       "      <td>2018-03-01 04:00:00</td>\n",
       "    </tr>\n",
       "    <tr>\n",
       "      <th>...</th>\n",
       "      <td>...</td>\n",
       "      <td>...</td>\n",
       "    </tr>\n",
       "    <tr>\n",
       "      <th>4411</th>\n",
       "      <td>136</td>\n",
       "      <td>2018-08-31 19:00:00</td>\n",
       "    </tr>\n",
       "    <tr>\n",
       "      <th>4412</th>\n",
       "      <td>154</td>\n",
       "      <td>2018-08-31 20:00:00</td>\n",
       "    </tr>\n",
       "    <tr>\n",
       "      <th>4413</th>\n",
       "      <td>159</td>\n",
       "      <td>2018-08-31 21:00:00</td>\n",
       "    </tr>\n",
       "    <tr>\n",
       "      <th>4414</th>\n",
       "      <td>223</td>\n",
       "      <td>2018-08-31 22:00:00</td>\n",
       "    </tr>\n",
       "    <tr>\n",
       "      <th>4415</th>\n",
       "      <td>205</td>\n",
       "      <td>2018-08-31 23:00:00</td>\n",
       "    </tr>\n",
       "  </tbody>\n",
       "</table>\n",
       "<p>4416 rows × 2 columns</p>\n",
       "</div>"
      ],
      "text/plain": [
       "        y                  ds\n",
       "0     124 2018-03-01 00:00:00\n",
       "1      85 2018-03-01 01:00:00\n",
       "2      71 2018-03-01 02:00:00\n",
       "3      66 2018-03-01 03:00:00\n",
       "4      43 2018-03-01 04:00:00\n",
       "...   ...                 ...\n",
       "4411  136 2018-08-31 19:00:00\n",
       "4412  154 2018-08-31 20:00:00\n",
       "4413  159 2018-08-31 21:00:00\n",
       "4414  223 2018-08-31 22:00:00\n",
       "4415  205 2018-08-31 23:00:00\n",
       "\n",
       "[4416 rows x 2 columns]"
      ]
     },
     "execution_count": 318,
     "metadata": {},
     "output_type": "execute_result"
    }
   ],
   "source": [
    "df_resampled"
   ]
  },
  {
   "cell_type": "code",
   "execution_count": 319,
   "metadata": {},
   "outputs": [],
   "source": [
    "df_train, df_test= train_test_split(\n",
    "        df_resampled, test_size=0.2, shuffle = False)\n",
    "df_test, df_valid= train_test_split(\n",
    "        df_test, test_size=0.5, shuffle = False)"
   ]
  },
  {
   "cell_type": "code",
   "execution_count": 320,
   "metadata": {},
   "outputs": [],
   "source": [
    "model_prophet = Prophet(daily_seasonality=True, weekly_seasonality=True, seasonality_mode='multiplicative')"
   ]
  },
  {
   "cell_type": "code",
   "execution_count": 321,
   "metadata": {},
   "outputs": [
    {
     "name": "stderr",
     "output_type": "stream",
     "text": [
      "INFO:prophet:Disabling yearly seasonality. Run prophet with yearly_seasonality=True to override this.\n",
      "DEBUG:cmdstanpy:input tempfile: /tmp/tmp5lmeii0_/ixfvgc50.json\n",
      "DEBUG:cmdstanpy:input tempfile: /tmp/tmp5lmeii0_/6ewnwo9y.json\n",
      "DEBUG:cmdstanpy:idx 0\n",
      "DEBUG:cmdstanpy:running CmdStan, num_threads: None\n",
      "DEBUG:cmdstanpy:CmdStan args: ['/opt/conda/lib/python3.9/site-packages/prophet/stan_model/prophet_model.bin', 'random', 'seed=40987', 'data', 'file=/tmp/tmp5lmeii0_/ixfvgc50.json', 'init=/tmp/tmp5lmeii0_/6ewnwo9y.json', 'output', 'file=/tmp/tmp5lmeii0_/prophet_modeldfapd5as/prophet_model-20230801190954.csv', 'method=optimize', 'algorithm=lbfgs', 'iter=10000']\n",
      "19:09:54 - cmdstanpy - INFO - Chain [1] start processing\n",
      "INFO:cmdstanpy:Chain [1] start processing\n",
      "19:09:56 - cmdstanpy - INFO - Chain [1] done processing\n",
      "INFO:cmdstanpy:Chain [1] done processing\n"
     ]
    }
   ],
   "source": [
    "model_prophet.fit(df_train)\n",
    "future = model_prophet.make_future_dataframe(periods = len(df_valid))"
   ]
  },
  {
   "cell_type": "code",
   "execution_count": 322,
   "metadata": {},
   "outputs": [],
   "source": [
    "forecast = model_prophet.predict(future)"
   ]
  },
  {
   "cell_type": "code",
   "execution_count": 323,
   "metadata": {},
   "outputs": [
    {
     "data": {
      "text/plain": [
       "3974"
      ]
     },
     "execution_count": 323,
     "metadata": {},
     "output_type": "execute_result"
    }
   ],
   "source": [
    "len(forecast)"
   ]
  },
  {
   "cell_type": "code",
   "execution_count": 324,
   "metadata": {},
   "outputs": [],
   "source": [
    "d = forecast[3532:]"
   ]
  },
  {
   "cell_type": "code",
   "execution_count": 325,
   "metadata": {},
   "outputs": [
    {
     "data": {
      "text/plain": [
       "141.84426771686995"
      ]
     },
     "execution_count": 325,
     "metadata": {},
     "output_type": "execute_result"
    }
   ],
   "source": [
    "rmse(df_valid['y'], d['yhat'])"
   ]
  },
  {
   "cell_type": "markdown",
   "metadata": {},
   "source": [
    "Вывод: \n",
    "Лучший результат показала линейная регрессия ее и выберем"
   ]
  },
  {
   "cell_type": "markdown",
   "metadata": {},
   "source": [
    "## Тестирование"
   ]
  },
  {
   "cell_type": "code",
   "execution_count": 326,
   "metadata": {},
   "outputs": [
    {
     "name": "stdout",
     "output_type": "stream",
     "text": [
      "RMSE LINR 34.48955432231521\n",
      "CPU times: user 6.27 ms, sys: 14.9 ms, total: 21.1 ms\n",
      "Wall time: 7.1 ms\n"
     ]
    }
   ],
   "source": [
    "%%time\n",
    "pred =LINR.predict(features_test)\n",
    "print(\"RMSE LINR\", rmse(target_test, pred))"
   ]
  },
  {
   "cell_type": "code",
   "execution_count": 327,
   "metadata": {},
   "outputs": [],
   "source": [
    "dummy_regr = DummyRegressor(strategy='mean')\n",
    "\n",
    "dummy_regr.fit(features_train, target_train)\n",
    "predictions_r_dummy = dummy_regr.predict(features_test)\n"
   ]
  },
  {
   "cell_type": "code",
   "execution_count": 328,
   "metadata": {},
   "outputs": [
    {
     "name": "stdout",
     "output_type": "stream",
     "text": [
      "Итоговое RMSE DummyRegressor 58.66529631032616\n"
     ]
    }
   ],
   "source": [
    "print('Итоговое RMSE DummyRegressor', rmse(target_test, predictions_r_dummy))"
   ]
  },
  {
   "cell_type": "markdown",
   "metadata": {},
   "source": [
    "Линейная регрессия показала результат 34 что меньше константной модели и меньше 48. Значит наша модель адекватна и нас устраивает этот результат"
   ]
  }
 ],
 "metadata": {
  "ExecuteTimeLog": [
   {
    "duration": 1810,
    "start_time": "2023-07-29T00:17:25.253Z"
   },
   {
    "duration": 3,
    "start_time": "2023-07-29T00:17:41.038Z"
   },
   {
    "duration": 155,
    "start_time": "2023-07-29T00:17:51.402Z"
   },
   {
    "duration": 52,
    "start_time": "2023-07-29T00:18:16.210Z"
   },
   {
    "duration": 6,
    "start_time": "2023-07-29T00:19:13.793Z"
   },
   {
    "duration": 15,
    "start_time": "2023-07-29T00:19:36.560Z"
   },
   {
    "duration": 152,
    "start_time": "2023-07-29T00:19:57.412Z"
   },
   {
    "duration": 4,
    "start_time": "2023-07-29T00:20:30.339Z"
   },
   {
    "duration": 4,
    "start_time": "2023-07-29T00:20:45.520Z"
   },
   {
    "duration": 410,
    "start_time": "2023-07-29T00:21:02.364Z"
   },
   {
    "duration": 221,
    "start_time": "2023-07-29T00:21:19.964Z"
   },
   {
    "duration": 315,
    "start_time": "2023-07-29T00:21:33.766Z"
   },
   {
    "duration": 312,
    "start_time": "2023-07-29T00:21:52.284Z"
   },
   {
    "duration": 229,
    "start_time": "2023-07-29T00:22:05.587Z"
   },
   {
    "duration": 233,
    "start_time": "2023-07-29T00:22:18.486Z"
   },
   {
    "duration": 322,
    "start_time": "2023-07-29T00:22:30.843Z"
   },
   {
    "duration": 173,
    "start_time": "2023-07-29T00:22:45.544Z"
   },
   {
    "duration": 3,
    "start_time": "2023-07-29T00:23:05.525Z"
   },
   {
    "duration": 8,
    "start_time": "2023-07-29T00:23:30.810Z"
   },
   {
    "duration": 6550,
    "start_time": "2023-07-29T00:23:50.241Z"
   },
   {
    "duration": 7,
    "start_time": "2023-07-29T00:24:12.296Z"
   },
   {
    "duration": 43,
    "start_time": "2023-07-29T00:24:24.629Z"
   },
   {
    "duration": 6,
    "start_time": "2023-07-29T00:24:38.658Z"
   },
   {
    "duration": 3,
    "start_time": "2023-07-29T00:24:54.447Z"
   },
   {
    "duration": 2,
    "start_time": "2023-07-29T00:25:06.269Z"
   },
   {
    "duration": 83446,
    "start_time": "2023-07-29T00:25:37.568Z"
   },
   {
    "duration": 4195,
    "start_time": "2023-07-29T00:27:34.031Z"
   },
   {
    "duration": 4104,
    "start_time": "2023-07-29T00:28:07.715Z"
   },
   {
    "duration": 0,
    "start_time": "2023-07-29T00:43:18.648Z"
   },
   {
    "duration": 49,
    "start_time": "2023-07-29T00:43:25.057Z"
   },
   {
    "duration": 22461,
    "start_time": "2023-07-29T00:43:40.644Z"
   },
   {
    "duration": 1247,
    "start_time": "2023-07-29T00:44:34.250Z"
   },
   {
    "duration": 86751,
    "start_time": "2023-07-29T00:44:52.314Z"
   },
   {
    "duration": 1093,
    "start_time": "2023-07-29T00:47:09.411Z"
   },
   {
    "duration": 14,
    "start_time": "2023-07-29T00:47:35.258Z"
   },
   {
    "duration": 4,
    "start_time": "2023-07-29T00:47:52.714Z"
   },
   {
    "duration": 7,
    "start_time": "2023-07-29T00:48:07.100Z"
   },
   {
    "duration": 33,
    "start_time": "2023-07-29T00:48:07.111Z"
   },
   {
    "duration": 52,
    "start_time": "2023-07-29T00:48:07.146Z"
   },
   {
    "duration": 37,
    "start_time": "2023-07-29T00:48:07.201Z"
   },
   {
    "duration": 4,
    "start_time": "2023-07-29T00:48:07.240Z"
   },
   {
    "duration": 14,
    "start_time": "2023-07-29T00:48:07.245Z"
   },
   {
    "duration": 31,
    "start_time": "2023-07-29T00:48:07.261Z"
   },
   {
    "duration": 8,
    "start_time": "2023-07-29T00:48:07.295Z"
   },
   {
    "duration": 455,
    "start_time": "2023-07-29T00:48:07.307Z"
   },
   {
    "duration": 242,
    "start_time": "2023-07-29T00:48:07.764Z"
   },
   {
    "duration": 246,
    "start_time": "2023-07-29T00:48:08.009Z"
   },
   {
    "duration": 276,
    "start_time": "2023-07-29T00:48:08.257Z"
   },
   {
    "duration": 220,
    "start_time": "2023-07-29T00:48:08.534Z"
   },
   {
    "duration": 206,
    "start_time": "2023-07-29T00:48:08.757Z"
   },
   {
    "duration": 306,
    "start_time": "2023-07-29T00:48:08.964Z"
   },
   {
    "duration": 4,
    "start_time": "2023-07-29T00:48:09.272Z"
   },
   {
    "duration": 16,
    "start_time": "2023-07-29T00:48:09.277Z"
   },
   {
    "duration": 5794,
    "start_time": "2023-07-29T00:48:09.295Z"
   },
   {
    "duration": 5,
    "start_time": "2023-07-29T00:48:15.093Z"
   },
   {
    "duration": 122,
    "start_time": "2023-07-29T00:48:15.100Z"
   },
   {
    "duration": 64,
    "start_time": "2023-07-29T00:48:15.224Z"
   },
   {
    "duration": 8,
    "start_time": "2023-07-29T00:48:15.290Z"
   },
   {
    "duration": 8,
    "start_time": "2023-07-29T00:48:15.301Z"
   },
   {
    "duration": 85024,
    "start_time": "2023-07-29T00:48:15.314Z"
   },
   {
    "duration": 4288,
    "start_time": "2023-07-29T00:49:40.339Z"
   },
   {
    "duration": 19,
    "start_time": "2023-07-29T00:58:38.594Z"
   },
   {
    "duration": 0,
    "start_time": "2023-07-29T00:58:38.614Z"
   },
   {
    "duration": 0,
    "start_time": "2023-07-29T00:58:38.616Z"
   },
   {
    "duration": 0,
    "start_time": "2023-07-29T00:58:38.617Z"
   },
   {
    "duration": 0,
    "start_time": "2023-07-29T00:58:38.618Z"
   },
   {
    "duration": 175758,
    "start_time": "2023-07-29T00:58:41.433Z"
   },
   {
    "duration": 102850,
    "start_time": "2023-07-29T01:01:57.677Z"
   },
   {
    "duration": 4,
    "start_time": "2023-07-29T01:03:45.167Z"
   },
   {
    "duration": 17,
    "start_time": "2023-07-29T01:03:45.173Z"
   },
   {
    "duration": 59,
    "start_time": "2023-07-29T01:03:45.193Z"
   },
   {
    "duration": 32,
    "start_time": "2023-07-29T01:03:45.253Z"
   },
   {
    "duration": 77,
    "start_time": "2023-07-29T01:03:45.287Z"
   },
   {
    "duration": 111,
    "start_time": "2023-07-29T01:03:45.366Z"
   },
   {
    "duration": 47,
    "start_time": "2023-07-29T01:03:45.479Z"
   },
   {
    "duration": 33,
    "start_time": "2023-07-29T01:03:45.528Z"
   },
   {
    "duration": 332,
    "start_time": "2023-07-29T01:03:45.562Z"
   },
   {
    "duration": 230,
    "start_time": "2023-07-29T01:03:45.896Z"
   },
   {
    "duration": 332,
    "start_time": "2023-07-29T01:03:46.128Z"
   },
   {
    "duration": 331,
    "start_time": "2023-07-29T01:03:46.462Z"
   },
   {
    "duration": 233,
    "start_time": "2023-07-29T01:03:46.795Z"
   },
   {
    "duration": 217,
    "start_time": "2023-07-29T01:03:47.031Z"
   },
   {
    "duration": 315,
    "start_time": "2023-07-29T01:03:47.249Z"
   },
   {
    "duration": 3,
    "start_time": "2023-07-29T01:03:47.565Z"
   },
   {
    "duration": 30,
    "start_time": "2023-07-29T01:03:47.570Z"
   },
   {
    "duration": 6287,
    "start_time": "2023-07-29T01:03:47.602Z"
   },
   {
    "duration": 7,
    "start_time": "2023-07-29T01:03:53.893Z"
   },
   {
    "duration": 115,
    "start_time": "2023-07-29T01:03:53.902Z"
   },
   {
    "duration": 6,
    "start_time": "2023-07-29T01:03:54.019Z"
   },
   {
    "duration": 16,
    "start_time": "2023-07-29T01:03:54.026Z"
   },
   {
    "duration": 13,
    "start_time": "2023-07-29T01:03:54.044Z"
   },
   {
    "duration": 85531,
    "start_time": "2023-07-29T01:03:54.059Z"
   },
   {
    "duration": 4095,
    "start_time": "2023-07-29T01:05:19.593Z"
   },
   {
    "duration": 2031,
    "start_time": "2023-07-29T11:29:01.836Z"
   },
   {
    "duration": 3,
    "start_time": "2023-07-29T11:29:03.869Z"
   },
   {
    "duration": 199,
    "start_time": "2023-07-29T11:29:03.873Z"
   },
   {
    "duration": 34,
    "start_time": "2023-07-29T11:29:04.073Z"
   },
   {
    "duration": 4,
    "start_time": "2023-07-29T11:29:04.109Z"
   },
   {
    "duration": 25,
    "start_time": "2023-07-29T11:29:04.115Z"
   },
   {
    "duration": 4,
    "start_time": "2023-07-29T11:29:04.142Z"
   },
   {
    "duration": 5,
    "start_time": "2023-07-29T11:29:04.156Z"
   },
   {
    "duration": 355,
    "start_time": "2023-07-29T11:29:04.162Z"
   },
   {
    "duration": 185,
    "start_time": "2023-07-29T11:29:04.519Z"
   },
   {
    "duration": 292,
    "start_time": "2023-07-29T11:29:04.706Z"
   },
   {
    "duration": 274,
    "start_time": "2023-07-29T11:29:05.000Z"
   },
   {
    "duration": 194,
    "start_time": "2023-07-29T11:29:05.275Z"
   },
   {
    "duration": 202,
    "start_time": "2023-07-29T11:29:05.473Z"
   },
   {
    "duration": 275,
    "start_time": "2023-07-29T11:29:05.677Z"
   },
   {
    "duration": 5,
    "start_time": "2023-07-29T11:29:05.956Z"
   },
   {
    "duration": 8,
    "start_time": "2023-07-29T11:29:05.962Z"
   },
   {
    "duration": 5086,
    "start_time": "2023-07-29T11:29:05.972Z"
   },
   {
    "duration": 7,
    "start_time": "2023-07-29T11:29:11.059Z"
   },
   {
    "duration": 41,
    "start_time": "2023-07-29T11:29:11.156Z"
   },
   {
    "duration": 4,
    "start_time": "2023-07-29T11:29:11.199Z"
   },
   {
    "duration": 14,
    "start_time": "2023-07-29T11:29:11.205Z"
   },
   {
    "duration": 5,
    "start_time": "2023-07-29T11:29:11.221Z"
   },
   {
    "duration": 73199,
    "start_time": "2023-07-29T11:29:11.228Z"
   },
   {
    "duration": 3463,
    "start_time": "2023-07-29T11:30:24.428Z"
   },
   {
    "duration": 0,
    "start_time": "2023-07-29T12:02:37.442Z"
   },
   {
    "duration": 39271,
    "start_time": "2023-07-29T12:02:41.187Z"
   },
   {
    "duration": 1073,
    "start_time": "2023-07-29T12:06:06.790Z"
   },
   {
    "duration": 67568,
    "start_time": "2023-07-29T12:06:11.429Z"
   },
   {
    "duration": 738,
    "start_time": "2023-07-29T12:07:23.479Z"
   },
   {
    "duration": 204,
    "start_time": "2023-07-29T12:07:31.153Z"
   },
   {
    "duration": 4,
    "start_time": "2023-07-29T12:07:34.162Z"
   },
   {
    "duration": 724,
    "start_time": "2023-07-29T12:08:43.846Z"
   },
   {
    "duration": 303,
    "start_time": "2023-07-29T12:09:51.597Z"
   },
   {
    "duration": 65,
    "start_time": "2023-07-29T12:10:47.284Z"
   },
   {
    "duration": 51,
    "start_time": "2023-07-30T14:26:12.974Z"
   },
   {
    "duration": 1689,
    "start_time": "2023-07-30T14:26:18.069Z"
   },
   {
    "duration": 83,
    "start_time": "2023-07-30T14:26:21.150Z"
   },
   {
    "duration": 162,
    "start_time": "2023-07-30T14:26:45.754Z"
   },
   {
    "duration": 9,
    "start_time": "2023-07-30T14:27:33.954Z"
   },
   {
    "duration": 55,
    "start_time": "2023-07-30T14:27:44.770Z"
   },
   {
    "duration": 16,
    "start_time": "2023-07-30T14:28:06.318Z"
   },
   {
    "duration": 4,
    "start_time": "2023-07-30T14:32:00.587Z"
   },
   {
    "duration": 11,
    "start_time": "2023-07-30T14:32:01.871Z"
   },
   {
    "duration": 397,
    "start_time": "2023-07-30T14:40:10.423Z"
   },
   {
    "duration": 16,
    "start_time": "2023-07-30T14:43:57.654Z"
   },
   {
    "duration": 4,
    "start_time": "2023-07-30T14:44:32.201Z"
   },
   {
    "duration": 12,
    "start_time": "2023-07-30T14:44:45.550Z"
   },
   {
    "duration": 13,
    "start_time": "2023-07-30T14:45:30.046Z"
   },
   {
    "duration": 21,
    "start_time": "2023-07-30T14:46:10.592Z"
   },
   {
    "duration": 4,
    "start_time": "2023-07-30T14:46:16.607Z"
   },
   {
    "duration": 62,
    "start_time": "2023-07-30T14:46:16.613Z"
   },
   {
    "duration": 104,
    "start_time": "2023-07-30T14:46:16.681Z"
   },
   {
    "duration": 16,
    "start_time": "2023-07-30T14:46:16.790Z"
   },
   {
    "duration": 5,
    "start_time": "2023-07-30T14:46:16.808Z"
   },
   {
    "duration": 13,
    "start_time": "2023-07-30T14:46:16.815Z"
   },
   {
    "duration": 330,
    "start_time": "2023-07-30T14:46:16.830Z"
   },
   {
    "duration": 12,
    "start_time": "2023-07-30T14:46:24.446Z"
   },
   {
    "duration": 12,
    "start_time": "2023-07-30T14:48:01.104Z"
   },
   {
    "duration": 11,
    "start_time": "2023-07-30T14:49:07.849Z"
   },
   {
    "duration": 14,
    "start_time": "2023-07-30T14:49:40.250Z"
   },
   {
    "duration": 727,
    "start_time": "2023-07-30T14:52:35.557Z"
   },
   {
    "duration": 3,
    "start_time": "2023-07-30T15:52:21.943Z"
   },
   {
    "duration": 60,
    "start_time": "2023-07-30T15:52:21.948Z"
   },
   {
    "duration": 30,
    "start_time": "2023-07-30T15:52:22.010Z"
   },
   {
    "duration": 10,
    "start_time": "2023-07-30T15:52:22.042Z"
   },
   {
    "duration": 39,
    "start_time": "2023-07-30T15:52:22.054Z"
   },
   {
    "duration": 21,
    "start_time": "2023-07-30T15:52:22.094Z"
   },
   {
    "duration": 310,
    "start_time": "2023-07-30T15:52:22.116Z"
   },
   {
    "duration": 762,
    "start_time": "2023-07-30T15:52:22.428Z"
   },
   {
    "duration": 181,
    "start_time": "2023-07-30T15:52:28.411Z"
   },
   {
    "duration": 61,
    "start_time": "2023-07-30T16:03:40.902Z"
   },
   {
    "duration": 13,
    "start_time": "2023-07-30T16:04:13.185Z"
   },
   {
    "duration": 29,
    "start_time": "2023-07-30T16:04:35.721Z"
   },
   {
    "duration": 2153,
    "start_time": "2023-07-30T16:04:39.623Z"
   },
   {
    "duration": 4,
    "start_time": "2023-07-30T16:09:43.831Z"
   },
   {
    "duration": 3,
    "start_time": "2023-07-30T16:09:57.098Z"
   },
   {
    "duration": 25152,
    "start_time": "2023-07-30T16:11:32.950Z"
   },
   {
    "duration": 30,
    "start_time": "2023-07-30T16:19:00.921Z"
   },
   {
    "duration": 22,
    "start_time": "2023-07-30T16:19:11.691Z"
   },
   {
    "duration": 25249,
    "start_time": "2023-07-30T16:54:03.327Z"
   },
   {
    "duration": 5351,
    "start_time": "2023-07-30T16:55:25.501Z"
   },
   {
    "duration": 4,
    "start_time": "2023-07-30T16:55:36.232Z"
   },
   {
    "duration": 64,
    "start_time": "2023-07-30T16:55:36.238Z"
   },
   {
    "duration": 28,
    "start_time": "2023-07-30T16:55:36.304Z"
   },
   {
    "duration": 11,
    "start_time": "2023-07-30T16:55:36.334Z"
   },
   {
    "duration": 5,
    "start_time": "2023-07-30T16:55:36.347Z"
   },
   {
    "duration": 27,
    "start_time": "2023-07-30T16:55:36.354Z"
   },
   {
    "duration": 297,
    "start_time": "2023-07-30T16:55:36.383Z"
   },
   {
    "duration": 713,
    "start_time": "2023-07-30T16:55:36.682Z"
   },
   {
    "duration": 187,
    "start_time": "2023-07-30T16:55:37.397Z"
   },
   {
    "duration": 3306,
    "start_time": "2023-07-30T16:55:37.587Z"
   },
   {
    "duration": 10,
    "start_time": "2023-07-30T16:55:40.977Z"
   },
   {
    "duration": 93,
    "start_time": "2023-07-30T16:55:40.994Z"
   },
   {
    "duration": 25979,
    "start_time": "2023-07-30T16:56:20.797Z"
   },
   {
    "duration": 15,
    "start_time": "2023-07-30T16:57:36.451Z"
   },
   {
    "duration": 18,
    "start_time": "2023-07-30T16:58:02.670Z"
   },
   {
    "duration": 4,
    "start_time": "2023-07-30T16:58:27.635Z"
   },
   {
    "duration": 12,
    "start_time": "2023-07-30T17:08:48.295Z"
   },
   {
    "duration": 70,
    "start_time": "2023-07-30T17:22:00.758Z"
   },
   {
    "duration": 22,
    "start_time": "2023-07-30T17:23:02.966Z"
   },
   {
    "duration": 4,
    "start_time": "2023-07-30T17:23:31.066Z"
   },
   {
    "duration": 13,
    "start_time": "2023-07-30T17:23:37.706Z"
   },
   {
    "duration": 20311,
    "start_time": "2023-07-30T17:23:53.349Z"
   },
   {
    "duration": 22093,
    "start_time": "2023-07-30T17:25:53.607Z"
   },
   {
    "duration": 23980,
    "start_time": "2023-07-30T17:26:29.547Z"
   },
   {
    "duration": 202852,
    "start_time": "2023-07-30T17:34:13.447Z"
   },
   {
    "duration": 16,
    "start_time": "2023-07-30T17:53:13.118Z"
   },
   {
    "duration": 15,
    "start_time": "2023-07-30T17:53:19.247Z"
   },
   {
    "duration": 21,
    "start_time": "2023-07-30T17:54:03.895Z"
   },
   {
    "duration": 4,
    "start_time": "2023-07-30T17:54:16.642Z"
   },
   {
    "duration": 29,
    "start_time": "2023-07-30T17:56:17.262Z"
   },
   {
    "duration": 69,
    "start_time": "2023-07-30T17:57:13.418Z"
   },
   {
    "duration": 6,
    "start_time": "2023-07-30T17:57:29.196Z"
   },
   {
    "duration": 55,
    "start_time": "2023-07-30T17:57:29.204Z"
   },
   {
    "duration": 48,
    "start_time": "2023-07-30T17:57:29.261Z"
   },
   {
    "duration": 13,
    "start_time": "2023-07-30T17:57:29.312Z"
   },
   {
    "duration": 36,
    "start_time": "2023-07-30T17:57:29.327Z"
   },
   {
    "duration": 31,
    "start_time": "2023-07-30T17:57:29.365Z"
   },
   {
    "duration": 407,
    "start_time": "2023-07-30T17:57:29.398Z"
   },
   {
    "duration": 878,
    "start_time": "2023-07-30T17:57:29.807Z"
   },
   {
    "duration": 249,
    "start_time": "2023-07-30T17:57:30.688Z"
   },
   {
    "duration": 1964,
    "start_time": "2023-07-30T17:57:30.939Z"
   },
   {
    "duration": 5,
    "start_time": "2023-07-30T17:57:32.918Z"
   },
   {
    "duration": 20,
    "start_time": "2023-07-30T17:57:32.981Z"
   },
   {
    "duration": 31566,
    "start_time": "2023-07-30T17:57:33.016Z"
   },
   {
    "duration": 118,
    "start_time": "2023-07-30T17:58:04.590Z"
   },
   {
    "duration": 177,
    "start_time": "2023-07-30T17:58:04.710Z"
   },
   {
    "duration": 17,
    "start_time": "2023-07-30T17:58:04.893Z"
   },
   {
    "duration": 22100,
    "start_time": "2023-07-30T17:58:04.977Z"
   },
   {
    "duration": 1671,
    "start_time": "2023-07-31T18:56:03.400Z"
   },
   {
    "duration": 137,
    "start_time": "2023-07-31T18:56:05.073Z"
   },
   {
    "duration": 31,
    "start_time": "2023-07-31T18:56:05.212Z"
   },
   {
    "duration": 16,
    "start_time": "2023-07-31T18:56:05.245Z"
   },
   {
    "duration": 4,
    "start_time": "2023-07-31T18:56:05.263Z"
   },
   {
    "duration": 7,
    "start_time": "2023-07-31T18:56:05.269Z"
   },
   {
    "duration": 354,
    "start_time": "2023-07-31T18:56:05.278Z"
   },
   {
    "duration": 755,
    "start_time": "2023-07-31T18:56:05.634Z"
   },
   {
    "duration": 183,
    "start_time": "2023-07-31T18:56:06.391Z"
   },
   {
    "duration": 1416,
    "start_time": "2023-07-31T18:56:10.144Z"
   },
   {
    "duration": 4,
    "start_time": "2023-07-31T19:02:53.145Z"
   },
   {
    "duration": 1614,
    "start_time": "2023-07-31T19:03:52.753Z"
   },
   {
    "duration": 1658,
    "start_time": "2023-07-31T19:04:06.502Z"
   },
   {
    "duration": 1730,
    "start_time": "2023-07-31T19:14:31.849Z"
   },
   {
    "duration": 105,
    "start_time": "2023-07-31T19:15:32.268Z"
   },
   {
    "duration": 1777,
    "start_time": "2023-07-31T19:15:44.491Z"
   },
   {
    "duration": 1369,
    "start_time": "2023-07-31T19:15:56.000Z"
   },
   {
    "duration": 1707,
    "start_time": "2023-07-31T19:22:16.761Z"
   },
   {
    "duration": 58,
    "start_time": "2023-07-31T19:23:12.553Z"
   },
   {
    "duration": 1582,
    "start_time": "2023-07-31T19:23:48.379Z"
   },
   {
    "duration": 1454,
    "start_time": "2023-07-31T19:24:43.915Z"
   },
   {
    "duration": 1478,
    "start_time": "2023-07-31T19:25:28.688Z"
   },
   {
    "duration": 2680,
    "start_time": "2023-07-31T19:25:58.285Z"
   },
   {
    "duration": 113,
    "start_time": "2023-07-31T19:30:23.461Z"
   },
   {
    "duration": 1482,
    "start_time": "2023-07-31T19:31:35.386Z"
   },
   {
    "duration": 1599,
    "start_time": "2023-07-31T19:31:36.962Z"
   },
   {
    "duration": 12,
    "start_time": "2023-07-31T19:38:11.361Z"
   },
   {
    "duration": 5,
    "start_time": "2023-07-31T19:38:18.758Z"
   },
   {
    "duration": 62,
    "start_time": "2023-07-31T19:38:18.764Z"
   },
   {
    "duration": 32,
    "start_time": "2023-07-31T19:38:18.827Z"
   },
   {
    "duration": 12,
    "start_time": "2023-07-31T19:38:18.860Z"
   },
   {
    "duration": 4,
    "start_time": "2023-07-31T19:38:18.874Z"
   },
   {
    "duration": 5,
    "start_time": "2023-07-31T19:38:18.880Z"
   },
   {
    "duration": 309,
    "start_time": "2023-07-31T19:38:18.887Z"
   },
   {
    "duration": 639,
    "start_time": "2023-07-31T19:38:19.198Z"
   },
   {
    "duration": 273,
    "start_time": "2023-07-31T19:38:19.839Z"
   },
   {
    "duration": 1550,
    "start_time": "2023-07-31T19:38:20.113Z"
   },
   {
    "duration": 1898,
    "start_time": "2023-07-31T19:38:21.665Z"
   },
   {
    "duration": 3,
    "start_time": "2023-07-31T19:38:23.565Z"
   },
   {
    "duration": 4,
    "start_time": "2023-07-31T19:38:23.660Z"
   },
   {
    "duration": 22796,
    "start_time": "2023-07-31T19:38:23.666Z"
   },
   {
    "duration": 103,
    "start_time": "2023-07-31T19:38:46.464Z"
   },
   {
    "duration": 97,
    "start_time": "2023-07-31T19:38:46.569Z"
   },
   {
    "duration": 95,
    "start_time": "2023-07-31T19:38:46.669Z"
   },
   {
    "duration": 586,
    "start_time": "2023-07-31T19:38:51.909Z"
   },
   {
    "duration": 447,
    "start_time": "2023-07-31T19:39:20.852Z"
   },
   {
    "duration": 2,
    "start_time": "2023-07-31T19:39:28.608Z"
   },
   {
    "duration": 3,
    "start_time": "2023-07-31T19:39:31.272Z"
   },
   {
    "duration": 507,
    "start_time": "2023-07-31T19:39:33.703Z"
   },
   {
    "duration": 5793,
    "start_time": "2023-07-31T19:39:43.941Z"
   },
   {
    "duration": 7310,
    "start_time": "2023-07-31T19:41:32.559Z"
   },
   {
    "duration": 6074,
    "start_time": "2023-07-31T19:43:11.153Z"
   },
   {
    "duration": 7216,
    "start_time": "2023-07-31T19:43:19.844Z"
   },
   {
    "duration": 17,
    "start_time": "2023-07-31T19:43:58.268Z"
   },
   {
    "duration": 15,
    "start_time": "2023-07-31T19:45:01.752Z"
   },
   {
    "duration": 7188,
    "start_time": "2023-07-31T19:45:56.044Z"
   },
   {
    "duration": 76,
    "start_time": "2023-07-31T19:46:06.352Z"
   },
   {
    "duration": 38,
    "start_time": "2023-07-31T19:49:42.252Z"
   },
   {
    "duration": 8,
    "start_time": "2023-07-31T19:52:38.941Z"
   },
   {
    "duration": 64,
    "start_time": "2023-07-31T19:54:37.956Z"
   },
   {
    "duration": 38,
    "start_time": "2023-07-31T19:55:18.996Z"
   },
   {
    "duration": 8,
    "start_time": "2023-07-31T19:55:19.815Z"
   },
   {
    "duration": 11,
    "start_time": "2023-07-31T19:55:21.617Z"
   },
   {
    "duration": 49,
    "start_time": "2023-07-31T19:55:30.605Z"
   },
   {
    "duration": 10,
    "start_time": "2023-07-31T19:57:58.380Z"
   },
   {
    "duration": 49,
    "start_time": "2023-07-31T19:58:59.632Z"
   },
   {
    "duration": 5,
    "start_time": "2023-07-31T20:01:07.713Z"
   },
   {
    "duration": 6,
    "start_time": "2023-07-31T20:02:17.015Z"
   },
   {
    "duration": 47,
    "start_time": "2023-07-31T20:02:22.948Z"
   },
   {
    "duration": 48,
    "start_time": "2023-07-31T20:02:40.248Z"
   },
   {
    "duration": 70,
    "start_time": "2023-07-31T20:07:55.955Z"
   },
   {
    "duration": 1388,
    "start_time": "2023-07-31T20:08:03.644Z"
   },
   {
    "duration": 1151,
    "start_time": "2023-07-31T20:08:16.291Z"
   },
   {
    "duration": 574,
    "start_time": "2023-07-31T20:08:27.879Z"
   },
   {
    "duration": 46,
    "start_time": "2023-07-31T20:08:55.348Z"
   },
   {
    "duration": 6,
    "start_time": "2023-07-31T20:08:58.752Z"
   },
   {
    "duration": 6,
    "start_time": "2023-07-31T20:09:04.448Z"
   },
   {
    "duration": 13,
    "start_time": "2023-07-31T20:09:05.649Z"
   },
   {
    "duration": 10,
    "start_time": "2023-07-31T20:09:31.907Z"
   },
   {
    "duration": 10,
    "start_time": "2023-07-31T20:09:41.563Z"
   },
   {
    "duration": 1253,
    "start_time": "2023-07-31T20:11:59.163Z"
   },
   {
    "duration": 51,
    "start_time": "2023-07-31T20:12:06.144Z"
   },
   {
    "duration": 6,
    "start_time": "2023-07-31T20:12:07.244Z"
   },
   {
    "duration": 12,
    "start_time": "2023-07-31T20:12:08.506Z"
   },
   {
    "duration": 50,
    "start_time": "2023-07-31T20:12:28.895Z"
   },
   {
    "duration": 6,
    "start_time": "2023-07-31T20:12:31.344Z"
   },
   {
    "duration": 13,
    "start_time": "2023-07-31T20:12:32.248Z"
   },
   {
    "duration": 45,
    "start_time": "2023-07-31T20:14:18.548Z"
   },
   {
    "duration": 56,
    "start_time": "2023-07-31T20:15:46.750Z"
   },
   {
    "duration": 6,
    "start_time": "2023-07-31T20:15:47.899Z"
   },
   {
    "duration": 12,
    "start_time": "2023-07-31T20:15:48.848Z"
   },
   {
    "duration": 44,
    "start_time": "2023-07-31T20:16:13.795Z"
   },
   {
    "duration": 7,
    "start_time": "2023-07-31T20:16:14.699Z"
   },
   {
    "duration": 15,
    "start_time": "2023-07-31T20:16:15.402Z"
   },
   {
    "duration": 6,
    "start_time": "2023-07-31T20:16:24.243Z"
   },
   {
    "duration": 12,
    "start_time": "2023-07-31T20:16:24.966Z"
   },
   {
    "duration": 45,
    "start_time": "2023-07-31T20:17:01.652Z"
   },
   {
    "duration": 7,
    "start_time": "2023-07-31T20:17:02.443Z"
   },
   {
    "duration": 11,
    "start_time": "2023-07-31T20:17:03.448Z"
   },
   {
    "duration": 5,
    "start_time": "2023-07-31T20:17:16.169Z"
   },
   {
    "duration": 12,
    "start_time": "2023-07-31T20:17:16.844Z"
   },
   {
    "duration": 5,
    "start_time": "2023-07-31T20:19:09.944Z"
   },
   {
    "duration": 5,
    "start_time": "2023-07-31T20:19:10.800Z"
   },
   {
    "duration": 11,
    "start_time": "2023-07-31T20:19:13.007Z"
   },
   {
    "duration": 44,
    "start_time": "2023-07-31T20:19:19.511Z"
   },
   {
    "duration": 6,
    "start_time": "2023-07-31T20:19:20.040Z"
   },
   {
    "duration": 12,
    "start_time": "2023-07-31T20:19:21.215Z"
   },
   {
    "duration": 6,
    "start_time": "2023-07-31T20:19:22.917Z"
   },
   {
    "duration": 5,
    "start_time": "2023-07-31T20:19:30.495Z"
   },
   {
    "duration": 7,
    "start_time": "2023-07-31T20:19:30.962Z"
   },
   {
    "duration": 12,
    "start_time": "2023-07-31T20:19:31.707Z"
   },
   {
    "duration": 12,
    "start_time": "2023-07-31T20:19:43.319Z"
   },
   {
    "duration": 3,
    "start_time": "2023-07-31T20:20:06.249Z"
   },
   {
    "duration": 10,
    "start_time": "2023-07-31T20:20:07.303Z"
   },
   {
    "duration": 4,
    "start_time": "2023-07-31T20:21:10.498Z"
   },
   {
    "duration": 14,
    "start_time": "2023-07-31T20:21:14.820Z"
   },
   {
    "duration": 11,
    "start_time": "2023-07-31T20:21:22.849Z"
   },
   {
    "duration": 16,
    "start_time": "2023-07-31T20:22:01.007Z"
   },
   {
    "duration": 15,
    "start_time": "2023-07-31T20:22:07.919Z"
   },
   {
    "duration": 5,
    "start_time": "2023-07-31T20:22:32.745Z"
   },
   {
    "duration": 12,
    "start_time": "2023-07-31T20:22:41.310Z"
   },
   {
    "duration": 7,
    "start_time": "2023-07-31T20:22:45.911Z"
   },
   {
    "duration": 2844,
    "start_time": "2023-07-31T20:22:46.817Z"
   },
   {
    "duration": 6000,
    "start_time": "2023-07-31T20:23:49.800Z"
   },
   {
    "duration": 25,
    "start_time": "2023-07-31T20:24:51.556Z"
   },
   {
    "duration": 6,
    "start_time": "2023-07-31T20:29:55.759Z"
   },
   {
    "duration": 6,
    "start_time": "2023-07-31T20:30:00.850Z"
   },
   {
    "duration": 7,
    "start_time": "2023-07-31T20:30:11.452Z"
   },
   {
    "duration": 7,
    "start_time": "2023-07-31T20:31:10.319Z"
   },
   {
    "duration": 79,
    "start_time": "2023-07-31T20:32:30.968Z"
   },
   {
    "duration": 3373,
    "start_time": "2023-08-01T10:43:13.637Z"
   },
   {
    "duration": 7064,
    "start_time": "2023-08-01T10:43:23.837Z"
   },
   {
    "duration": 116,
    "start_time": "2023-08-01T10:43:30.903Z"
   },
   {
    "duration": 49,
    "start_time": "2023-08-01T17:05:44.508Z"
   },
   {
    "duration": 7362,
    "start_time": "2023-08-01T17:05:56.602Z"
   },
   {
    "duration": 1721,
    "start_time": "2023-08-01T17:06:03.966Z"
   },
   {
    "duration": 3,
    "start_time": "2023-08-01T17:06:05.688Z"
   },
   {
    "duration": 237,
    "start_time": "2023-08-01T17:06:05.692Z"
   },
   {
    "duration": 13,
    "start_time": "2023-08-01T17:06:05.932Z"
   },
   {
    "duration": 22,
    "start_time": "2023-08-01T17:06:05.947Z"
   },
   {
    "duration": 47,
    "start_time": "2023-08-01T17:06:05.971Z"
   },
   {
    "duration": 387,
    "start_time": "2023-08-01T17:06:06.019Z"
   },
   {
    "duration": 648,
    "start_time": "2023-08-01T17:06:06.408Z"
   },
   {
    "duration": 176,
    "start_time": "2023-08-01T17:06:07.057Z"
   },
   {
    "duration": 3894,
    "start_time": "2023-08-01T17:06:07.235Z"
   },
   {
    "duration": 3990,
    "start_time": "2023-08-01T17:06:11.135Z"
   },
   {
    "duration": 11,
    "start_time": "2023-08-01T17:06:23.808Z"
   },
   {
    "duration": 4,
    "start_time": "2023-08-01T17:07:24.384Z"
   },
   {
    "duration": 110,
    "start_time": "2023-08-01T17:07:25.255Z"
   },
   {
    "duration": 8,
    "start_time": "2023-08-01T17:07:28.860Z"
   },
   {
    "duration": 8,
    "start_time": "2023-08-01T17:07:33.217Z"
   },
   {
    "duration": 1590,
    "start_time": "2023-08-01T17:07:43.287Z"
   },
   {
    "duration": 3,
    "start_time": "2023-08-01T17:09:27.582Z"
   },
   {
    "duration": 7,
    "start_time": "2023-08-01T17:09:40.186Z"
   },
   {
    "duration": 1985,
    "start_time": "2023-08-01T17:10:49.962Z"
   },
   {
    "duration": 4,
    "start_time": "2023-08-01T17:10:51.949Z"
   },
   {
    "duration": 23,
    "start_time": "2023-08-01T17:10:51.955Z"
   },
   {
    "duration": 90,
    "start_time": "2023-08-01T17:10:51.980Z"
   },
   {
    "duration": 11,
    "start_time": "2023-08-01T17:10:52.072Z"
   },
   {
    "duration": 3,
    "start_time": "2023-08-01T17:11:14.693Z"
   },
   {
    "duration": 3,
    "start_time": "2023-08-01T17:11:23.509Z"
   },
   {
    "duration": 8,
    "start_time": "2023-08-01T17:11:28.946Z"
   },
   {
    "duration": 12,
    "start_time": "2023-08-01T17:11:40.039Z"
   },
   {
    "duration": 10,
    "start_time": "2023-08-01T17:11:45.480Z"
   },
   {
    "duration": 4,
    "start_time": "2023-08-01T17:11:56.561Z"
   },
   {
    "duration": 8,
    "start_time": "2023-08-01T17:12:00.787Z"
   },
   {
    "duration": 4,
    "start_time": "2023-08-01T17:12:09.703Z"
   },
   {
    "duration": 9,
    "start_time": "2023-08-01T17:12:15.105Z"
   },
   {
    "duration": 91,
    "start_time": "2023-08-01T17:12:41.570Z"
   },
   {
    "duration": 62,
    "start_time": "2023-08-01T17:12:56.700Z"
   },
   {
    "duration": 10,
    "start_time": "2023-08-01T17:13:28.832Z"
   },
   {
    "duration": 11,
    "start_time": "2023-08-01T17:13:38.860Z"
   },
   {
    "duration": 5,
    "start_time": "2023-08-01T17:13:54.804Z"
   },
   {
    "duration": 3,
    "start_time": "2023-08-01T17:13:57.591Z"
   },
   {
    "duration": 5,
    "start_time": "2023-08-01T17:14:09.232Z"
   },
   {
    "duration": 2925,
    "start_time": "2023-08-01T17:14:11.318Z"
   },
   {
    "duration": 1238,
    "start_time": "2023-08-01T17:14:18.004Z"
   },
   {
    "duration": 13,
    "start_time": "2023-08-01T17:15:05.161Z"
   },
   {
    "duration": 2227,
    "start_time": "2023-08-01T17:15:26.557Z"
   },
   {
    "duration": 4,
    "start_time": "2023-08-01T17:15:28.787Z"
   },
   {
    "duration": 6,
    "start_time": "2023-08-01T17:15:28.792Z"
   },
   {
    "duration": 58,
    "start_time": "2023-08-01T17:15:28.800Z"
   },
   {
    "duration": 10,
    "start_time": "2023-08-01T17:15:28.860Z"
   },
   {
    "duration": 4,
    "start_time": "2023-08-01T17:15:28.871Z"
   },
   {
    "duration": 12,
    "start_time": "2023-08-01T17:15:28.876Z"
   },
   {
    "duration": 258,
    "start_time": "2023-08-01T17:15:28.889Z"
   },
   {
    "duration": 725,
    "start_time": "2023-08-01T17:15:29.148Z"
   },
   {
    "duration": 166,
    "start_time": "2023-08-01T17:15:29.874Z"
   },
   {
    "duration": 3082,
    "start_time": "2023-08-01T17:15:30.041Z"
   },
   {
    "duration": 3408,
    "start_time": "2023-08-01T17:15:33.126Z"
   },
   {
    "duration": 2,
    "start_time": "2023-08-01T17:15:36.536Z"
   },
   {
    "duration": 198,
    "start_time": "2023-08-01T17:15:36.541Z"
   },
   {
    "duration": 13524,
    "start_time": "2023-08-01T17:15:36.740Z"
   },
   {
    "duration": 0,
    "start_time": "2023-08-01T17:15:50.266Z"
   },
   {
    "duration": 0,
    "start_time": "2023-08-01T17:15:50.267Z"
   },
   {
    "duration": 0,
    "start_time": "2023-08-01T17:15:50.268Z"
   },
   {
    "duration": 0,
    "start_time": "2023-08-01T17:15:50.269Z"
   },
   {
    "duration": 0,
    "start_time": "2023-08-01T17:15:50.270Z"
   },
   {
    "duration": 0,
    "start_time": "2023-08-01T17:15:50.271Z"
   },
   {
    "duration": 0,
    "start_time": "2023-08-01T17:15:50.272Z"
   },
   {
    "duration": 0,
    "start_time": "2023-08-01T17:15:50.273Z"
   },
   {
    "duration": 0,
    "start_time": "2023-08-01T17:15:50.273Z"
   },
   {
    "duration": 0,
    "start_time": "2023-08-01T17:15:50.274Z"
   },
   {
    "duration": 0,
    "start_time": "2023-08-01T17:15:50.275Z"
   },
   {
    "duration": 0,
    "start_time": "2023-08-01T17:15:50.276Z"
   },
   {
    "duration": 0,
    "start_time": "2023-08-01T17:15:50.276Z"
   },
   {
    "duration": 0,
    "start_time": "2023-08-01T17:15:50.277Z"
   },
   {
    "duration": 0,
    "start_time": "2023-08-01T17:15:50.278Z"
   },
   {
    "duration": 0,
    "start_time": "2023-08-01T17:15:50.279Z"
   },
   {
    "duration": 0,
    "start_time": "2023-08-01T17:15:50.279Z"
   },
   {
    "duration": 0,
    "start_time": "2023-08-01T17:15:50.280Z"
   },
   {
    "duration": 0,
    "start_time": "2023-08-01T17:15:50.282Z"
   },
   {
    "duration": 1999,
    "start_time": "2023-08-01T17:22:02.778Z"
   },
   {
    "duration": 5,
    "start_time": "2023-08-01T17:22:04.779Z"
   },
   {
    "duration": 7,
    "start_time": "2023-08-01T17:22:04.785Z"
   },
   {
    "duration": 62,
    "start_time": "2023-08-01T17:22:04.794Z"
   },
   {
    "duration": 10,
    "start_time": "2023-08-01T17:22:04.858Z"
   },
   {
    "duration": 5,
    "start_time": "2023-08-01T17:22:04.869Z"
   },
   {
    "duration": 5,
    "start_time": "2023-08-01T17:22:04.875Z"
   },
   {
    "duration": 264,
    "start_time": "2023-08-01T17:22:04.881Z"
   },
   {
    "duration": 662,
    "start_time": "2023-08-01T17:22:05.146Z"
   },
   {
    "duration": 252,
    "start_time": "2023-08-01T17:22:05.810Z"
   },
   {
    "duration": 3463,
    "start_time": "2023-08-01T17:22:06.063Z"
   },
   {
    "duration": 3204,
    "start_time": "2023-08-01T17:22:09.527Z"
   },
   {
    "duration": 4,
    "start_time": "2023-08-01T17:22:12.735Z"
   },
   {
    "duration": 191,
    "start_time": "2023-08-01T17:22:12.742Z"
   },
   {
    "duration": 14152,
    "start_time": "2023-08-01T17:23:22.819Z"
   },
   {
    "duration": 10,
    "start_time": "2023-08-01T17:24:16.985Z"
   },
   {
    "duration": 2120,
    "start_time": "2023-08-01T17:24:31.636Z"
   },
   {
    "duration": 5,
    "start_time": "2023-08-01T17:24:33.759Z"
   },
   {
    "duration": 9,
    "start_time": "2023-08-01T17:24:33.765Z"
   },
   {
    "duration": 63,
    "start_time": "2023-08-01T17:24:33.775Z"
   },
   {
    "duration": 10,
    "start_time": "2023-08-01T17:24:33.840Z"
   },
   {
    "duration": 3,
    "start_time": "2023-08-01T17:24:33.852Z"
   },
   {
    "duration": 5,
    "start_time": "2023-08-01T17:24:33.856Z"
   },
   {
    "duration": 275,
    "start_time": "2023-08-01T17:24:33.862Z"
   },
   {
    "duration": 648,
    "start_time": "2023-08-01T17:24:34.139Z"
   },
   {
    "duration": 153,
    "start_time": "2023-08-01T17:24:34.788Z"
   },
   {
    "duration": 3186,
    "start_time": "2023-08-01T17:24:34.943Z"
   },
   {
    "duration": 3596,
    "start_time": "2023-08-01T17:24:38.137Z"
   },
   {
    "duration": 3,
    "start_time": "2023-08-01T17:24:41.737Z"
   },
   {
    "duration": 188,
    "start_time": "2023-08-01T17:24:41.742Z"
   },
   {
    "duration": 8,
    "start_time": "2023-08-01T17:24:44.739Z"
   },
   {
    "duration": 45,
    "start_time": "2023-08-01T17:27:47.349Z"
   },
   {
    "duration": 48,
    "start_time": "2023-08-01T17:28:47.431Z"
   },
   {
    "duration": 22888,
    "start_time": "2023-08-01T17:31:12.134Z"
   },
   {
    "duration": 12016,
    "start_time": "2023-08-01T17:32:08.248Z"
   },
   {
    "duration": 10,
    "start_time": "2023-08-01T17:34:27.512Z"
   },
   {
    "duration": 10,
    "start_time": "2023-08-01T17:34:41.162Z"
   },
   {
    "duration": 13,
    "start_time": "2023-08-01T17:37:12.903Z"
   },
   {
    "duration": 13,
    "start_time": "2023-08-01T17:37:29.481Z"
   },
   {
    "duration": 21,
    "start_time": "2023-08-01T17:38:14.038Z"
   },
   {
    "duration": 29,
    "start_time": "2023-08-01T17:38:22.976Z"
   },
   {
    "duration": 85,
    "start_time": "2023-08-01T17:41:49.507Z"
   },
   {
    "duration": 21,
    "start_time": "2023-08-01T17:41:57.848Z"
   },
   {
    "duration": 2374,
    "start_time": "2023-08-01T17:45:08.421Z"
   },
   {
    "duration": 5,
    "start_time": "2023-08-01T17:45:10.797Z"
   },
   {
    "duration": 9,
    "start_time": "2023-08-01T17:45:10.803Z"
   },
   {
    "duration": 74,
    "start_time": "2023-08-01T17:45:10.813Z"
   },
   {
    "duration": 13,
    "start_time": "2023-08-01T17:45:10.889Z"
   },
   {
    "duration": 5,
    "start_time": "2023-08-01T17:45:10.903Z"
   },
   {
    "duration": 6,
    "start_time": "2023-08-01T17:45:10.909Z"
   },
   {
    "duration": 319,
    "start_time": "2023-08-01T17:45:10.917Z"
   },
   {
    "duration": 764,
    "start_time": "2023-08-01T17:45:11.238Z"
   },
   {
    "duration": 191,
    "start_time": "2023-08-01T17:45:12.004Z"
   },
   {
    "duration": 1854,
    "start_time": "2023-08-01T17:45:12.197Z"
   },
   {
    "duration": 1919,
    "start_time": "2023-08-01T17:45:14.119Z"
   },
   {
    "duration": 8,
    "start_time": "2023-08-01T17:45:16.043Z"
   },
   {
    "duration": 96,
    "start_time": "2023-08-01T17:45:16.133Z"
   },
   {
    "duration": 24974,
    "start_time": "2023-08-01T17:45:22.748Z"
   },
   {
    "duration": 2344,
    "start_time": "2023-08-01T17:46:25.620Z"
   },
   {
    "duration": 6,
    "start_time": "2023-08-01T17:46:27.967Z"
   },
   {
    "duration": 28,
    "start_time": "2023-08-01T17:46:27.975Z"
   },
   {
    "duration": 82,
    "start_time": "2023-08-01T17:46:28.005Z"
   },
   {
    "duration": 13,
    "start_time": "2023-08-01T17:46:28.089Z"
   },
   {
    "duration": 12,
    "start_time": "2023-08-01T17:46:28.103Z"
   },
   {
    "duration": 10,
    "start_time": "2023-08-01T17:46:28.117Z"
   },
   {
    "duration": 296,
    "start_time": "2023-08-01T17:46:28.128Z"
   },
   {
    "duration": 750,
    "start_time": "2023-08-01T17:46:28.425Z"
   },
   {
    "duration": 174,
    "start_time": "2023-08-01T17:46:29.178Z"
   },
   {
    "duration": 1367,
    "start_time": "2023-08-01T17:46:29.353Z"
   },
   {
    "duration": 2515,
    "start_time": "2023-08-01T17:46:30.722Z"
   },
   {
    "duration": 82,
    "start_time": "2023-08-01T17:46:33.241Z"
   },
   {
    "duration": 85,
    "start_time": "2023-08-01T17:46:33.336Z"
   },
   {
    "duration": 23728,
    "start_time": "2023-08-01T17:46:33.425Z"
   },
   {
    "duration": 191,
    "start_time": "2023-08-01T17:46:57.230Z"
   },
   {
    "duration": 12,
    "start_time": "2023-08-01T17:46:57.427Z"
   },
   {
    "duration": 84,
    "start_time": "2023-08-01T17:46:57.446Z"
   },
   {
    "duration": 14382,
    "start_time": "2023-08-01T17:46:57.536Z"
   },
   {
    "duration": 654901,
    "start_time": "2023-08-01T17:47:11.920Z"
   },
   {
    "duration": 0,
    "start_time": "2023-08-01T17:58:06.823Z"
   },
   {
    "duration": 0,
    "start_time": "2023-08-01T17:58:06.825Z"
   },
   {
    "duration": 0,
    "start_time": "2023-08-01T17:58:06.826Z"
   },
   {
    "duration": 0,
    "start_time": "2023-08-01T17:58:06.827Z"
   },
   {
    "duration": 0,
    "start_time": "2023-08-01T17:58:06.828Z"
   },
   {
    "duration": 0,
    "start_time": "2023-08-01T17:58:06.829Z"
   },
   {
    "duration": 0,
    "start_time": "2023-08-01T17:58:06.831Z"
   },
   {
    "duration": 193866,
    "start_time": "2023-08-01T17:58:24.365Z"
   },
   {
    "duration": 3,
    "start_time": "2023-08-01T18:01:44.292Z"
   },
   {
    "duration": 4,
    "start_time": "2023-08-01T18:01:45.693Z"
   },
   {
    "duration": 9,
    "start_time": "2023-08-01T18:01:46.201Z"
   },
   {
    "duration": 15,
    "start_time": "2023-08-01T18:01:50.718Z"
   },
   {
    "duration": 4,
    "start_time": "2023-08-01T18:01:51.690Z"
   },
   {
    "duration": 10,
    "start_time": "2023-08-01T18:01:52.802Z"
   },
   {
    "duration": 6,
    "start_time": "2023-08-01T18:01:54.432Z"
   },
   {
    "duration": 5,
    "start_time": "2023-08-01T18:02:07.691Z"
   },
   {
    "duration": 2109,
    "start_time": "2023-08-01T18:02:20.347Z"
   },
   {
    "duration": 1153,
    "start_time": "2023-08-01T18:02:26.167Z"
   },
   {
    "duration": 21,
    "start_time": "2023-08-01T18:02:28.222Z"
   },
   {
    "duration": 16,
    "start_time": "2023-08-01T18:02:43.550Z"
   },
   {
    "duration": 23,
    "start_time": "2023-08-01T18:03:00.568Z"
   },
   {
    "duration": 5,
    "start_time": "2023-08-01T18:06:33.354Z"
   },
   {
    "duration": 12,
    "start_time": "2023-08-01T18:07:20.660Z"
   },
   {
    "duration": 1112,
    "start_time": "2023-08-01T18:07:27.618Z"
   },
   {
    "duration": 16,
    "start_time": "2023-08-01T18:07:30.005Z"
   },
   {
    "duration": 13,
    "start_time": "2023-08-01T18:08:07.034Z"
   },
   {
    "duration": 2211,
    "start_time": "2023-08-01T18:08:24.152Z"
   },
   {
    "duration": 5,
    "start_time": "2023-08-01T18:08:26.366Z"
   },
   {
    "duration": 9,
    "start_time": "2023-08-01T18:08:26.373Z"
   },
   {
    "duration": 65,
    "start_time": "2023-08-01T18:08:26.385Z"
   },
   {
    "duration": 16,
    "start_time": "2023-08-01T18:08:26.452Z"
   },
   {
    "duration": 4,
    "start_time": "2023-08-01T18:08:41.696Z"
   },
   {
    "duration": 7,
    "start_time": "2023-08-01T18:08:42.326Z"
   },
   {
    "duration": 11,
    "start_time": "2023-08-01T18:08:42.796Z"
   },
   {
    "duration": 14,
    "start_time": "2023-08-01T18:08:44.306Z"
   },
   {
    "duration": 5,
    "start_time": "2023-08-01T18:08:45.631Z"
   },
   {
    "duration": 12,
    "start_time": "2023-08-01T18:08:46.115Z"
   },
   {
    "duration": 6,
    "start_time": "2023-08-01T18:08:47.886Z"
   },
   {
    "duration": 4,
    "start_time": "2023-08-01T18:08:50.727Z"
   },
   {
    "duration": 4,
    "start_time": "2023-08-01T18:08:53.855Z"
   },
   {
    "duration": 1576,
    "start_time": "2023-08-01T18:08:55.361Z"
   },
   {
    "duration": 1181,
    "start_time": "2023-08-01T18:09:00.338Z"
   },
   {
    "duration": 22,
    "start_time": "2023-08-01T18:09:07.301Z"
   },
   {
    "duration": 13,
    "start_time": "2023-08-01T18:11:07.359Z"
   },
   {
    "duration": 2422,
    "start_time": "2023-08-01T18:11:28.117Z"
   },
   {
    "duration": 5,
    "start_time": "2023-08-01T18:11:30.542Z"
   },
   {
    "duration": 26,
    "start_time": "2023-08-01T18:11:30.548Z"
   },
   {
    "duration": 113,
    "start_time": "2023-08-01T18:11:30.576Z"
   },
   {
    "duration": 62,
    "start_time": "2023-08-01T18:11:30.690Z"
   },
   {
    "duration": 4,
    "start_time": "2023-08-01T18:11:36.057Z"
   },
   {
    "duration": 4,
    "start_time": "2023-08-01T18:11:36.485Z"
   },
   {
    "duration": 11,
    "start_time": "2023-08-01T18:11:37.004Z"
   },
   {
    "duration": 11,
    "start_time": "2023-08-01T18:11:37.509Z"
   },
   {
    "duration": 5,
    "start_time": "2023-08-01T18:11:38.032Z"
   },
   {
    "duration": 29,
    "start_time": "2023-08-01T18:11:38.716Z"
   },
   {
    "duration": 7,
    "start_time": "2023-08-01T18:11:39.243Z"
   },
   {
    "duration": 4,
    "start_time": "2023-08-01T18:11:43.846Z"
   },
   {
    "duration": 4,
    "start_time": "2023-08-01T18:11:46.772Z"
   },
   {
    "duration": 1771,
    "start_time": "2023-08-01T18:11:49.986Z"
   },
   {
    "duration": 10,
    "start_time": "2023-08-01T18:12:13.585Z"
   },
   {
    "duration": 4,
    "start_time": "2023-08-01T18:12:27.696Z"
   },
   {
    "duration": 1658,
    "start_time": "2023-08-01T18:12:31.153Z"
   },
   {
    "duration": 3,
    "start_time": "2023-08-01T18:12:59.307Z"
   },
   {
    "duration": 1753,
    "start_time": "2023-08-01T18:13:01.835Z"
   },
   {
    "duration": 5,
    "start_time": "2023-08-01T18:13:30.302Z"
   },
   {
    "duration": 4,
    "start_time": "2023-08-01T18:13:48.758Z"
   },
   {
    "duration": 1632,
    "start_time": "2023-08-01T18:13:52.250Z"
   },
   {
    "duration": 1153,
    "start_time": "2023-08-01T18:14:00.317Z"
   },
   {
    "duration": 21,
    "start_time": "2023-08-01T18:14:02.689Z"
   },
   {
    "duration": 5,
    "start_time": "2023-08-01T18:15:13.734Z"
   },
   {
    "duration": 2519,
    "start_time": "2023-08-01T18:15:15.587Z"
   },
   {
    "duration": 994,
    "start_time": "2023-08-01T18:15:20.872Z"
   },
   {
    "duration": 22,
    "start_time": "2023-08-01T18:15:23.120Z"
   },
   {
    "duration": 9,
    "start_time": "2023-08-01T18:16:05.709Z"
   },
   {
    "duration": 4,
    "start_time": "2023-08-01T18:16:34.112Z"
   },
   {
    "duration": 12,
    "start_time": "2023-08-01T18:17:46.103Z"
   },
   {
    "duration": 3,
    "start_time": "2023-08-01T18:17:50.712Z"
   },
   {
    "duration": 1622,
    "start_time": "2023-08-01T18:17:53.044Z"
   },
   {
    "duration": 1082,
    "start_time": "2023-08-01T18:17:59.190Z"
   },
   {
    "duration": 19,
    "start_time": "2023-08-01T18:18:02.001Z"
   },
   {
    "duration": 4,
    "start_time": "2023-08-01T18:19:14.724Z"
   },
   {
    "duration": 1754,
    "start_time": "2023-08-01T18:19:18.597Z"
   },
   {
    "duration": 1110,
    "start_time": "2023-08-01T18:19:23.229Z"
   },
   {
    "duration": 5,
    "start_time": "2023-08-01T18:19:35.986Z"
   },
   {
    "duration": 22,
    "start_time": "2023-08-01T18:19:46.617Z"
   },
   {
    "duration": 3986,
    "start_time": "2023-08-01T18:20:05.807Z"
   },
   {
    "duration": 38,
    "start_time": "2023-08-01T18:20:20.531Z"
   },
   {
    "duration": 3,
    "start_time": "2023-08-01T18:20:26.749Z"
   },
   {
    "duration": 1318,
    "start_time": "2023-08-01T18:20:55.543Z"
   },
   {
    "duration": 32,
    "start_time": "2023-08-01T18:21:06.750Z"
   },
   {
    "duration": 20,
    "start_time": "2023-08-01T18:21:25.487Z"
   },
   {
    "duration": 4,
    "start_time": "2023-08-01T18:21:40.086Z"
   },
   {
    "duration": 1671,
    "start_time": "2023-08-01T18:21:43.153Z"
   },
   {
    "duration": 1183,
    "start_time": "2023-08-01T18:21:47.689Z"
   },
   {
    "duration": 3,
    "start_time": "2023-08-01T18:21:53.485Z"
   },
   {
    "duration": 6,
    "start_time": "2023-08-01T18:21:56.805Z"
   },
   {
    "duration": 211,
    "start_time": "2023-08-01T18:30:41.384Z"
   },
   {
    "duration": 10,
    "start_time": "2023-08-01T18:32:46.550Z"
   },
   {
    "duration": 1952,
    "start_time": "2023-08-01T18:33:00.036Z"
   },
   {
    "duration": 5,
    "start_time": "2023-08-01T18:33:01.991Z"
   },
   {
    "duration": 74,
    "start_time": "2023-08-01T18:33:01.998Z"
   },
   {
    "duration": 82,
    "start_time": "2023-08-01T18:33:02.075Z"
   },
   {
    "duration": 13,
    "start_time": "2023-08-01T18:33:02.159Z"
   },
   {
    "duration": 47,
    "start_time": "2023-08-01T18:33:02.174Z"
   },
   {
    "duration": 194,
    "start_time": "2023-08-01T18:33:02.222Z"
   },
   {
    "duration": 590,
    "start_time": "2023-08-01T18:33:02.418Z"
   },
   {
    "duration": 786,
    "start_time": "2023-08-01T18:33:03.009Z"
   },
   {
    "duration": 150,
    "start_time": "2023-08-01T18:33:03.797Z"
   },
   {
    "duration": 886,
    "start_time": "2023-08-01T18:33:03.948Z"
   },
   {
    "duration": 1304,
    "start_time": "2023-08-01T18:33:04.921Z"
   },
   {
    "duration": 198,
    "start_time": "2023-08-01T18:33:14.641Z"
   },
   {
    "duration": 1948,
    "start_time": "2023-08-01T18:35:41.131Z"
   },
   {
    "duration": 5,
    "start_time": "2023-08-01T18:35:43.081Z"
   },
   {
    "duration": 15,
    "start_time": "2023-08-01T18:35:43.087Z"
   },
   {
    "duration": 58,
    "start_time": "2023-08-01T18:35:43.104Z"
   },
   {
    "duration": 12,
    "start_time": "2023-08-01T18:35:43.164Z"
   },
   {
    "duration": 4,
    "start_time": "2023-08-01T18:35:43.178Z"
   },
   {
    "duration": 14,
    "start_time": "2023-08-01T18:35:43.184Z"
   },
   {
    "duration": 262,
    "start_time": "2023-08-01T18:35:43.200Z"
   },
   {
    "duration": 619,
    "start_time": "2023-08-01T18:35:43.464Z"
   },
   {
    "duration": 159,
    "start_time": "2023-08-01T18:35:44.086Z"
   },
   {
    "duration": 2076,
    "start_time": "2023-08-01T18:35:44.247Z"
   },
   {
    "duration": 996,
    "start_time": "2023-08-01T18:35:46.325Z"
   },
   {
    "duration": 299,
    "start_time": "2023-08-01T18:35:47.324Z"
   },
   {
    "duration": 3,
    "start_time": "2023-08-01T18:35:47.624Z"
   },
   {
    "duration": 11,
    "start_time": "2023-08-01T18:35:47.628Z"
   },
   {
    "duration": 25081,
    "start_time": "2023-08-01T18:35:47.640Z"
   },
   {
    "duration": 99,
    "start_time": "2023-08-01T18:36:12.723Z"
   },
   {
    "duration": 122,
    "start_time": "2023-08-01T18:36:12.824Z"
   },
   {
    "duration": 191,
    "start_time": "2023-08-01T18:36:12.950Z"
   },
   {
    "duration": 10190,
    "start_time": "2023-08-01T18:36:13.143Z"
   },
   {
    "duration": 232516,
    "start_time": "2023-08-01T18:36:28.817Z"
   },
   {
    "duration": 0,
    "start_time": "2023-08-01T18:45:28.854Z"
   },
   {
    "duration": 12,
    "start_time": "2023-08-01T18:45:36.614Z"
   },
   {
    "duration": 4,
    "start_time": "2023-08-01T18:46:06.056Z"
   },
   {
    "duration": 4,
    "start_time": "2023-08-01T18:46:11.842Z"
   },
   {
    "duration": 4,
    "start_time": "2023-08-01T18:47:30.892Z"
   },
   {
    "duration": 84,
    "start_time": "2023-08-01T18:47:47.144Z"
   },
   {
    "duration": 2040,
    "start_time": "2023-08-01T18:49:12.733Z"
   },
   {
    "duration": 5,
    "start_time": "2023-08-01T18:49:14.775Z"
   },
   {
    "duration": 14,
    "start_time": "2023-08-01T18:49:14.781Z"
   },
   {
    "duration": 62,
    "start_time": "2023-08-01T18:49:14.796Z"
   },
   {
    "duration": 12,
    "start_time": "2023-08-01T18:49:14.861Z"
   },
   {
    "duration": 7,
    "start_time": "2023-08-01T18:49:14.874Z"
   },
   {
    "duration": 10,
    "start_time": "2023-08-01T18:49:14.882Z"
   },
   {
    "duration": 303,
    "start_time": "2023-08-01T18:49:14.893Z"
   },
   {
    "duration": 723,
    "start_time": "2023-08-01T18:49:15.198Z"
   },
   {
    "duration": 177,
    "start_time": "2023-08-01T18:49:15.922Z"
   },
   {
    "duration": 1222,
    "start_time": "2023-08-01T18:49:16.102Z"
   },
   {
    "duration": 1103,
    "start_time": "2023-08-01T18:49:17.326Z"
   },
   {
    "duration": 388,
    "start_time": "2023-08-01T18:49:18.431Z"
   },
   {
    "duration": 2,
    "start_time": "2023-08-01T18:49:18.822Z"
   },
   {
    "duration": 5,
    "start_time": "2023-08-01T18:49:18.826Z"
   },
   {
    "duration": 24188,
    "start_time": "2023-08-01T18:49:18.833Z"
   },
   {
    "duration": 99,
    "start_time": "2023-08-01T18:49:43.023Z"
   },
   {
    "duration": 100,
    "start_time": "2023-08-01T18:49:43.124Z"
   },
   {
    "duration": 203,
    "start_time": "2023-08-01T18:49:43.226Z"
   },
   {
    "duration": 10409,
    "start_time": "2023-08-01T18:49:43.430Z"
   },
   {
    "duration": 0,
    "start_time": "2023-08-01T18:57:39.628Z"
   },
   {
    "duration": 0,
    "start_time": "2023-08-01T18:57:39.629Z"
   },
   {
    "duration": 0,
    "start_time": "2023-08-01T18:57:39.631Z"
   },
   {
    "duration": 0,
    "start_time": "2023-08-01T18:57:39.632Z"
   },
   {
    "duration": 0,
    "start_time": "2023-08-01T18:57:39.632Z"
   },
   {
    "duration": 0,
    "start_time": "2023-08-01T18:57:39.633Z"
   },
   {
    "duration": 0,
    "start_time": "2023-08-01T18:57:39.634Z"
   },
   {
    "duration": 0,
    "start_time": "2023-08-01T18:57:39.634Z"
   },
   {
    "duration": 0,
    "start_time": "2023-08-01T18:57:39.635Z"
   },
   {
    "duration": 0,
    "start_time": "2023-08-01T18:57:39.636Z"
   },
   {
    "duration": 0,
    "start_time": "2023-08-01T18:57:39.636Z"
   },
   {
    "duration": 0,
    "start_time": "2023-08-01T18:57:39.637Z"
   },
   {
    "duration": 0,
    "start_time": "2023-08-01T18:57:39.638Z"
   },
   {
    "duration": 0,
    "start_time": "2023-08-01T18:57:39.639Z"
   },
   {
    "duration": 0,
    "start_time": "2023-08-01T18:57:39.640Z"
   },
   {
    "duration": 0,
    "start_time": "2023-08-01T18:57:39.641Z"
   },
   {
    "duration": 0,
    "start_time": "2023-08-01T18:57:39.642Z"
   },
   {
    "duration": 0,
    "start_time": "2023-08-01T19:02:38.029Z"
   },
   {
    "duration": 386149,
    "start_time": "2023-08-01T19:02:40.298Z"
   },
   {
    "duration": 0,
    "start_time": "2023-08-01T19:09:06.449Z"
   },
   {
    "duration": 0,
    "start_time": "2023-08-01T19:09:06.449Z"
   },
   {
    "duration": 0,
    "start_time": "2023-08-01T19:09:06.450Z"
   },
   {
    "duration": 0,
    "start_time": "2023-08-01T19:09:06.451Z"
   },
   {
    "duration": 0,
    "start_time": "2023-08-01T19:09:06.452Z"
   },
   {
    "duration": 0,
    "start_time": "2023-08-01T19:09:06.453Z"
   },
   {
    "duration": 0,
    "start_time": "2023-08-01T19:09:06.455Z"
   },
   {
    "duration": 0,
    "start_time": "2023-08-01T19:09:06.456Z"
   },
   {
    "duration": 0,
    "start_time": "2023-08-01T19:09:06.457Z"
   },
   {
    "duration": 0,
    "start_time": "2023-08-01T19:09:06.457Z"
   },
   {
    "duration": 0,
    "start_time": "2023-08-01T19:09:06.459Z"
   },
   {
    "duration": 0,
    "start_time": "2023-08-01T19:09:06.460Z"
   },
   {
    "duration": 0,
    "start_time": "2023-08-01T19:09:06.461Z"
   },
   {
    "duration": 0,
    "start_time": "2023-08-01T19:09:06.462Z"
   },
   {
    "duration": 0,
    "start_time": "2023-08-01T19:09:06.463Z"
   },
   {
    "duration": 0,
    "start_time": "2023-08-01T19:09:06.463Z"
   },
   {
    "duration": 0,
    "start_time": "2023-08-01T19:09:06.464Z"
   },
   {
    "duration": 0,
    "start_time": "2023-08-01T19:09:06.465Z"
   },
   {
    "duration": 0,
    "start_time": "2023-08-01T19:09:06.466Z"
   },
   {
    "duration": 0,
    "start_time": "2023-08-01T19:09:06.467Z"
   },
   {
    "duration": 0,
    "start_time": "2023-08-01T19:09:06.468Z"
   },
   {
    "duration": 0,
    "start_time": "2023-08-01T19:09:06.469Z"
   },
   {
    "duration": 0,
    "start_time": "2023-08-01T19:09:06.469Z"
   },
   {
    "duration": 1,
    "start_time": "2023-08-01T19:09:06.470Z"
   },
   {
    "duration": 0,
    "start_time": "2023-08-01T19:09:06.520Z"
   },
   {
    "duration": 0,
    "start_time": "2023-08-01T19:09:06.522Z"
   },
   {
    "duration": 0,
    "start_time": "2023-08-01T19:09:06.523Z"
   },
   {
    "duration": 0,
    "start_time": "2023-08-01T19:09:06.524Z"
   },
   {
    "duration": 0,
    "start_time": "2023-08-01T19:09:06.524Z"
   },
   {
    "duration": 0,
    "start_time": "2023-08-01T19:09:06.525Z"
   },
   {
    "duration": 0,
    "start_time": "2023-08-01T19:09:06.526Z"
   },
   {
    "duration": 0,
    "start_time": "2023-08-01T19:09:06.526Z"
   },
   {
    "duration": 0,
    "start_time": "2023-08-01T19:09:06.528Z"
   },
   {
    "duration": 0,
    "start_time": "2023-08-01T19:09:06.531Z"
   },
   {
    "duration": 2110,
    "start_time": "2023-08-01T19:09:12.039Z"
   },
   {
    "duration": 5,
    "start_time": "2023-08-01T19:09:14.151Z"
   },
   {
    "duration": 8,
    "start_time": "2023-08-01T19:09:14.158Z"
   },
   {
    "duration": 66,
    "start_time": "2023-08-01T19:09:14.168Z"
   },
   {
    "duration": 13,
    "start_time": "2023-08-01T19:09:14.236Z"
   },
   {
    "duration": 4,
    "start_time": "2023-08-01T19:09:14.250Z"
   },
   {
    "duration": 6,
    "start_time": "2023-08-01T19:09:14.255Z"
   },
   {
    "duration": 275,
    "start_time": "2023-08-01T19:09:14.262Z"
   },
   {
    "duration": 657,
    "start_time": "2023-08-01T19:09:14.538Z"
   },
   {
    "duration": 167,
    "start_time": "2023-08-01T19:09:15.198Z"
   },
   {
    "duration": 3767,
    "start_time": "2023-08-01T19:09:15.366Z"
   },
   {
    "duration": 3108,
    "start_time": "2023-08-01T19:09:19.135Z"
   },
   {
    "duration": 394,
    "start_time": "2023-08-01T19:09:22.245Z"
   },
   {
    "duration": 3,
    "start_time": "2023-08-01T19:09:22.641Z"
   },
   {
    "duration": 12,
    "start_time": "2023-08-01T19:09:22.646Z"
   },
   {
    "duration": 21076,
    "start_time": "2023-08-01T19:09:22.659Z"
   },
   {
    "duration": 95,
    "start_time": "2023-08-01T19:09:43.738Z"
   },
   {
    "duration": 199,
    "start_time": "2023-08-01T19:09:43.834Z"
   },
   {
    "duration": 102,
    "start_time": "2023-08-01T19:09:44.035Z"
   },
   {
    "duration": 10398,
    "start_time": "2023-08-01T19:09:44.139Z"
   },
   {
    "duration": 3,
    "start_time": "2023-08-01T19:09:54.539Z"
   },
   {
    "duration": 17,
    "start_time": "2023-08-01T19:09:54.543Z"
   },
   {
    "duration": 24,
    "start_time": "2023-08-01T19:09:54.561Z"
   },
   {
    "duration": 21,
    "start_time": "2023-08-01T19:09:54.586Z"
   },
   {
    "duration": 24,
    "start_time": "2023-08-01T19:09:54.608Z"
   },
   {
    "duration": 67,
    "start_time": "2023-08-01T19:09:54.634Z"
   },
   {
    "duration": 9,
    "start_time": "2023-08-01T19:09:54.703Z"
   },
   {
    "duration": 21,
    "start_time": "2023-08-01T19:09:54.715Z"
   },
   {
    "duration": 1568,
    "start_time": "2023-08-01T19:09:54.738Z"
   },
   {
    "duration": 1226,
    "start_time": "2023-08-01T19:09:56.308Z"
   },
   {
    "duration": 5,
    "start_time": "2023-08-01T19:09:57.535Z"
   },
   {
    "duration": 11,
    "start_time": "2023-08-01T19:09:57.541Z"
   },
   {
    "duration": 8,
    "start_time": "2023-08-01T19:09:57.553Z"
   },
   {
    "duration": 12,
    "start_time": "2023-08-01T19:11:10.499Z"
   },
   {
    "duration": 5,
    "start_time": "2023-08-01T19:11:12.393Z"
   },
   {
    "duration": 5,
    "start_time": "2023-08-01T19:11:15.005Z"
   },
   {
    "duration": 8426,
    "start_time": "2023-08-02T07:05:19.135Z"
   },
   {
    "duration": 2026,
    "start_time": "2023-08-02T07:05:27.564Z"
   },
   {
    "duration": 3,
    "start_time": "2023-08-02T07:05:29.592Z"
   },
   {
    "duration": 327,
    "start_time": "2023-08-02T07:05:29.597Z"
   },
   {
    "duration": 18,
    "start_time": "2023-08-02T07:05:29.930Z"
   },
   {
    "duration": 113,
    "start_time": "2023-08-02T07:05:29.951Z"
   },
   {
    "duration": 97,
    "start_time": "2023-08-02T07:05:30.066Z"
   },
   {
    "duration": 554,
    "start_time": "2023-08-02T07:05:30.165Z"
   },
   {
    "duration": 859,
    "start_time": "2023-08-02T07:05:30.728Z"
   },
   {
    "duration": 220,
    "start_time": "2023-08-02T07:05:31.590Z"
   },
   {
    "duration": 4721,
    "start_time": "2023-08-02T07:05:31.815Z"
   },
   {
    "duration": 3175,
    "start_time": "2023-08-02T07:05:36.544Z"
   },
   {
    "duration": 6,
    "start_time": "2023-08-02T07:05:43.076Z"
   },
   {
    "duration": 332,
    "start_time": "2023-08-02T07:05:49.889Z"
   },
   {
    "duration": 6,
    "start_time": "2023-08-02T07:16:50.934Z"
   },
   {
    "duration": 346,
    "start_time": "2023-08-02T07:19:18.189Z"
   },
   {
    "duration": 266,
    "start_time": "2023-08-02T07:20:49.351Z"
   },
   {
    "duration": 351,
    "start_time": "2023-08-02T07:21:49.350Z"
   }
  ],
  "kernelspec": {
   "display_name": "Python 3 (ipykernel)",
   "language": "python",
   "name": "python3"
  },
  "language_info": {
   "codemirror_mode": {
    "name": "ipython",
    "version": 3
   },
   "file_extension": ".py",
   "mimetype": "text/x-python",
   "name": "python",
   "nbconvert_exporter": "python",
   "pygments_lexer": "ipython3",
   "version": "3.9.5"
  },
  "toc": {
   "base_numbering": 1,
   "nav_menu": {},
   "number_sections": true,
   "sideBar": true,
   "skip_h1_title": true,
   "title_cell": "Содержание",
   "title_sidebar": "Contents",
   "toc_cell": true,
   "toc_position": {},
   "toc_section_display": true,
   "toc_window_display": true
  }
 },
 "nbformat": 4,
 "nbformat_minor": 2
}
